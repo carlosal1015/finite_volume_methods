{
 "cells": [
  {
   "cell_type": "markdown",
   "metadata": {
    "slideshow": {
     "slide_type": "skip"
    }
   },
   "source": [
    "<table>\n",
    " <tr align=left><td><img align=left src=\"./images/CC-BY.png\">\n",
    " <td>Text provided under a Creative Commons Attribution license, CC-BY. All code is made available under the FSF-approved MIT license. (c) Kyle T. Mandli</td>\n",
    "</table>"
   ]
  },
  {
   "cell_type": "code",
   "execution_count": null,
   "metadata": {
    "slideshow": {
     "slide_type": "skip"
    }
   },
   "outputs": [],
   "source": [
    "from __future__ import print_function\n",
    "\n",
    "%matplotlib inline\n",
    "import numpy\n",
    "import matplotlib.pyplot as plt\n",
    "import matplotlib.animation\n",
    "from IPython.display import HTML\n",
    "\n",
    "import os\n",
    "import pyclaw\n",
    "path = os.path.join(os.environ.get(\"CLAW\", os.getcwd()), \"pyclaw\", \"fvmbook\", \"chap6\")\n",
    "os.chdir(path)\n",
    "import advection"
   ]
  },
  {
   "cell_type": "markdown",
   "metadata": {
    "slideshow": {
     "slide_type": "slide"
    }
   },
   "source": [
    "# Boundary Conditions\n",
    "\n",
    "Up until now we have yet to address a way to enfore boundary conditions on our methods.  In this lecture we will address this and study how we might handle both simple and complex boundary conditions."
   ]
  },
  {
   "cell_type": "markdown",
   "metadata": {
    "slideshow": {
     "slide_type": "subslide"
    }
   },
   "source": [
    "The primary way we will implement boundary conditions is by adding **ghost cells** to the domain.  These cells are outside of the domain and can be set arbitrarily to enforce many types of boundary conditions depending on what is desired.  Keep in mind a couple of things though:\n",
    "\n",
    "1. For many hyperbolic PDEs we only need BCs on one end of the domain.\n",
    "1. Enforcing non-reflecting BCs is important for many applications is highly non-trivial.\n",
    "1. Setting BCs may require the solution of more complex equations so that an incoming boundary condition is correctly set.\n",
    "\n",
    "The rest of this lecture will use examples to illustrate different BCs."
   ]
  },
  {
   "cell_type": "markdown",
   "metadata": {
    "slideshow": {
     "slide_type": "slide"
    }
   },
   "source": [
    "## Example:  Advection\n",
    "\n",
    "Consider the scalar advection equation $q_t + u q_x$ on $x\\in[a,b]$ with BC\n",
    "$$\n",
    "    q(a, t) = g_a(t)\n",
    "$$\n",
    "that can easily be generalized to also be at $x=b$.  Note also that we only have one BC needed."
   ]
  },
  {
   "cell_type": "markdown",
   "metadata": {
    "slideshow": {
     "slide_type": "subslide"
    }
   },
   "source": [
    "### Outflow Boundary Conditions\n",
    "\n",
    "Analytically we have no BC at $x = b$ and if we simply use an upwind method we do not need one numerically.  However, if we are using a Lax-Wendroff like method we still require a value at $x=b$ to be specified.  One of the easiest ways to specify this is to use **zero-order extrapolation** boundary conditions defined by\n",
    "$$\n",
    "    Q^n_{N+1} = Q^n_N \\quad Q^n_{N+2} = Q^n_N.\n",
    "$$\n",
    "This formulation then implies that the gradient outside of the domain is zero and that in most cases any wave approaching the boundary will simply propagate out of the domain."
   ]
  },
  {
   "cell_type": "markdown",
   "metadata": {
    "slideshow": {
     "slide_type": "subslide"
    }
   },
   "source": [
    "What about the case where we may want to use a first-order extrapolation given by\n",
    "$$\n",
    "    Q^n_{N+1} = Q^n_N + (Q^n_N - Q^n_{N-1} ) = 2 Q^n_{N} - Q^n_{N-1}?\n",
    "$$\n",
    "This leads to $\\Delta Q^n_{N+1/2} = \\Delta Q^n_{N-1/2}$ and the correction terms cancel leading to an update that again reduces to first-order upwind."
   ]
  },
  {
   "cell_type": "markdown",
   "metadata": {
    "slideshow": {
     "slide_type": "subslide"
    }
   },
   "source": [
    "This extrapolation seems simplistic but turns out to be extremely powerful.  This extrapolation, in conjunction with our finite volume methods and characteristic decomposition, tend to be very robust when considering non-reflecting boundary conditions.  In fact first-order extrapolation can even lead to issues not found in the zero-order extrapolation and is generally not used."
   ]
  },
  {
   "cell_type": "markdown",
   "metadata": {
    "slideshow": {
     "slide_type": "subslide"
    }
   },
   "source": [
    "### Inflow Boundary Conditions\n",
    "\n",
    "At the inflow boundary it is a bit more clear what to do.  Depending on how the BC is specified there are multiple ways to numerically represent the BC.  The most straight forward perhaps is the case when a direct flux is specified that would easily integrate into the methods discussed already."
   ]
  },
  {
   "cell_type": "markdown",
   "metadata": {
    "slideshow": {
     "slide_type": "subslide"
    }
   },
   "source": [
    "Based off of this we could want to integrate along the boundary such that\n",
    "$$\\begin{aligned}\n",
    "    F^n_{1/2} &= \\frac{1}{\\Delta t} \\int^{t_{n+1}}_{t_n} u q(a, t) dt \\\\\n",
    "    &=\\frac{u}{\\Delta t} \\int^{t_{n+1}}_{t_n} g_a(t) dt\n",
    "\\end{aligned}$$\n",
    "or\n",
    "$$\n",
    "    F^n_{1/2} = u g_a(t_n + \\Delta t / 2)\n",
    "$$\n",
    "as an approximation."
   ]
  },
  {
   "cell_type": "markdown",
   "metadata": {
    "slideshow": {
     "slide_type": "subslide"
    }
   },
   "source": [
    "One draw back to the flux integration approach is that we may need to have fluxes also specified further from the boundary for larger stencil methods."
   ]
  },
  {
   "cell_type": "markdown",
   "metadata": {
    "slideshow": {
     "slide_type": "subslide"
    }
   },
   "source": [
    "What if instead we tried to find a way to directly specify the values for $Q$ in the ghost cells?  This allows the method that we are using interior to the domain to be applied everywhere where we have two cells sharing a boundary.  For instance\n",
    "$$\n",
    "    Q^n_0 = \\frac{1}{\\Delta x} \\int^a_{a - \\Delta x} q(x, t_n) dx.\n",
    "$$\n",
    "The drawback here is that we do not know in general $q(x, t_n)$."
   ]
  },
  {
   "cell_type": "markdown",
   "metadata": {
    "slideshow": {
     "slide_type": "subslide"
    }
   },
   "source": [
    "Instead we can use the fact we know the characteristics as they head into the domain.  We could for instance use\n",
    "$$\\begin{aligned}\n",
    "    q(x, t_n) &= q(a, t_n + (a -x) / u)\\\\\n",
    "    &= g_a(t_n + (a - x) / u)\n",
    "\\end{aligned}$$\n",
    "leading to\n",
    "$$\\begin{aligned}\n",
    "    Q^n_0 &= \\frac{1}{\\Delta x} \\int^a_{a - \\Delta x} g_a\\left( t_n + \\frac{a - x}{u} \\right ) dx \\\\\n",
    "    &= \\frac{u}{\\Delta x} \\int^{t_n + \\Delta x / u}_{t_n} g_a(\\tau) d\\tau\n",
    "\\end{aligned}$$\n",
    "We can again approximate these integrals with higher-order approximations."
   ]
  },
  {
   "cell_type": "markdown",
   "metadata": {
    "slideshow": {
     "slide_type": "slide"
    }
   },
   "source": [
    "## Example:  Acoustics\n",
    "\n",
    "Systems of equations are slightly more complex to specify BCs for but follow a similar pattern.  There are also special types of BCs that can arise for systems for which we will discuss.  We will use the linear acoustics equations for this discussion."
   ]
  },
  {
   "cell_type": "markdown",
   "metadata": {
    "slideshow": {
     "slide_type": "subslide"
    }
   },
   "source": [
    "Recall that the acoustics equations linearized around a state where $u=0$ takes the form\n",
    "$$\\begin{aligned}\n",
    "    &p_t + K_0 u_x = 0 \\\\\n",
    "    \\rho_0 &u_t + p_x = 0\n",
    "\\end{aligned}$$\n",
    "and has characteristic variables\n",
    "$$\\begin{aligned}\n",
    "    w^1(x,t) &= \\frac{1}{2 Z_0} (-p + Z_0 u) \\\\\n",
    "    w^2(x,t) &= \\frac{1}{2 Z_0} (p + Z_0 u)\n",
    "\\end{aligned}$$"
   ]
  },
  {
   "cell_type": "markdown",
   "metadata": {
    "slideshow": {
     "slide_type": "subslide"
    }
   },
   "source": [
    "### Non-Reflecting Boundary Conditions\n",
    "\n",
    "**Non-reflecting boundary conditions**, also called **absorbing boundary conditions**, are useful when you would like to have waves that leave a finite domain to not impact what is going on interior to the domain.  One good example of this is when you want an infinite domain, such as the case with a Cauchy problem, but of course cannot represent this in a numerical example.  The non-reflecting boundary conditions will preserve the steady state solution that would evolve between say waves moving in opposite directions.  Let us study this in the context of the acoustics equations."
   ]
  },
  {
   "cell_type": "markdown",
   "metadata": {
    "slideshow": {
     "slide_type": "subslide"
    }
   },
   "source": [
    "With Godunov-type methods that solve a Riemann problem it turns out that zero-order extrapolation works well as non-reflecting boundary conditions.  One way to see that this is indeed a good idea is to consider the update formulas in terms of the characteristic variables:\n",
    "$$\n",
    "    W^1 = \\frac{-Q^1 + Z_0 Q^2}{2 Z_0} \\\\\n",
    "    W^2 = \\frac{Q^1 + Z_0 Q^2}{2 Z_0}.\n",
    "$$\n",
    "This separation into characteristic fields then has the same properties as the scalar advection case.  This also leads to the conclusion that\n",
    "$$\n",
    "    Q^n_0 = Q^n_1 \\quad \\quad Q^n_{-1} = Q^n_1.\n",
    "$$\n",
    "Note that this causes the gradient to be zero and therefore the flux."
   ]
  },
  {
   "cell_type": "markdown",
   "metadata": {
    "slideshow": {
     "slide_type": "subslide"
    }
   },
   "source": [
    "### Incoming Waves\n",
    "\n",
    "Say we want to impose the boundary condition\n",
    "$$\n",
    "    w^2(a, t) = \\sin(\\omega t)\n",
    "$$\n",
    "without any reflection of waves hitting this boundary.  Decomposing $Q_1$ into the characteristic variables such that\n",
    "$$\n",
    "    Q_1 = W^1_1 r^1 + W^2_1 r^2\n",
    "$$\n",
    "then the ghost cell should be set to\n",
    "$$\n",
    "    Q_0 = W^1_1 r^1 + \\sin(\\omega(t_n + \\Delta x / 2 c_0)) r^2.\n",
    "$$"
   ]
  },
  {
   "cell_type": "markdown",
   "metadata": {
    "slideshow": {
     "slide_type": "subslide"
    }
   },
   "source": [
    "If we want to generalize this to a system of equations with the boundary condition of $g_a(t)$ then we can also write\n",
    "$$\n",
    "    Q_0 = Q_1 + \\left [g_a(t_n + \\Delta x / 2 \\lambda^j) - W^j_1\\right ] r^j.\n",
    "$$"
   ]
  },
  {
   "cell_type": "markdown",
   "metadata": {
    "slideshow": {
     "slide_type": "subslide"
    }
   },
   "source": [
    "### Solid Walls\n",
    "\n",
    "A particular type of boundary condition comes up often in fluid dynamics, that of a solid wall.  If we consider a tube of gas that has a wall at one end we would expect a sound wave to reflect off of the end of the tube with the wall and reverse its direction.  The effective solid wall boundary condition should be then\n",
    "$$\n",
    "    u(a, t) = 0.\n",
    "$$"
   ]
  },
  {
   "cell_type": "markdown",
   "metadata": {
    "slideshow": {
     "slide_type": "subslide"
    }
   },
   "source": [
    "The key to enforcing a wall boundary condition is to observe that if we set the ghost cell value to an equivalent value for the pressure but an opposite $u$ that this will satisfy the above condition.  In other words\n",
    "$$\n",
    "    p^0(a - \\xi) = p^0(a + \\xi) \\\\\n",
    "    u^0(a - \\xi) = -u^0(a + \\xi)\n",
    "$$"
   ]
  },
  {
   "cell_type": "markdown",
   "metadata": {
    "slideshow": {
     "slide_type": "subslide"
    }
   },
   "source": [
    "This then suggests that we set the ghost cells to\n",
    "$$\n",
    "    Q_0 = \\begin{bmatrix} p_0 \\\\ u_0 \\end{bmatrix} = \\begin{bmatrix} p_1 \\\\ -u_1 \\end{bmatrix} \\\\\n",
    "    Q_{-1} = \\begin{bmatrix} p_{-1} \\\\ u_{-1} \\end{bmatrix} = \\begin{bmatrix} p_2 \\\\ -u_2 \\end{bmatrix}\n",
    "$$"
   ]
  },
  {
   "cell_type": "markdown",
   "metadata": {
    "slideshow": {
     "slide_type": "subslide"
    }
   },
   "source": [
    "### Oscillating Walls\n",
    "\n",
    "Instead of a solid wall we may want to specify a wall that is oscillating.  This could represent a source of acoustic waves, such as a speaker.  Here we will only consider small amplitude motions."
   ]
  },
  {
   "cell_type": "markdown",
   "metadata": {
    "slideshow": {
     "slide_type": "subslide"
    }
   },
   "source": [
    "Consider again the fixed domain $x \\in [a, b]$ with the boundary condition\n",
    "$$\n",
    "    u(a, t) = U(t).\n",
    "$$\n",
    "Note that this will degenerate into our solid wall case if $U(t) = 0$."
   ]
  },
  {
   "cell_type": "markdown",
   "metadata": {
    "slideshow": {
     "slide_type": "subslide"
    }
   },
   "source": [
    "Consider a single frequency oscillation prescribed by\n",
    "$$\n",
    "    U(t) = \\epsilon \\sin(\\omega t) \\quad \\epsilon \\ll 1.\n",
    "$$\n",
    "Using what we had from before to prescribe the boundary condition we could then specify\n",
    "$$\n",
    "    Q_0 = \\begin{bmatrix} p_0 \\\\ u_0 \\end{bmatrix} = \\begin{bmatrix} p_1 \\\\ 2 U(t_n) - u_1 \\end{bmatrix} \\\\\n",
    "    Q_{-1} = \\begin{bmatrix} p_{-1} \\\\ u_{-1} \\end{bmatrix} = \\begin{bmatrix} p_2 \\\\ 2 U(t_n)-u_2 \\end{bmatrix}\n",
    "$$"
   ]
  },
  {
   "cell_type": "markdown",
   "metadata": {
    "slideshow": {
     "slide_type": "slide"
    }
   },
   "source": [
    "## Periodic Boundary Conditions\n",
    "\n",
    "Last but not least we also have periodic BCs to cover.  This is perhaps the easiest of the BCs to specify where with our previous definitions set\n",
    "$$\n",
    "    Q^n_{-1} = Q^n_{N-1} \\quad Q^n_0 = Q^n_N \\quad Q^n_{N+1} = Q^n_1 \\quad Q^n_{N+2} Q^n_2.\n",
    "$$"
   ]
  }
 ],
 "metadata": {
  "celltoolbar": "Slideshow",
  "kernelspec": {
   "display_name": "Python 3",
   "language": "python",
   "name": "python3"
  },
  "language_info": {
   "codemirror_mode": {
    "name": "ipython",
    "version": 3
   },
   "file_extension": ".py",
   "mimetype": "text/x-python",
   "name": "python",
   "nbconvert_exporter": "python",
   "pygments_lexer": "ipython3",
   "version": "3.9.8"
  }
 },
 "nbformat": 4,
 "nbformat_minor": 2
}
