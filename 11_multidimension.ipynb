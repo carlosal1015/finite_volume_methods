{
 "cells": [
  {
   "cell_type": "markdown",
   "metadata": {
    "slideshow": {
     "slide_type": "skip"
    }
   },
   "source": [
    "<table>\n",
    " <tr align=left><td><img align=left src=\"./images/CC-BY.png\">\n",
    " <td>Text provided under a Creative Commons Attribution license, CC-BY. All code is made available under the FSF-approved MIT license. (c) Kyle T. Mandli</td>\n",
    "</table>"
   ]
  },
  {
   "cell_type": "code",
   "execution_count": 1,
   "metadata": {
    "slideshow": {
     "slide_type": "skip"
    }
   },
   "outputs": [],
   "source": [
    "from __future__ import print_function\n",
    "\n",
    "%matplotlib inline\n",
    "\n",
    "import numpy\n",
    "import matplotlib.pyplot as plt\n",
    "import matplotlib.animation\n",
    "\n",
    "from IPython.display import HTML\n",
    "from clawpack import pyclaw\n",
    "from clawpack import riemann"
   ]
  },
  {
   "cell_type": "markdown",
   "metadata": {
    "slideshow": {
     "slide_type": "slide"
    }
   },
   "source": [
    "# Multidimensional Problems\n",
    "\n",
    "We now will consider multidimensional hyperbolic PDEs of the form\n",
    "$$\n",
    "    q_t + f(q)_x + g(q)_y = 0\n",
    "$$\n",
    "in conservation form and in the quasilinear form\n",
    "$$\n",
    "    q_t + A(q, x, y, t) q_x + B(q, x, y, t) q_y = 0.\n",
    "$$\n",
    "Analogously we have\n",
    "$$\n",
    "    q_t + f(q)_x + g(q)_y + h(q)_z = 0\n",
    "$$\n",
    "in three dimensions."
   ]
  },
  {
   "cell_type": "markdown",
   "metadata": {
    "slideshow": {
     "slide_type": "slide"
    }
   },
   "source": [
    "## Derivation of Conservation Laws\n",
    "\n",
    "Similar to the 1 dimensional case we consider some conserved quantity inside of a spatial domain $\\Omega$ and consider the time change in the quantity inside of the domain.  This is commonly written as\n",
    "$$\n",
    "    \\frac{\\text{d}}{\\text{d} t} \\int \\int_\\Omega q(x, y, t) dx dy = \\text{net flux across } \\partial \\Omega\n",
    "$$\n",
    "where $\\partial \\Omega$ is the boundary of $\\Omega$.\n",
    "\n",
    "If $f(q)$ is the flux across the boundary in the x-direction with units of per unit length in $t$ and per unit time then we will consider an interval (x_0, y_0) \\times (x_0, y_0 + \\Delta y) over time $\\Delta t$ leading to\n",
    "$$\n",
    "    \\Delta t \\Delta y f(q(x_0, y_0, t))\n",
    "$$\n",
    "for $\\Delta y$ and $\\Delta t$ sufficiently small.  The same follows for the y-direction."
   ]
  },
  {
   "cell_type": "markdown",
   "metadata": {
    "slideshow": {
     "slide_type": "subslide"
    }
   },
   "source": [
    "Generalizing these ideas let\n",
    "$$\n",
    "    \\vec{~f}(q) = (f(q), g(q))\n",
    "$$\n",
    "be the flux vector and\n",
    "$$\n",
    "    \\vec{~n}(s) = (n^x(s), n^y(s))\n",
    "$$\n",
    "be the outward-pointing unit normal vector to $\\partial \\Omega$ as some point $\\vec{~x}(s) = (x(s), y(s))$ on $\\partial \\Omega$ ($s$ is usually taken to be the arc-length parameterization on $\\partial \\Omega$).  Then the flux in the direction of $\\vec{~n}(s)$ is\n",
    "$$\n",
    "    \\vec{~n}(s) \\cdot \\vec{~f}(q(x(s), y(s), t))\n",
    "$$\n",
    "and therefore we have\n",
    "$$\\begin{aligned}\n",
    "    \\frac{\\text{d}}{\\text{d} t} \\int \\int_\\Omega q(x, y, t) dx dy &= \\text{net flux across } \\partial \\Omega \\\\\n",
    "    &= - \\int_{\\partial \\Omega} \\vec{~n}(s) \\cdot \\vec{~f}(q) ds \\\\\n",
    "    &= - \\int \\int_{\\Omega} \\vec{~\\nabla} \\cdot \\vec{~f}(q) dx dy\n",
    "\\end{aligned}$$\n",
    "where we have assumed that $q$ is smooth in the last step and used the divergence theorem.  This of course then leads to\n",
    "$$\n",
    "    \\int \\int_\\Omega [q_t + \\vec{~\\nabla} \\cdot \\vec{~f}(q)] dx dy = 0\n",
    "$$\n",
    "and therefore the strong form of the conservation law."
   ]
  },
  {
   "cell_type": "markdown",
   "metadata": {
    "slideshow": {
     "slide_type": "subslide"
    }
   },
   "source": [
    "Simplifying this a bit let's consider a more specific region $\\Omega = (x_{i-1}, x_{i}) \\times (y_{j-1}, y_j)$. Now it's much more clear that we need to integrate the flux $f(q)$ over the faces aligned with $x_{i-1}$ and $x_i$ and the flux $g(q)$ over the faces with $y_{j-1}$ and $y_j$ leading to\n",
    "$$\n",
    "    \\frac{\\text{d}}{\\text{d} t} \\int^{y_j}_{y_{j-1}} \\int^{x_i}_{x_{i-1}} q(x, y, t) dx dy = \\int^{y_j}_{y_{j-1}} (f(q(x_{i-1}, y, t) - f(q(x_i, y, t)) dy + \\int^{x_i}_{x_{i-1}} (g(q(x, y_{j-1}, t) - g(q(x, y_j, t)) dx.\n",
    "$$\n",
    "Again for smooth situations this can be rewritten using the FTC as the strong form from before."
   ]
  },
  {
   "cell_type": "markdown",
   "metadata": {
    "slideshow": {
     "slide_type": "slide"
    }
   },
   "source": [
    "## Advection\n",
    "\n",
    "For advection with possibly variable speeds we have the fluxes\n",
    "$$\n",
    "    f = u(x, y, t) q(x, y, t) \\quad \\text{and} \\quad g = v(x, y, t) q(x, y, t)\n",
    "$$\n",
    "so that we have\n",
    "$$\n",
    "    q_t + (uq)_x + (vq)_y = 0.\n",
    "$$\n",
    "This of course simplifies if $u$ and $v$ are independent of space and time so that we know the solution is\n",
    "$$\n",
    "    q(x, y, t) = q(x - u t, y - v t, 0).\n",
    "$$"
   ]
  },
  {
   "cell_type": "markdown",
   "metadata": {
    "slideshow": {
     "slide_type": "subslide"
    }
   },
   "source": [
    "### Acoustics\n",
    "\n",
    "As an example of a system of linear system of equations let's again consider the acoustics system.  We again have perturbations from some rest state defined by $q_0$ such that\n",
    "$$\n",
    "    q_t + f'(q_0) q_x + g'(q_0) q_y = 0\n",
    "$$\n",
    "where now $q$ is the perturbation to $q_0$.  The Jacobians with $u_0 = v_0 = 0$ then are\n",
    "$$\n",
    "    f'(q_0) = \\begin{bmatrix}\n",
    "        0 & 1 & 0 \\\\\n",
    "        P'(\\rho_0) & 0 & 0 \\\\\n",
    "        0 & 0 & 0\n",
    "    \\end{bmatrix} \\quad g'(q_0) = \\begin{bmatrix}\n",
    "        0 & 0 & 1 \\\\\n",
    "        0 & 0 & 0 \\\\\n",
    "        P'(\\rho_0) & 0 & 0 \\\\\n",
    "    \\end{bmatrix}.\n",
    "$$\n",
    "This system can then be written as\n",
    "$$\n",
    "    q_t + A q_x + B q_y = 0\n",
    "$$\n",
    "where\n",
    "$$\n",
    "    q = \\begin{bmatrix} p \\\\ u \\\\ v \\end{bmatrix} \\quad\n",
    "    A = \\begin{bmatrix}\n",
    "        0 & K_0 & 0 \\\\\n",
    "        \\frac{1}{\\rho_0} & 0 & 0 \\\\\n",
    "        0 & 0 & 0\n",
    "    \\end{bmatrix} \\quad B = \\begin{bmatrix}\n",
    "        0 & 0 & K_0 \\\\\n",
    "        0 & 0 & 0 \\\\\n",
    "        \\frac{1}{\\rho_0} & 0 & 0 \\\\\n",
    "    \\end{bmatrix}.\n",
    "$$"
   ]
  },
  {
   "cell_type": "markdown",
   "metadata": {
    "slideshow": {
     "slide_type": "slide"
    }
   },
   "source": [
    "## Hyperbolicity\n",
    "\n",
    "In multiple spatial dimensions it is not entirely clear how to extend our notion of hyperbolicity to one dimension to multiple.  It turns out we need the condition that the matrices $A$ and $B$ are both diagonalizable with real eigenvalues but also that any combination of these matrices have the same condition.\n",
    "\n",
    "Why might this latter condition be needed?"
   ]
  },
  {
   "cell_type": "markdown",
   "metadata": {
    "slideshow": {
     "slide_type": "subslide"
    }
   },
   "source": [
    "The critical addition here is that we want wave-like behavior not only in the coordinate aligned directions but in any direction.  The other way to look at this is that an affine transformation of the coordinate axes should not change the nature of the problem (by a rotation for instance).\n",
    "\n",
    "This can be formalized by saying that for any $\\vec{~n}$ that waves should propagate as\n",
    "$$\n",
    "    q(x, y, t) = \\widetilde{q}(\\vec{~n} \\cdot \\vec{~x} - s t).\n",
    "$$\n",
    "This also requires then that\n",
    "$$\n",
    "    \\widetilde{A} \\widetilde{q}(\\vec{~n} \\cdot \\vec{~x} - s t) = s \\widetilde{q}(\\vec{~n} \\cdot \\vec{~x} - s t)\n",
    "$$\n",
    "where\n",
    "$$\n",
    "    \\widetilde{A} = \\vec{~n} \\cdot \\vec{~A} = n^x A + n^y B.\n",
    "$$"
   ]
  },
  {
   "cell_type": "markdown",
   "metadata": {
    "slideshow": {
     "slide_type": "subslide"
    }
   },
   "source": [
    "This then leads to the following definition for hyperbolicity:\n",
    "\n",
    "The constant-coefficient system \n",
    "$$\n",
    "    q_t + A q_x + B q_y = 0\n",
    "$$ \n",
    "is (strongly) **hyperbolic** if, for every choice of $\\vec{~n}$, the matrix $\\vec{~A} = \\vec{~n} \\cdot \\vec{~A}$ is diagonalizable with real eigenvalues.  The quasilinear system \n",
    "$$\n",
    "    q_t + f'(q) q_x + g'(q) q_y = 0\n",
    "$$\n",
    "is **hyperbolic** in some region of state space if the Jacobian matrix\n",
    "$$\n",
    "    \\widetilde{f}'(q) = \\vec{~n} \\cdot \\vec{~f}(q) = n^x f'(q) + n^y g'(q)\n",
    "$$\n",
    "is diagonalizable with real eigenvalues for every $\\vec{~n}$, for all $q$ in the region."
   ]
  },
  {
   "cell_type": "markdown",
   "metadata": {
    "slideshow": {
     "slide_type": "subslide"
    }
   },
   "source": [
    "Let's now check to see that this makes sense.  If we know that the matrices are diagonalizable then we know that for a given coordinate system that\n",
    "$$\n",
    "    A = R^x \\Lambda^x (R^x)^{-1} \\quad B = R^y \\Lambda^y (R^y)^{-1}\n",
    "$$\n",
    "meaning that we cannot simply transform the equations into the characteristic variables.  If the eigensystem has the same eigenvectors then we could do this leading to\n",
    "$$\n",
    "    w_t + \\Lambda^x w_x + \\Lambda^y w_y = 0\n",
    "$$\n",
    "leading to something similar from the 1-dimensional case.  Unfortunately this is often not the case."
   ]
  },
  {
   "cell_type": "markdown",
   "metadata": {
    "slideshow": {
     "slide_type": "slide"
    }
   },
   "source": [
    "## Shallow Water Equations\n",
    "\n",
    "In two space dimensions the shallow water equations are\n",
    "$$\\begin{aligned}\n",
    "    &h_t + (hu)_x + (hv)_y = 0 \\\\\n",
    "    &(hu)_t + \\left( hu^2 + \\frac{1}{2} g h^2 \\right)_x + (huv)_y = 0 \\\\\n",
    "    &(hv)_t + (huv)_x + \\left( hv^2 + \\frac{1}{2} g h^2 \\right)_y = 0\n",
    "\\end{aligned}$$\n",
    "leading to the Jacobians\n",
    "$$\n",
    "    f'(q) = \\begin{bmatrix}\n",
    "        0 & 1 & 0 \\\\\n",
    "        -u^2 + gh & 2u & 0 \\\\\n",
    "        -uv & v & u\n",
    "    \\end{bmatrix} \\quad g'(q) = \\begin{bmatrix}\n",
    "        0 & 0 & 1 \\\\\n",
    "        -uv & v & u \\\\\n",
    "        -v^2 + gh & 0 & 2v\n",
    "    \\end{bmatrix}.\n",
    "$$"
   ]
  },
  {
   "cell_type": "markdown",
   "metadata": {
    "slideshow": {
     "slide_type": "subslide"
    }
   },
   "source": [
    "The eigenproblem then leads to\n",
    "$$\n",
    "    \\Lambda^x = \\begin{bmatrix}\n",
    "        u - \\sqrt{gh} & 0 & 0 \\\\\n",
    "        0 & u & 0 \\\\\n",
    "        0 & 0 & u + \\sqrt{gh}\n",
    "    \\end{bmatrix} \\quad \\Lambda^y = \\begin{bmatrix}\n",
    "        v - \\sqrt{gh} & 0 & 0 \\\\\n",
    "        0 & v & 0 \\\\\n",
    "        0 & 0 & v + \\sqrt{gh}\n",
    "    \\end{bmatrix}\n",
    "$$\n",
    "and\n",
    "$$\n",
    "    R^x = \\begin{bmatrix}\n",
    "        1 & 0 & 1 \\\\\n",
    "        u - \\sqrt{gh} & 0 & u + \\sqrt{gh} \\\\\n",
    "        v & 1 & v\n",
    "    \\end{bmatrix} \\quad R^y = \\begin{bmatrix}\n",
    "        1 & 0 & 1 \\\\\n",
    "        u & -1 & u \\\\\n",
    "        v - \\sqrt{gh} & 0 & v + \\sqrt{gh}\n",
    "    \\end{bmatrix}\n",
    "$$"
   ]
  },
  {
   "cell_type": "markdown",
   "metadata": {
    "slideshow": {
     "slide_type": "slide"
    }
   },
   "source": [
    "# Numerical Methods for Multiple Dimensions\n",
    "\n",
    "We now aim to approximate the cell average\n",
    "$$\n",
    "    Q^n_{ij} \\approx \\frac{1}{\\Delta x \\Delta y} \\int^{y_{j+1/2}}_{y_{j-1/2}} \\int^{x_{i+1/2}}_{x_{i-1/2}} q(x, y, t_n) dx dy\n",
    "$$"
   ]
  },
  {
   "cell_type": "markdown",
   "metadata": {
    "slideshow": {
     "slide_type": "slide"
    }
   },
   "source": [
    "## Finite Difference Methods\n",
    "\n",
    "It can be useful at this juncture to review some of the multi-dimensional methods for finite differences.  Here instead of the goal of approximating cell averages we are approximating the point-wise approximations with\n",
    "$$\n",
    "    Q^n_{ij} \\approx q(x_i, y_j, t_n).\n",
    "$$"
   ]
  },
  {
   "cell_type": "markdown",
   "metadata": {
    "slideshow": {
     "slide_type": "subslide"
    }
   },
   "source": [
    "### Taylor-Series Expansions\n",
    "\n",
    "Taylor-series usually is the start of any analysis for finite difference methods and this is no different.  Consider the linear hyperbolic system\n",
    "$$\n",
    "    q_t + A q_x + B q_y = 0.\n",
    "$$\n",
    "Assuming appropriate smoothness we can derive relationships using the equation itself.  The general expression can be rewritten as a recursive operator as\n",
    "$$\n",
    "    \\partial_t^{(j)} q = [ - (A \\partial_x + B \\partial_y )]^{j} q\n",
    "$$\n",
    "so that for instance we can find the second time derivative as\n",
    "$$\n",
    "    q_{tt} = A^2 q_{xx} + A B q_{yx} + B A q_{xy} + B^2 q_{yy}.\n",
    "$$\n",
    "Note that in general we can permute the matrices however derivative order can due our assumption of smoothness."
   ]
  },
  {
   "cell_type": "markdown",
   "metadata": {
    "slideshow": {
     "slide_type": "subslide"
    }
   },
   "source": [
    "$$\n",
    "    q_{tt} = A^2 q_{xx} + A B q_{yx} + B A q_{xy} + B^2 q_{yy}\n",
    "$$\n",
    "From here we can build the time derivative as\n",
    "$$\\begin{aligned}\n",
    "    q(x_i, y_j, t_n + \\Delta t) &= q + \\Delta t q_t + \\frac{\\Delta t^2}{2} q_{tt} + \\cdots \\\\\n",
    "    &= q - \\Delta t (A q_x + B q_y) + \\frac{\\Delta t^2}{2} \\left( A^2 q_{xx} + A B q_{yx} + B A q_{xy} + B^2 q_{yy} \\right) + \\cdots\n",
    "\\end{aligned}$$\n",
    "This generally holds unless $A$ and $B$ also vary with $x$ and $y$, which then leads to the expression\n",
    "$$\n",
    "    q_{tt} = A (A q_{x})_x + A (B q_{y})_x + B (A q_{x})_y + B (B q_{y})_y\n",
    "$$\n",
    "instead."
   ]
  },
  {
   "cell_type": "markdown",
   "metadata": {
    "slideshow": {
     "slide_type": "subslide"
    }
   },
   "source": [
    "### The Lax-Wendroff Method\n",
    "\n",
    "We can now take this expression and using centered finite differences discretize the derivatives.  The trickier now though is that we have cross-derivative terms.  For the second derivatives we have the common centered difference of\n",
    "$$\n",
    "    q_{yy} = \\frac{1}{\\Delta y^2} (Q^n_{i,j-1} - 2 Q^n_{ij} + Q^n_{i,j+1}).\n",
    "$$\n",
    "For the cross-derivatives we then have\n",
    "$$\n",
    "    q_{xy} = q_{yx} \\approx \\frac{1}{4 \\Delta x \\Delta y} [(Q^n_{i+1,j+1} - Q^n_{i-1, j+1}) - (Q^n_{i+1,j-1} - Q^n_{i-1, j-1})]\n",
    "$$\n",
    "that are centered derivatives applied in each directions.  This leads to the final approximation of\n",
    "$$\\begin{aligned}\n",
    "    Q^{n+1}_{ij} &= Q^n_{ij} - \\frac{\\Delta t}{2 \\Delta x} A (Q^n_{i+1,j} - Q^n_{i-1, j}) - \\frac{\\Delta t}{2 \\Delta y} B (Q^n_{i, j+1} - Q^n_{i, j-1}) \\\\\n",
    "    &\\quad+ \\frac{\\Delta t^2}{2 \\Delta x^2} A^2 (Q^n_{i+1,j} - 2 Q^n_{ij} + Q^n_{i-1, j}) + \\frac{\\Delta t^2}{2 \\Delta y^2} B^2 (Q^n_{i,j+1} - 2 Q^n_{ij} + Q^n_{i,j-1}) \\\\\n",
    "    &\\quad+ \\frac{\\Delta t^2}{8 \\Delta x \\Delta y} (AB + BA) [(Q^n_{i+1,j+1} - Q^n_{i-1, j+1}) - (Q^n_{i+1,j-1} - Q^n_{i-1, j-1})]\n",
    "\\end{aligned}$$"
   ]
  },
  {
   "cell_type": "markdown",
   "metadata": {
    "slideshow": {
     "slide_type": "slide"
    }
   },
   "source": [
    "## Finite Volume Methods\n",
    "\n",
    "As we used the Lax-Wendroff method before to create a second-order accurate finite volume method we will do the same here.  Instead of following directly though we will immediately introduce our Riemann problem machinery and limiting to avoid the dispersion issues we usually see Lax-Wendroff method.  Before moving on however we will look at some other alternatives before looking delving into this."
   ]
  },
  {
   "cell_type": "markdown",
   "metadata": {
    "slideshow": {
     "slide_type": "subslide"
    }
   },
   "source": [
    "### Fully Discrete Methods\n",
    "\n",
    "Fully-discrete methods, such as flux-differencing forms of Lax-Wendroff, define a flux across each grid cell edge and use this to compute the method updates.  Note that we still need to provide limited fluxes in order to avoid oscillatory solutions."
   ]
  },
  {
   "cell_type": "markdown",
   "metadata": {
    "slideshow": {
     "slide_type": "subslide"
    }
   },
   "source": [
    "#### Flux-Differencing Approaches\n",
    "\n",
    "Let's return to the flux versions of our conservation law (the nonlinear one) and consider a rectangular cell \n",
    "$$\n",
    "    \\mathcal{C}_{ij} = [x_{i-1/2}, x_{i+1/2}] \\times [y_{j-1/2}, y_{j+1/2}] = [x_{i-1/2}, x_{i-1/2} + \\Delta x] \\times [y_{j-1/2}, y_{j-1/2} + \\Delta y].\n",
    "$$\n",
    "Integrating around the edges of this cell we have\n",
    "$$\\begin{aligned}\n",
    "\\frac{\\text{d}}{\\text{d}t} \\int\\int_{\\mathcal{C}_{ij}} q(x, y, t) dx dy &= \\int^{y_{j+1/2}}_{y_{j-1/2}} f(q(x_{i+1/2}, y, t)) dy - \\int^{y_{j+1/2}}_{y_{j-1/2}} f(q(x_{i-1/2}, y, t)) dy \\\\\n",
    "&\\quad \\int^{x_{i+1/2}}_{x_{i-1/2}} g(q(x, y_{j+1/2}, t)) dx - \\int^{x_{i+1/2}}_{x_{i-1/2}} g(q(x, y_{j-1/2}, t)) dx.\n",
    "\\end{aligned}$$\n",
    "\n",
    "Integrating in time and dividing by the cell area we then are lead to\n",
    "$$\n",
    "    Q^{n+1}_{ij} = Q^n_{ij} - \\frac{\\Delta t}{\\Delta x} [F^n_{i-1/2,j} - F^n_{i+1/2,j}] - \\frac{\\Delta t}{\\Delta y} [G^n_{i,j-1/2} - G^n_{i,j+1/2}]\n",
    "$$\n",
    "where\n",
    "$$\\begin{aligned}\n",
    "    F^n_{i-1/2,j} &\\approx \\frac{1}{\\Delta t \\Delta y} \\int^{t_{n+1}}_{t_n} \\int^{y_{j+1/2}}_{y_{j-1/2}} f(q(x_{i-1/2}, y ,t) dy dt\\\\\n",
    "    G^n_{i,j-1/2} &\\approx \\frac{1}{\\Delta t \\Delta x} \\int^{t_{n+1}}_{t_n} \\int^{x_{i+1/2}}_{x_{i-1/2}} g(q(x, y_{j-1/2} ,t) dx dt.\n",
    "\\end{aligned}$$"
   ]
  },
  {
   "cell_type": "markdown",
   "metadata": {
    "slideshow": {
     "slide_type": "subslide"
    }
   },
   "source": [
    "For the simpler case of a linear system we can also rewrite the Taylor expansion from before as\n",
    "$$\\begin{aligned}\n",
    "    q(x_i, y_j, t_n + \\Delta t) &= q - \\Delta t \\left(Aq - \\frac{\\Delta t}{2} A^2 q_x - \\frac{\\Delta t}{2} A B q_y \\right)_x \\\\\n",
    "    &\\quad - \\Delta t \\left(Bq - \\frac{\\Delta t}{2} B^2 q_y - \\frac{\\Delta t}{2} BA q_x \\right)_y + \\cdots\n",
    "\\end{aligned}\n",
    "$$\n",
    "suggesting the following forms of the numerical flux functions\n",
    "$$\\begin{aligned}\n",
    "    F^n_{i-1/2,j} &\\approx A q(x_{i-1/2}, y_j, t_n) - \\frac{\\Delta t}{2} A^2 q_x(x_{i-1/2}, y_j, t_n) - \\frac{\\Delta t}{2} A B q_y (x_{i-1/2}, y_j, t_n)\\\\\n",
    "    G^n_{i,j-1/2} &\\approx B q(x_i, y_{j-1/2}, t_n) - \\frac{\\Delta t}{2} B^2 q_y(x_i, y_{j-1/2}, t_n) - \\frac{\\Delta t}{2} BA q_y (x_i, y_{j-1/2}, t_n)\n",
    "\\end{aligned}$$\n",
    "that agree with the integral definition to $\\mathcal{O}(\\Delta t^2)$."
   ]
  },
  {
   "cell_type": "markdown",
   "metadata": {
    "slideshow": {
     "slide_type": "subslide"
    }
   },
   "source": [
    "We can also write the flux-differencing form of the Lax-Wendroff method for a constant coefficient system as the following:\n",
    "$$\\begin{aligned}\n",
    "    F_{i-1/2, j} &= \\frac{1}{2} A (Q_{i-1,j} + Q_{ij}) - \\frac{\\Delta t}{2 \\Delta x} A^2 (Q_{ij} - Q_{i-1,j}) \\\\\n",
    "    &\\quad -\\frac{\\Delta t}{8 \\Delta y} AB [(Q_{i,j+1} - Q_{ij}) + Q_{i-1,j+1} - Q_{i-1, j} \\\\\n",
    "    &\\quad \\quad + (Q_{ij} - Q_{i,j-1}) + (Q_{i-1,j} - Q_{i-1, j-1})] \\\\\n",
    "    G_{i, j-1/2} &= \\frac{1}{2} B (Q_{i,j-1} + Q_{ij}) - \\frac{\\Delta t}{2 \\Delta y} B^2 (Q_{ij} - Q_{i,j-1}) \\\\\n",
    "    &\\quad -\\frac{\\Delta t}{8 \\Delta x} BA [(Q_{i+1,j} - Q_{ij}) + Q_{i+1,j-1} - Q_{i, j-1} \\\\\n",
    "    &\\quad \\quad + (Q_{ij} - Q_{i-1,j}) + (Q_{i,j-1} - Q_{i-1, j-1})] \\\\\n",
    "\\end{aligned}$$"
   ]
  },
  {
   "cell_type": "markdown",
   "metadata": {
    "slideshow": {
     "slide_type": "subslide"
    }
   },
   "source": [
    "#### Godunov's Method\n",
    "\n",
    "The extension to Godunov's method simply does what we have been doing the entire semester, evaluate the Riemann problem, find the value of $Q$ at the grid cell edge, and evaluate the flux function there\n",
    "$$\n",
    "    F_{i-1/2, j} = f(\\widehat{Q}_{i-1/2, j}) \\quad \\quad G_{i, j-1/2} = g(\\widehat{Q}_{i, j-1/2}).\n",
    "$$\n",
    "This seems straight forward except that now we have a multidimensional Riemann problem to solve.  Instead we often only solve in each direction.  In other words we find $\\widehat{Q}_{i-1/2, j}$ from $q_t + f(q)_x = 0$ and $\\widehat{Q}_{i, j-1/2}$ from $q_t + g(q)_y = 0$."
   ]
  },
  {
   "cell_type": "markdown",
   "metadata": {
    "slideshow": {
     "slide_type": "subslide"
    }
   },
   "source": [
    "If we again consider a linear problem we know that we can as before define\n",
    "$$\n",
    "    A^\\pm = R^x (\\Lambda^x)^\\pm (R^x)^{-1} \\quad \\quad B^\\pm = R^y (\\Lambda^y)^\\pm (R^y)^{-1}\n",
    "$$\n",
    "that allows us to define our usual fluxes\n",
    "$$\n",
    "    F_{i-1/2, j} = A^+ Q_{i-1,j} + A^- Q_{ij} \\quad \\quad G_{i, j-1/2} = B^+ Q_{i,j-1} + B^- Q_{ij}.\n",
    "$$\n",
    "This is of course only a first order method."
   ]
  },
  {
   "cell_type": "markdown",
   "metadata": {
    "slideshow": {
     "slide_type": "subslide"
    }
   },
   "source": [
    "We can also extend the to not only general conservation laws but also add limited corrections easily in our usual notation:\n",
    "$$\\begin{aligned}\n",
    "    Q^{n+1}_{ij} &= Q^n_{ij} - \\frac{\\Delta t}{\\Delta x} \\left (\\mathcal{A}^+\\Delta Q_{i-1/2,j} + \\mathcal{A}^-\\Delta Q_{i+1/2, j} \\right) \\\\\n",
    "    &\\quad- \\frac{\\Delta t}{\\Delta y} \\left (\\mathcal{B}^+\\Delta Q_{i,j-1/2} + \\mathcal{B}^-\\Delta Q_{i, j+1/2} \\right) \\\\\n",
    "    &\\quad -\\frac{\\Delta t}{\\Delta x} \\left(\\widetilde{F}_{i+1/2,j} - \\widetilde{F}_{i-1/2,j} \\right ) - \\frac{\\Delta t}{\\Delta y} \\left(\\widetilde{G}_{i,j+1/2} - \\widetilde{G}_{i,j-1/2} \\right )\n",
    "\\end{aligned}$$"
   ]
  },
  {
   "cell_type": "markdown",
   "metadata": {
    "slideshow": {
     "slide_type": "subslide"
    }
   },
   "source": [
    "### Semi-Discrete Approaches\n",
    "\n",
    "We can also consider semi-discrete, or method-of-lines, discretization where we are instead considering the approximation\n",
    "$$\n",
    "    Q_{ij}(t) = \\int \\int_{\\mathcal{C}_{ij}} q(x, y, t) dx dy\n",
    "$$\n",
    "leading to \n",
    "$$\\begin{aligned}\n",
    "    F_{i-1/2, j}(Q(t)) &\\approx \\frac{1}{\\Delta y} \\int^{y_{j+1/2}}_{y_{j-1/2}} f(q(x_{i-1/2},y,t)) dy \\\\\n",
    "    G_{i, j-1/2}(Q(t)) &\\approx \\frac{1}{\\Delta x} \\int^{x_{i+1/2}}_{x_{i-1/2}} g(q(x,y_{j-1/2},t)) dx.\n",
    "\\end{aligned}$$"
   ]
  },
  {
   "cell_type": "markdown",
   "metadata": {
    "slideshow": {
     "slide_type": "subslide"
    }
   },
   "source": [
    "This can also be rewritten in a more familiar, semi-discrete form as\n",
    "$$\\begin{aligned}\n",
    "    \\frac{\\text{d}}{\\text{d} t} Q_{ij}(t) = &-\\frac{1}{\\Delta x} \\left [ F_{i+1/2,j} (Q(t)) - F_{i-1/2, j}(Q(t)) \\right] \\\\\n",
    "    &-\\frac{1}{\\Delta y} \\left [ G_{i,j+1/2} (Q(t)) - G_{i, j-1/2}(Q(t)) \\right] \\\\\n",
    "\\end{aligned}$$"
   ]
  },
  {
   "cell_type": "markdown",
   "metadata": {
    "slideshow": {
     "slide_type": "subslide"
    }
   },
   "source": [
    "### Dimensional Splitting\n",
    "\n",
    "The final alternative to what we eventually discuss is simply to use dimensional splitting.  The primary idea is to split the different dimensions into sweeps and combine their changes.  The basic algorithm for this is to split\n",
    "$$\n",
    "    q_t + A q_x + B q_y = 0\n",
    "$$\n",
    "into subproblems\n",
    "$$\\begin{aligned}\n",
    "    &x-\\text{sweeps:} \\quad q_t + A q_x = 0 \\\\\n",
    "    &y-\\text{sweeps:} \\quad q_t + B q_y = 0.\n",
    "\\end{aligned}$$"
   ]
  },
  {
   "cell_type": "markdown",
   "metadata": {
    "slideshow": {
     "slide_type": "subslide"
    }
   },
   "source": [
    "This amount to evolving the function in two steps where\n",
    "$$\\begin{aligned}\n",
    "    Q^*_{ij} &= Q^n_{ij} - \\frac{\\Delta t}{\\Delta x} (F^n_{i+1/2, j} - F^n_{i-1/2,j}) \\\\\n",
    "    Q^{n+1}_{ij} &= Q^*_{ij} - \\frac{\\Delta t}{\\Delta y} (G^*_{i+1/2, j} - G^*_{i-1/2,j}).\n",
    "\\end{aligned}$$\n",
    "The primary question those is what error we impose by picking a direction to use first.\n",
    "\n",
    "This splitting is know as Godunov splitting.  We know that we can formally achieve second order convergence with Strang splitting but is this going to work?"
   ]
  },
  {
   "cell_type": "markdown",
   "metadata": {
    "slideshow": {
     "slide_type": "slide"
    }
   },
   "source": [
    "## Multidimensional Finite Volume Advection Methods\n",
    "\n",
    "In order to illustrate the ideas of fully multidimensional methods that do not depend on our previous approaches we will focus on the constant coefficient advection equation\n",
    "$$\n",
    "    q_t + u q_x + v q_y = 0\n",
    "$$\n",
    "as it can provide the basic generalizations needed for our more general discussion."
   ]
  },
  {
   "cell_type": "markdown",
   "metadata": {
    "slideshow": {
     "slide_type": "subslide"
    }
   },
   "source": [
    "A useful analytical tool (as usual) will be the Taylor series expansion of the solution\n",
    "$$\\begin{aligned}\n",
    "    q(x, y ,t_{n+1}) &= q + \\Delta t q_t + \\frac{\\Delta t^2}{2} q_{tt} + \\cdots \\\\\n",
    "    &= q - u \\Delta t q_x - v \\Delta t q_y + \\frac{\\Delta t^2}{2} [u^2 q_{xx} + vu q_{xy} + uv q_{yx} + v^2 q_{yy}] + \\cdots\n",
    "\\end{aligned}$$\n",
    "despite the fact we know the true solution is\n",
    "$$\n",
    "    q(x,y,t) = q(x-ut, y-vt, 0).\n",
    "$$"
   ]
  },
  {
   "cell_type": "markdown",
   "metadata": {
    "slideshow": {
     "slide_type": "subslide"
    }
   },
   "source": [
    "### Donor-Cell Upwind Method\n",
    "\n",
    "The first and most straight-forward FV method for advection is first-order upwind and can be written as\n",
    "$$\n",
    "    Q^{n+1}_{ij} = Q^n_{ij} - \\frac{\\Delta t}{\\Delta x} [u^+(Q^n_{ij} - Q^n_{i-1,j}) + u^- (Q^n_{i+1,j} - Q^n_{ij})] - \\frac{\\Delta t}{\\Delta y} [v^+(Q^n_{i,j-1} - Q^n_{ij}) + v^- (Q^n_{i,j+1} - Q^n_{ij})].\n",
    "$$\n",
    "This is method has the fluctuations specified as\n",
    "$$\n",
    "    \\mathcal{A}^\\pm \\Delta Q_{i-1/2,j} = u^\\pm(Q_{ij} - Q_{i-1, j}) \\quad \\mathcal{B}^\\pm \\Delta Q_{i,j-1/2} = v^\\pm(Q_{ij} - Q_{i, j-1}) \n",
    "$$\n",
    "that agrees with Godunov's method as described before."
   ]
  },
  {
   "cell_type": "markdown",
   "metadata": {
    "slideshow": {
     "slide_type": "subslide"
    }
   },
   "source": [
    "As we might expect this method can be problematic given that we do not expect that waves that should be moving at some angle to the grid will yield a true CFL stable solution.  In fact this method is only stable when\n",
    "$$\n",
    "    \\left | \\frac{u\\Delta t}{\\Delta x}\\right | + \\left | \\frac{v\\Delta t}{\\Delta y}\\right | \\leq 1.\n",
    "$$\n",
    "Note that this is not simply the maximum by additive greatly reducing the time step we can take depending on the value of $u$ and $v$."
   ]
  },
  {
   "cell_type": "markdown",
   "metadata": {
    "slideshow": {
     "slide_type": "subslide"
    }
   },
   "source": [
    "### Corner-Transport Upwind Method\n",
    "\n",
    "Instead of the Donor-Cell method we can fall back to the REA approach and extend it to two dimensions:\n",
    "1. Define a piecewise constant function $\\widetilde{q}^n(x, y, t_n)$ with constant value $Q^n_{ij}$ defined over $\\mathcal{C}_{ij}$.\n",
    "1. Evolve the full advection equation exactly over $\\Delta t$.\n",
    "1. Average the resulting solution $\\widetilde{q}^n(x,y,t_{n+1})$ back onto the grid."
   ]
  },
  {
   "cell_type": "markdown",
   "metadata": {
    "slideshow": {
     "slide_type": "subslide"
    }
   },
   "source": [
    "We exactly know the approximation that arises from this approximation evolution as\n",
    "$$\n",
    "    \\widetilde{q}^n(x, y, t_{n+1}) = \\widetilde{q}^n(x - u \\Delta t, y - v \\Delta t, t_n).\n",
    "$$\n",
    "We also therefore know that the piecewise constant representation of the solution to the advection problem is simply shifted by $(u \\Delta t, v \\Delta t)$ so that we have\n",
    "$$\\begin{aligned}\n",
    "    Q^{n+1}_{ij} &= \\frac{1}{\\Delta x \\Delta y} \\int^{x_{i+1/2}}_{x_{i-1/2}} \\int^{y_{j+1/2}}_{y_{j-1/2}} \\widetilde{q}^n(x - u \\Delta t, y - v \\Delta t, t_n) dx dy \\\\\n",
    "    &= \\frac{1}{\\Delta x \\Delta y} \\int^{x_{i+1/2} - u \\Delta t}_{x_{i-1/2} - u \\Delta t} \\int^{y_{j+1/2} - v \\Delta t}_{y_{j-1/2} - v \\Delta t} \\widetilde{q}^n(x, y, t_n) dx dy\n",
    "\\end{aligned}$$\n",
    "\n",
    "This leads to the final update formula\n",
    "$$\\begin{aligned}\n",
    "    Q^{n+1}_{ij} &= \\frac{1}{\\Delta x}{\\Delta y} \\left[ (\\Delta x - u \\Delta t)(\\Delta y - v \\Delta t) Q^n_{ij} + (\\Delta x - u \\Delta t)( v \\Delta t) Q^n_{i,j-1} \\right . \\\\\n",
    "    & \\left . \\quad \\quad + (\\Delta y - v \\Delta t)(u \\Delta t) Q^n_{i-1,j} + (u \\Delta t) (v \\Delta t) Q^n_{i-1, j-1}\\right].\n",
    "\\end{aligned}$$"
   ]
  },
  {
   "cell_type": "markdown",
   "metadata": {
    "slideshow": {
     "slide_type": "subslide"
    }
   },
   "source": [
    "### Wave-Propagation Implementation of Corner-Transport\n",
    "\n",
    "How does this work into our wave-propagation formulation beyond first order?  We can actually define correction fluxes as the following\n",
    "$$\\begin{aligned}\n",
    "    &\\widetilde{F}_{i-1/2, j} = -\\frac{\\Delta t}{2 \\Delta y} uv(Q_{i-1,j} - Q_{i-1,j-1}) \\\\\n",
    "    &\\widetilde{F}_{i+1/2, j} = -\\frac{\\Delta t}{2 \\Delta y} uv(Q_{i,j} - Q_{i,j-1}) \\\\\n",
    "    &\\widetilde{F}_{i, j-1/2} = -\\frac{\\Delta t}{2 \\Delta y} uv(Q_{i,j-1} - Q_{i-1,j-1}) \\\\\n",
    "    &\\widetilde{G}_{i, j+1/2} = -\\frac{\\Delta t}{2 \\Delta y} uv(Q_{i,j} - Q_{i-1,j})\n",
    "\\end{aligned}$$"
   ]
  }
 ],
 "metadata": {
  "celltoolbar": "Slideshow",
  "kernelspec": {
   "display_name": "Python 3",
   "language": "python",
   "name": "python3"
  },
  "language_info": {
   "codemirror_mode": {
    "name": "ipython",
    "version": 3
   },
   "file_extension": ".py",
   "mimetype": "text/x-python",
   "name": "python",
   "nbconvert_exporter": "python",
   "pygments_lexer": "ipython3",
   "version": "3.13.7"
  }
 },
 "nbformat": 4,
 "nbformat_minor": 2
}
