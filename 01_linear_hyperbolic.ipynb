{
 "cells": [
  {
   "cell_type": "markdown",
   "metadata": {},
   "source": [
    "<table>\n",
    " <tr align=left><td><img align=left src=\"./images/CC-BY.png\">\n",
    " <td>Text provided under a Creative Commons Attribution license, CC-BY. All code is made available under the FSF-approved MIT license. (c) Kyle T. Mandli</td>\n",
    "</table>"
   ]
  },
  {
   "cell_type": "code",
   "execution_count": 1,
   "metadata": {},
   "outputs": [],
   "source": [
    "from __future__ import print_function\n",
    "\n",
    "%matplotlib inline\n",
    "import numpy\n",
    "import matplotlib.pyplot as plt"
   ]
  },
  {
   "cell_type": "markdown",
   "metadata": {},
   "source": [
    "# Linear Hyperbolic PDEs\n",
    "\n",
    "We saw from the intro that a general linear hyperbolic system of the form\n",
    "$$\n",
    "    q_t + A q_x = 0\n",
    "$$\n",
    "can be transformed into a set of indepdent PDEs as $A$ is diagonalizable and with the new variables $w = R^{-1} q$ we can write\n",
    "$$\n",
    "    w^p_t + \\lambda^p w^p_x = 0 \\text{ for } p = 1, 2, \\ldots , m.\n",
    "$$\n",
    "Our goal in this section will be to formalize some of this and introduce notation that will be helpful later on."
   ]
  },
  {
   "cell_type": "markdown",
   "metadata": {},
   "source": [
    "## Cauchy Problem\n",
    "\n",
    "Consider the PDE problem with the linear hyperbolic system above and let\n",
    "$$\n",
    "    q(x, 0) = q_0(x) \\text{ for } -\\infty < x < \\infty.\n",
    "$$\n",
    "We can project this initial data onto the eigenspace by solving\n",
    "$$\n",
    "    R w_0(x) = q_0(x)\n",
    "$$\n",
    "whose solution is\n",
    "$$\n",
    "    w_0(x) = R^{-1} q_0(x).\n",
    "$$\n",
    "The solution then is\n",
    "$$\n",
    "    w^p(x, t) = w^p(x - \\lambda^p t, 0) = w_0(x - \\lambda^p t)\n",
    "$$\n",
    "and can be written in terms of the original variables as\n",
    "$$\n",
    "    q(x, t) = R w(x, t).\n",
    "$$"
   ]
  },
  {
   "cell_type": "markdown",
   "metadata": {},
   "source": [
    "Note that we can also write this as\n",
    "$$\n",
    "    q(x, t) = \\sum^m_{p=1} w^p(x, t) r^p.\n",
    "$$\n",
    "This last expression can be interpreted as a set of waves moving at $\\lambda^p$ whose linear superposition provides the solution.  Because of this sometimes $w^p$ are known as the **characteristic variables** and the solution along $X(t) = x_0 + \\lambda^p t$, which are called **characteristics of the pth family** or **p-characteristics**."
   ]
  },
  {
   "cell_type": "markdown",
   "metadata": {},
   "source": [
    "### Left Eigenvectors\n",
    "\n",
    "One simplification we can make is to introduce the left eigenvectors defined by $L = R^{-1}$ comprised by the row vectors $\\ell^1, \\ell^2, \\ldots, \\ell^m$.  These satisfy the eigenproblem\n",
    "$$\n",
    "    \\ell^p A = \\lambda^p \\ell^p.\n",
    "$$\n",
    "This allows us to write the chracteristic variables as\n",
    "$$\n",
    "    w^p(x,t) = \\ell^p q(x, t)\n",
    "$$\n",
    "and therefore\n",
    "$$\n",
    "    q(x, t) = \\sum^m_{p=1} [\\ell^p q_0(x - \\lambda^p t) ]r^p.\n",
    "$$"
   ]
  },
  {
   "cell_type": "markdown",
   "metadata": {},
   "source": [
    "#### Example:  Acoustics\n",
    "\n",
    "$$\\begin{aligned}\n",
    "    q(x, t) &= \\begin{bmatrix} p(x, t) \\\\ u(x, t) \\end{bmatrix} = \\sum^2_{p=1} [\\ell^p q_0(x - \\lambda^p t) ] r^p \\\\\n",
    "    &= \\frac{1}{2 Z_0} \\left \\{ \\begin{bmatrix} -1 \\\\ 1 \\end{bmatrix} \\begin{bmatrix} p(x, 0) \\\\ u(x, 0) \\end{bmatrix} \\begin{bmatrix} -Z_0 \\\\ 1 \\end{bmatrix} + \\begin{bmatrix} Z_0 \\\\ Z_0 \\end{bmatrix} \\begin{bmatrix} p(x, 0) \\\\ u(x, 0) \\end{bmatrix} \\begin{bmatrix} Z_0 \\\\ 1 \\end{bmatrix} \\right \\}\n",
    "\\end{aligned}$$"
   ]
  },
  {
   "cell_type": "markdown",
   "metadata": {},
   "source": [
    "## Domain of Dependence and Range of Influence\n",
    "\n",
    "$$\n",
    "    \\mathcal{D}(X, T) = \\{ X - \\lambda^p T: p = 1,2,\\ldots,m \\}\n",
    "$$\n",
    "\n",
    "## Riemann Problem for a Linear System\n",
    "\n",
    "### Phase Plane for a System\n",
    "\n",
    "#### Example:  Acoustics"
   ]
  }
 ],
 "metadata": {
  "kernelspec": {
   "display_name": "Python 3",
   "language": "python",
   "name": "python3"
  },
  "language_info": {
   "codemirror_mode": {
    "name": "ipython",
    "version": 3
   },
   "file_extension": ".py",
   "mimetype": "text/x-python",
   "name": "python",
   "nbconvert_exporter": "python",
   "pygments_lexer": "ipython3",
   "version": "3.7.4"
  }
 },
 "nbformat": 4,
 "nbformat_minor": 2
}
