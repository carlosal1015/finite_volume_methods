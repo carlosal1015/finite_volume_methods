{
 "cells": [
  {
   "cell_type": "markdown",
   "metadata": {
    "slideshow": {
     "slide_type": "skip"
    }
   },
   "source": [
    "<table>\n",
    " <tr align=left><td><img align=left src=\"./images/CC-BY.png\">\n",
    " <td>Text provided under a Creative Commons Attribution license, CC-BY. All code is made available under the FSF-approved MIT license. (c) Kyle T. Mandli</td>\n",
    "</table>"
   ]
  },
  {
   "cell_type": "code",
   "execution_count": 1,
   "metadata": {
    "slideshow": {
     "slide_type": "skip"
    }
   },
   "outputs": [],
   "source": [
    "from __future__ import print_function\n",
    "\n",
    "%matplotlib inline\n",
    "import numpy\n",
    "import matplotlib.pyplot as plt"
   ]
  },
  {
   "cell_type": "markdown",
   "metadata": {
    "slideshow": {
     "slide_type": "slide"
    }
   },
   "source": [
    "# Linear Hyperbolic PDEs\n",
    "\n",
    "We saw from the intro that a general linear hyperbolic system of the form\n",
    "$$\n",
    "    q_t + A q_x = 0\n",
    "$$\n",
    "can be transformed into a set of independent PDEs as $A$ is diagonalizable and with the new variables $w = R^{-1} q$ we can write\n",
    "$$\n",
    "    w^p_t + \\lambda^p w^p_x = 0 \\text{ for } p = 1, 2, \\ldots , m.\n",
    "$$\n",
    "Our goal in this section will be to formalize some of this and introduce notation that will be helpful later on."
   ]
  },
  {
   "cell_type": "markdown",
   "metadata": {
    "slideshow": {
     "slide_type": "subslide"
    }
   },
   "source": [
    "## Cauchy Problem\n",
    "\n",
    "Consider the PDE problem with the linear hyperbolic system above and let\n",
    "$$\n",
    "    q(x, 0) = q_0(x) \\text{ for } -\\infty < x < \\infty.\n",
    "$$\n",
    "We can project this initial data onto the eigenspace by solving\n",
    "$$\n",
    "    R w_0(x) = q_0(x)\n",
    "$$\n",
    "whose solution is\n",
    "$$\n",
    "    w_0(x) = R^{-1} q_0(x).\n",
    "$$\n",
    "The solution then is\n",
    "$$\n",
    "    w^p(x, t) = w^p(x - \\lambda^p t, 0) = w_0(x - \\lambda^p t)\n",
    "$$\n",
    "and can be written in terms of the original variables as\n",
    "$$\n",
    "    q(x, t) = R w(x, t).\n",
    "$$"
   ]
  },
  {
   "cell_type": "markdown",
   "metadata": {
    "slideshow": {
     "slide_type": "subslide"
    }
   },
   "source": [
    "Note that we can also write this as\n",
    "$$\n",
    "    q(x, t) = \\sum^m_{p=1} w^p(x, t) r^p.\n",
    "$$\n",
    "This last expression can be interpreted as a set of waves moving at $\\lambda^p$ whose linear superposition provides the solution.  Because of this sometimes $w^p$ are known as the **characteristic variables** and the solution along $X(t) = x_0 + \\lambda^p t$, which are called **characteristics of the pth family** or **p-characteristics**."
   ]
  },
  {
   "cell_type": "markdown",
   "metadata": {
    "slideshow": {
     "slide_type": "subslide"
    }
   },
   "source": [
    "### Left Eigenvectors\n",
    "\n",
    "One simplification we can make is to introduce the left eigenvectors defined by $L = R^{-1}$ comprised by the row vectors $\\ell^1, \\ell^2, \\ldots, \\ell^m$.  These satisfy the eigenproblem\n",
    "$$\n",
    "    \\ell^p A = \\lambda^p \\ell^p.\n",
    "$$\n",
    "This allows us to write the characteristic variables as\n",
    "$$\n",
    "    w^p(x,t) = \\ell^p q(x, t)\n",
    "$$\n",
    "and therefore\n",
    "$$\n",
    "    q(x, t) = \\sum^m_{p=1} [\\ell^p q_0(x - \\lambda^p t) ]r^p.\n",
    "$$"
   ]
  },
  {
   "cell_type": "markdown",
   "metadata": {
    "slideshow": {
     "slide_type": "subslide"
    }
   },
   "source": [
    "#### Example:  Acoustics\n",
    "\n",
    "$$\\begin{aligned}\n",
    "    q(x, t) &= \\begin{bmatrix} p(x, t) \\\\ u(x, t) \\end{bmatrix} = \\sum^2_{p=1} [\\ell^p q_0(x - \\lambda^p t) ] r^p \\\\\n",
    "    &= \\frac{1}{2 Z_0} \\left \\{ \\begin{bmatrix} -1 & Z_0 \\end{bmatrix} \\begin{bmatrix} p(x, 0) \\\\ u(x, 0) \\end{bmatrix} \\begin{bmatrix} -Z_0 \\\\ 1 \\end{bmatrix} + \\begin{bmatrix} 1 & Z_0 \\end{bmatrix} \\begin{bmatrix} p(x, 0) \\\\ u(x, 0) \\end{bmatrix} \\begin{bmatrix} Z_0 \\\\ 1 \\end{bmatrix} \\right \\}\n",
    "\\end{aligned}$$"
   ]
  },
  {
   "cell_type": "markdown",
   "metadata": {
    "slideshow": {
     "slide_type": "slide"
    }
   },
   "source": [
    "## Domain of Dependence and Range of Influence\n",
    "\n",
    "Say we wanted to find the solution $q$ at some fixed point in space and time $(X, T)$.  We know that the solution must depend on the initial condition only for a Cauchy problem and that for a linear problem the solution will follow the characteristics of the problem.  We therefore know that $q(X, T)$ will depend on a particular point $X - \\lambda^P T$ for $p=1,2,\\ldots,m$."
   ]
  },
  {
   "cell_type": "markdown",
   "metadata": {
    "slideshow": {
     "slide_type": "subslide"
    }
   },
   "source": [
    "If we collect all these points in a set called the **domain of dependence** it can  be defined as\n",
    "$$\n",
    "    \\mathcal{D}(X, T) = \\{ X - \\lambda^p T: p = 1,2,\\ldots,m \\}.\n",
    "$$\n",
    "This set is always bounded for hyperbolic PDEs.\n",
    "\n",
    "Try to draw an example of this domain of dependence based on $m = 3$."
   ]
  },
  {
   "cell_type": "markdown",
   "metadata": {},
   "source": [
    "In contrast $\\mathcal{D}(X, T)$ may be unbounded for parabolic equations such as the heat equation where $\\mathcal{D}(X,T) = \\mathbb R$."
   ]
  },
  {
   "cell_type": "markdown",
   "metadata": {
    "slideshow": {
     "slide_type": "subslide"
    }
   },
   "source": [
    "Unsurprisingly perhaps $\\mathcal{D}$ directly related to the CFL stability condition.  The most generic version of this stability condition states the following:\n",
    "\n",
    "> The true domain of dependence must be contained in the numerical domain of dependence.\n",
    "\n",
    "In our case we know the true domain of dependence but have not yet mentioned the numerical domain of dependence (we will come to that later)."
   ]
  },
  {
   "cell_type": "markdown",
   "metadata": {
    "slideshow": {
     "slide_type": "subslide"
    }
   },
   "source": [
    "We can also turn the domain of dependence around and ask what the range of influence of particular point $x_0$ might have sometime in the future.  This is often called the **range of influence**.  \n",
    "\n",
    "Try to draw an example of this influence for the same case as before."
   ]
  },
  {
   "cell_type": "markdown",
   "metadata": {
    "slideshow": {
     "slide_type": "subslide"
    }
   },
   "source": [
    "## Riemann Problem for a Linear System\n",
    "\n",
    "As they will become essential to our numerical methods later we will define another specialized Cauchy problem called the **Riemann problem**.  It is defined as a Cauchy problem with the addition of an initial condition that is a jump at $x=0$:\n",
    "$$\n",
    "    q(x, 0) = \\left \\{ \\begin{aligned} \n",
    "        q_\\ell \\quad \\text{if } x < 0 \\\\\n",
    "        q_r \\quad \\text{if } x > 0\n",
    "    \\end{aligned} \\right .\n",
    "$$\n",
    "The solution of the Riemann problem in the case of linear hyperbolic PDEs will therefore be a set of discontinuities moving away from $x=0$ at the characteristic speeds."
   ]
  },
  {
   "cell_type": "markdown",
   "metadata": {
    "slideshow": {
     "slide_type": "subslide"
    }
   },
   "source": [
    "Let us consider first the a scalar, linear hyperbolic problem defined by\n",
    "$$\n",
    "    q_t + u q_x = 0.\n",
    "$$\n",
    "Here a single discontinuity will travel at a speed $u$ away from the origin."
   ]
  },
  {
   "cell_type": "markdown",
   "metadata": {
    "slideshow": {
     "slide_type": "subslide"
    }
   },
   "source": [
    "For the more general system of $m$ equations we know what happens in general but let us now consider it in the context of the Riemann problem.  We will first simplify the notation a bit such that\n",
    "$$\n",
    "    q_\\ell = \\sum^m_{p=1} w^p_\\ell r^p \\text{    and    } q_r = \\sum^m_{p=1} w^p_r r^p,\n",
    "$$\n",
    "which simply expresses the initial condition in terms of the characteristic variables."
   ]
  },
  {
   "cell_type": "markdown",
   "metadata": {
    "slideshow": {
     "slide_type": "subslide"
    }
   },
   "source": [
    "Another way to write this is as the individual $p$th fields as\n",
    "$$\n",
    "    w^p(x, 0) = \\left \\{ \\begin{aligned} \n",
    "        w^p_\\ell \\quad \\text{if } x < 0 \\\\\n",
    "        w^p_r \\quad \\text{if } x > 0\n",
    "    \\end{aligned} \\right .\n",
    "$$\n",
    "leading to the solution\n",
    "$$\n",
    "    w^p(x, t) = \\left \\{ \\begin{aligned} \n",
    "        w^p_\\ell \\quad \\text{if } x - \\lambda^p t < 0 \\\\\n",
    "        w^p_r \\quad \\text{if } x - \\lambda^p t > 0\n",
    "    \\end{aligned} \\right .\n",
    "$$"
   ]
  },
  {
   "cell_type": "markdown",
   "metadata": {
    "slideshow": {
     "slide_type": "subslide"
    }
   },
   "source": [
    "Based off of this you can then write the full solution as\n",
    "$$\n",
    "    q(x,t ) = \\sum_{p: \\lambda^p < x/t} w^p_r r^p + \\sum_{p: \\lambda^p > x / t} w^p_\\ell r^p.\n",
    "$$\n",
    "\n",
    "With this in hand try and figure out in our diagram from before, picking an $(X, T)$ and what the explicit solution is.  Also combine these with the previous drawings for the domain of dependence you drew and the range of influence."
   ]
  },
  {
   "cell_type": "markdown",
   "metadata": {
    "slideshow": {
     "slide_type": "subslide"
    }
   },
   "source": [
    "Another useful thing to think about at this juncture is that the solution remains constant in a set of wedges with jumps between them defined by\n",
    "$$\n",
    "    (w^p_r - w^p_\\ell) r^p \\equiv \\alpha^p r^p\n",
    "$$\n",
    "across the $p$th characteristic.  This implies then that the jump is proportional to the eigenvectors of the system.  This condition is called the **Rankine-Hugoniot jump condition**.  In this case we have written in the case of linear hyperbolic PDEs and we will see an analogous version for nonlinear hyperbolic PDEs."
   ]
  },
  {
   "cell_type": "markdown",
   "metadata": {
    "slideshow": {
     "slide_type": "subslide"
    }
   },
   "source": [
    "We can also write this condition in terms of the original initial data $q_\\ell$ and $q_r$ such that\n",
    "$$\n",
    "    q_r - q_\\ell = \\alpha^1 r^1 + \\cdots + \\alpha^m r^m\n",
    "$$\n",
    "or in terms of the solution of a linear system\n",
    "$$\n",
    "    R \\alpha = q_r - q_\\ell.\n",
    "$$\n",
    "In other words we are projecting the jump in $q$ onto the eigenspace."
   ]
  },
  {
   "cell_type": "markdown",
   "metadata": {
    "slideshow": {
     "slide_type": "subslide"
    }
   },
   "source": [
    "We now introduce a notation that we will reuse extensively in this course.  Define\n",
    "$$\n",
    "    \\mathcal{W}^p \\equiv \\alpha^p r^p\n",
    "$$\n",
    "as the **$\\mathbf{p}$th waves**.  This allows us to rewrite the solution as\n",
    "$$\\begin{aligned}\n",
    "    q(x,t) &= q_\\ell + \\sum_{p: \\lambda^p < x/t} \\mathcal{W}^p \\\\\n",
    "    &= q_r - \\sum_{p: \\lambda^p > x / t} \\mathcal{W}^p\n",
    "\\end{aligned}$$\n",
    "This can also be written in terms of the Heaviside function as\n",
    "$$\n",
    "    q(x,t) = q_\\ell + \\sum^m_{p=1} H(x- \\lambda^p t) \\mathcal{W}^p\n",
    "$$"
   ]
  },
  {
   "cell_type": "markdown",
   "metadata": {
    "slideshow": {
     "slide_type": "slide"
    }
   },
   "source": [
    "## Phase Plane for a System\n",
    "\n",
    "The **phase plane** solution for a system is often very useful as an analysis tool.  In particular the splitting of $q_r - q_\\ell$ is useful as viewed from the phase plane."
   ]
  },
  {
   "cell_type": "markdown",
   "metadata": {
    "slideshow": {
     "slide_type": "subslide"
    }
   },
   "source": [
    "For $m=2$ the phase plane is simply the solutions $q^1$ vs. $q^2$ and are manifolds on that plane.  For Riemann problems there is a particularly nice relationship as we know that the solution must be a scalar multiple of the eigenvectors.  This means that the states $q_r$ and $q_\\ell$ must be connected by two sets of eigenvectors.  In the $m=2$ case there is also a middle state, $q_m$ that must have be one of the two intersections between the eigenvectors intersecting at $q_\\ell$ and $q_r$.\n",
    "\n",
    "Let us attempt to draw an actual picture of how this works."
   ]
  },
  {
   "cell_type": "markdown",
   "metadata": {
    "slideshow": {
     "slide_type": "subslide"
    }
   },
   "source": [
    "Note that there are two possible states $q_m$.  The correct one is chosen based on which $\\lambda^p$ is faster.  We will see a more general way to pick which middle state is correct later, also known as **entropy conditions**."
   ]
  },
  {
   "cell_type": "markdown",
   "metadata": {
    "slideshow": {
     "slide_type": "subslide"
    }
   },
   "source": [
    "#### Example:  Acoustics\n",
    "\n",
    "Let us now turn to our usual example, the acoustics equations defined here as\n",
    "$$\n",
    "    \\begin{bmatrix}\n",
    "        p \\\\ u\n",
    "    \\end{bmatrix}_t = \\begin{bmatrix}\n",
    "        0 & K_0 \\\\ 1 / \\rho_0 & 0\n",
    "    \\end{bmatrix} \\begin{bmatrix}\n",
    "        p \\\\ u\n",
    "    \\end{bmatrix}_x = 0\n",
    "$$"
   ]
  },
  {
   "cell_type": "markdown",
   "metadata": {
    "slideshow": {
     "slide_type": "subslide"
    }
   },
   "source": [
    "We know the eigensystem already and can solve the Riemann problem projection as $R \\alpha = q_r - q_\\ell$ or\n",
    "$$\\begin{aligned}\n",
    "    \\alpha^1 &= \\ell^1 (q_r - q_\\ell) = \\frac{-(p_r - p_\\ell) + Z_0 (u_r - u_\\ell)}{2 Z_0} \\\\\n",
    "    \\alpha^2 &= \\ell^2 (q_r - q_\\ell) = \\frac{(p_r - p_\\ell) + Z_0 (u_r - u_\\ell)}{2 Z_0}\n",
    "\\end{aligned}$$\n",
    "with waves $\\mathcal{W}^1 = \\alpha^1 r^1$ and $\\mathcal{W}^2 = \\alpha^2 r^2$.\n",
    "\n",
    "The intermediate state is therefore\n",
    "$$\n",
    "    q_m = q_\\ell + \\alpha^1 r^1 = \\frac{1}{2} \\begin{bmatrix} (p_\\ell + p_r) - Z_0 (u_r - u_\\ell) \\\\ (u_\\ell + u_r) - (p_r - p_\\ell) / Z_0 \\end{bmatrix}.\n",
    "$$"
   ]
  },
  {
   "cell_type": "markdown",
   "metadata": {
    "slideshow": {
     "slide_type": "subslide"
    }
   },
   "source": [
    "As an exercise try to find the solutions of the Riemann problem with the initial condition\n",
    "$$\n",
    "    p_r < p_\\ell \\quad \\text{and} \\quad u_\\ell = u_r = 0.\n",
    "$$"
   ]
  },
  {
   "cell_type": "markdown",
   "metadata": {
    "slideshow": {
     "slide_type": "subslide"
    }
   },
   "source": [
    "Solution:\n",
    "$$\\begin{aligned}\n",
    "    \\alpha^1 &= \\frac{p_\\ell - p_r)}{2 Z_0} \\\\\n",
    "    \\alpha^2 &= \\frac{p_r - p_\\ell}{2 Z_0}\n",
    "\\end{aligned}$$\n",
    "with the middle state\n",
    "$$\n",
    "    q_m = \\frac{1}{2} \\begin{bmatrix} p_\\ell + p_r \\\\  (p_\\ell - p_r) / Z_0 \\end{bmatrix}.\n",
    "$$"
   ]
  }
 ],
 "metadata": {
  "kernelspec": {
   "display_name": "Python 3",
   "language": "python",
   "name": "python3"
  },
  "language_info": {
   "codemirror_mode": {
    "name": "ipython",
    "version": 3
   },
   "file_extension": ".py",
   "mimetype": "text/x-python",
   "name": "python",
   "nbconvert_exporter": "python",
   "pygments_lexer": "ipython3",
   "version": "3.13.7"
  }
 },
 "nbformat": 4,
 "nbformat_minor": 2
}
