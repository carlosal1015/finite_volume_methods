{
 "cells": [
  {
   "cell_type": "markdown",
   "metadata": {
    "slideshow": {
     "slide_type": "skip"
    }
   },
   "source": [
    "<table>\n",
    " <tr align=left><td><img align=left src=\"./images/CC-BY.png\">\n",
    " <td>Text provided under a Creative Commons Attribution license, CC-BY. All code is made available under the FSF-approved MIT license. (c) Kyle T. Mandli</td>\n",
    "</table>"
   ]
  },
  {
   "cell_type": "code",
   "execution_count": 1,
   "metadata": {
    "slideshow": {
     "slide_type": "skip"
    }
   },
   "outputs": [],
   "source": [
    "from __future__ import print_function\n",
    "\n",
    "%matplotlib inline\n",
    "\n",
    "import os\n",
    "import numpy\n",
    "import matplotlib.pyplot as plt\n",
    "import matplotlib.animation\n",
    "\n",
    "from IPython.display import HTML\n",
    "from clawpack import pyclaw\n",
    "from clawpack import riemann"
   ]
  },
  {
   "cell_type": "markdown",
   "metadata": {
    "slideshow": {
     "slide_type": "slide"
    }
   },
   "source": [
    "# Nonlinear Systems of Conservation Laws"
   ]
  },
  {
   "cell_type": "markdown",
   "metadata": {
    "slideshow": {
     "slide_type": "subslide"
    }
   },
   "source": [
    "We now turn to problems that are nonlinear and a system of equations.  This theory will combine ideas from both linear systems and nonlinear scalar equations.  In general this theory will split a single discontinuity into $m$ waves where $m$ is the number of equations.\n",
    "\n",
    "This theory will presented primarily in the context of the 1-dimensional shallow water equations so that we can look at a concrete example."
   ]
  },
  {
   "cell_type": "markdown",
   "metadata": {
    "slideshow": {
     "slide_type": "slide"
    }
   },
   "source": [
    "## Shallow Water\n",
    "\n",
    "The shallow water equations can most directly be derived from the invicid Navier-Stokes equations defined by\n",
    "$$\\begin{aligned}\n",
    "    &u_x + w_z = 0 & & \\text{incompressibility} \\\\\n",
    "    &u_t + (u^2)_x + (uw)_z = -\\frac{1}{\\rho} P_x & & \\text{x-momentum} \\\\\n",
    "    &u_t + (u^2)_x + (uw)_z = -\\frac{1}{\\rho} P_z - g & & \\text{z-momentum}\n",
    "\\end{aligned}$$\n",
    "along with the boundary conditions\n",
    "$$\n",
    "    \\left \\{ \\begin{aligned}\n",
    "        &w = \\eta_t + u \\eta_x \\\\\n",
    "        &P = P_a\n",
    "    \\end{aligned} \\right . \\quad \\quad z = \\eta\n",
    "$$\n",
    "and\n",
    "$$\n",
    "    w = ub_x \\quad z = b\n",
    "$$"
   ]
  },
  {
   "cell_type": "markdown",
   "metadata": {
    "slideshow": {
     "slide_type": "subslide"
    }
   },
   "source": [
    "### Non-Dimensionalization\n",
    "\n",
    "Since the shallow water equations are based on a scaling with respect to \"shallowness\" we will descibe that exansion but reintroduce a dimsional version in closing.\n",
    "\n",
    "To non-dimensionalize these equations we use the following scalings:\n",
    "$$\n",
    "    \\frac{x}{\\lambda} = \\widetilde{x} \\quad \\quad \\frac{z}{a} = \\widetilde{z} \\quad \\quad \\frac{t}{T} = \\widetilde{t}\\\\\n",
    "    \\frac{u}{U} = \\widetilde{u} \\quad \\quad \\frac{w}{W} = \\widetilde{w} \\quad \\quad \\frac{P}{P_0} = \\widetilde{P}\n",
    "$$\n",
    "Using these scalings we can then define\n",
    "$$\n",
    "    \\epsilon = \\frac{a}{\\lambda} \\quad \\quad U = \\sqrt{ga} \\quad \\quad W = \\epsilon U \\quad \\quad T = \\frac{\\lambda}{U}\n",
    "$$\n",
    "where $\\epsilon$ the shallow water parameter relating wave-length to depth and $g$ is gravitational acceleration."
   ]
  },
  {
   "cell_type": "markdown",
   "metadata": {
    "slideshow": {
     "slide_type": "subslide"
    }
   },
   "source": [
    "$$\n",
    "    \\frac{x}{\\lambda} = \\widetilde{x} \\quad \\quad \\frac{z}{a} = \\widetilde{z} \\quad \\quad \\frac{t}{T} = \\widetilde{t}\\\\\n",
    "    \\frac{u}{U} = \\widetilde{u} \\quad \\quad \\frac{w}{W} = \\widetilde{w} \\quad \\quad \\frac{P}{P_0} = \\widetilde{P} \\\\\n",
    "    \\epsilon = \\frac{a}{\\lambda} \\quad \\quad U = \\sqrt{ga} \\quad \\quad W = \\epsilon U \\quad \\quad T = \\frac{\\lambda}{U}\n",
    "$$\n",
    "Applying the scalings above we can transform the incompressibility equation to\n",
    "$$\n",
    "\\begin{aligned}\n",
    "    &u_x + w_z = 0 \\Rightarrow \\\\\n",
    "    &\\frac{U}{\\lambda} \\widetilde{u}_{\\widetilde{x}} + \\frac{W}{a} \\widetilde{w}_{\\widetilde{z}} = 0 \\Rightarrow \\\\\n",
    "    &\\widetilde{u}_{\\widetilde{x}} + \\frac{\\epsilon U \\lambda}{a U} \\widetilde{w}_{\\widetilde{z}} = 0 \\Rightarrow \\\\\n",
    "    &\\widetilde{u}_{\\widetilde{x}} + \\widetilde{w}_{\\widetilde{z}} = 0.\n",
    "\\end{aligned}\n",
    "$$"
   ]
  },
  {
   "cell_type": "markdown",
   "metadata": {
    "slideshow": {
     "slide_type": "subslide"
    }
   },
   "source": [
    "$$\n",
    "    \\frac{x}{\\lambda} = \\widetilde{x} \\quad \\quad \\frac{z}{a} = \\widetilde{z} \\quad \\quad \\frac{t}{T} = \\widetilde{t}\\\\\n",
    "    \\frac{u}{U} = \\widetilde{u} \\quad \\quad \\frac{w}{W} = \\widetilde{w} \\quad \\quad \\frac{P}{P_0} = \\widetilde{P} \\\\\n",
    "    \\epsilon = \\frac{a}{\\lambda} \\quad \\quad U = \\sqrt{ga} \\quad \\quad W = \\epsilon U \\quad \\quad T = \\frac{\\lambda}{U}\n",
    "$$\n",
    "Applying the scalings again we can transform the x-momentum equation to\n",
    "$$\\begin{aligned}\n",
    "    &u_t + (u^2)_x + (uw)_z = -\\frac{1}{\\rho} P_x \\Rightarrow \\\\\n",
    "    &\\frac{U}{T} \\widetilde{u}_{\\widetilde{t}} + \\frac{U^2}{\\lambda} (\\widetilde{u}^2)_{\\widetilde{x}} + \\frac{UW}{a} (\\widetilde{u}\\widetilde{w})_{\\widetilde{z}} = -\\frac{P_0}{\\rho \\lambda} \\widetilde{P}_{\\widetilde{x}} \\Rightarrow \\\\\n",
    "    &\\tilde{u}_{\\widetilde{t}} + \\frac{UT}{\\lambda} (\\widetilde{u}^2)_{\\widetilde{x}} + \\frac{TW}{a} (\\widetilde{u}\\widetilde{w})_{\\widetilde{z}} = -\\frac{TP_0}{\\rho \\lambda U} \\widetilde{P}_{\\widetilde{x}} \\Rightarrow \\\\\n",
    "    &\\tilde{u}_{\\tilde{t}} + (\\tilde{u}^2)_{\\tilde{x}} + (\\widetilde{u}\\widetilde{w})_{\\widetilde{z}} = -\\frac{P_0}{\\rho U^2} \\widetilde{P}_{\\widetilde{x}} \n",
    "\\end{aligned}$$\n",
    "If we now use the scaling $\\frac{P_0}{\\rho U^2} = 1$ then we arrive at the appropriate non-dimensional x-momentum PDE:\n",
    "$$\n",
    "    \\widetilde{u}_{\\widetilde{t}} + (\\widetilde{u}^2)_{\\widetilde{x}} + (\\widetilde{u}\\widetilde{w})_{\\widetilde{z}} = -\\widetilde{P}_{\\widetilde{x}} \n",
    "$$"
   ]
  },
  {
   "cell_type": "markdown",
   "metadata": {
    "slideshow": {
     "slide_type": "subslide"
    }
   },
   "source": [
    "$$\n",
    "    \\frac{x}{\\lambda} = \\widetilde{x} \\quad \\quad \\frac{z}{a} = \\widetilde{z} \\quad \\quad \\frac{t}{T} = \\widetilde{t}\\\\\n",
    "    \\frac{u}{U} = \\widetilde{u} \\quad \\quad \\frac{w}{W} = \\widetilde{w} \\quad \\quad \\frac{P}{P_0} = \\widetilde{P} \\\\\n",
    "    \\epsilon = \\frac{a}{\\lambda} \\quad \\quad U = \\sqrt{ga} \\quad \\quad W = \\epsilon U \\quad \\quad T = \\frac{\\lambda}{U}\n",
    "$$\n",
    "Finally applying the same procedure to the z-momentum equations we have\n",
    "$$\\begin{aligned}\n",
    "    &w_t + (uw)_x + (w^2)_z = -\\frac{1}{\\rho} P_z - g \\Rightarrow \\\\\n",
    "    &\\frac{W}{T}\\widetilde{w}_{\\widetilde{t}} + \\frac{UW}{\\lambda}(\\widetilde{u}\\widetilde{w})_{\\widetilde{x}} + \\frac{W^2}{a}(\\widetilde{w}^2)_{\\widetilde{z}} = -\\frac{P_0}{\\rho a} \\widetilde{P}_{\\widetilde{z}} - g \\Rightarrow \\\\\n",
    "    &\\widetilde{w}_{\\widetilde{t}} + \\frac{UT}{\\lambda}(\\widetilde{u}\\widetilde{w})_{\\widetilde{x}} + \\frac{WT}{a}(\\widetilde{w}^2)_{\\widetilde{z}} = -\\frac{T}{W} \\left (\\frac{P_0}{\\rho a} \\widetilde{P}_{\\tilde{z}} + g \\right ) \\Rightarrow \\\\\n",
    "    &\\widetilde{w}_{\\widetilde{t}} + (\\widetilde{u}\\widetilde{w})_{\\widetilde{x}} + (\\widetilde{w}^2)_{\\widetilde{z}} = -\\frac{\\lambda}{\\epsilon U^2} \\left (\\frac{P_0}{\\rho a} \\widetilde{P}_{\\widetilde{z}} + g \\right ) \\Rightarrow \\\\\n",
    "    &\\widetilde{w}_{\\widetilde{t}} + (\\widetilde{u}\\widetilde{w})_{\\widetilde{x}} + (\\widetilde{w}^2)_{\\widetilde{z}} = -\\frac{1}{g \\epsilon^2} \\left (g \\widetilde{P}_{\\widetilde{z}} + g \\right ) \\Rightarrow \\\\\n",
    "    &\\epsilon^2 \\left (\\widetilde{w}_{\\widetilde{t}} + (\\widetilde{u}\\widetilde{w})_{\\widetilde{x}} + (\\widetilde{w}^2)_{\\widetilde{z}} \\right )= - \\widetilde{P}_{\\widetilde{z}} - g\n",
    "\\end{aligned}\n",
    "$$"
   ]
  },
  {
   "cell_type": "markdown",
   "metadata": {
    "slideshow": {
     "slide_type": "subslide"
    }
   },
   "source": [
    "For the boundary conditions we also need to introduce these scalings along with $\\frac{\\eta}{\\delta} = \\widetilde{\\eta}$ and $\\frac{b}{\\beta} = \\widetilde{b}$:\n",
    "$$\\begin{aligned}\n",
    "    &w = \\eta_t + u \\eta_x \\Rightarrow \\\\\n",
    "    &\\epsilon U \\widetilde{w} = \\frac{\\delta U}{\\lambda} \\widetilde{\\eta}_{\\widetilde{t}} + \\frac{U\\delta}{\\lambda} \\widetilde{u} \\widetilde{\\eta}_{\\widetilde{x}} \\Rightarrow \\\\\n",
    "    &\\epsilon \\frac{\\lambda}{\\delta} \\widetilde{w} = \\widetilde{\\eta}_{\\widetilde{t}} + \\widetilde{u} \\widetilde{\\eta}_{\\widetilde{x}}\n",
    "\\end{aligned}$$\n",
    "and\n",
    "$$\\begin{aligned}\n",
    "    &w = u b_x \\Rightarrow \\\\\n",
    "    &\\epsilon \\frac{\\lambda}{\\beta} \\widetilde{w} = \\widetilde{u} \\widetilde{b}_{\\widetilde{x}}\n",
    "\\end{aligned}$$\n",
    "\n",
    "For the upper boundary condition, if $\\frac{\\delta}{\\lambda} = \\mathcal{O}(\\epsilon)$ the boundary condition is all of the same order.  This is probably not the case as $\\delta \\ll a$ unless in very shallow water.\n",
    "\n",
    "The lower boundary condition is a similar situation, if $\\frac{\\beta}{\\lambda} = \\mathcal{O}(\\epsilon)$ the boundary condition is all of the same order.  In the case of the bathymetry scale, this is probably the case as the bathymetry will vary on the scale of the depth scale $a$."
   ]
  },
  {
   "cell_type": "markdown",
   "metadata": {
    "slideshow": {
     "slide_type": "subslide"
    }
   },
   "source": [
    "The final non-dimensionalized equations are then (dropping the $\\widetilde{\\cdot}$):\n",
    "$$\\begin{aligned}\n",
    "    &u_x + w_z = 0 \\\\\n",
    "    &u_t + (u^2)_x + (uw)_z = -P_x \\\\\n",
    "    &\\epsilon^2 \\left (w_t + (uw)_x + (w^2)_z \\right ) = -P_z - 1\n",
    "\\end{aligned}$$\n",
    "with boundary conditions:\n",
    "$$\\begin{aligned}\n",
    "        &\\epsilon \\frac{\\lambda}{\\delta}w = \\eta_t + u \\eta_x \\quad P = P'_a \\quad &z = \\eta\\\\\n",
    "        &\\epsilon \\frac{\\lambda}{\\beta}w = u b_x &z = b\n",
    "\\end{aligned}$$\n",
    "where $P'_a$ is the appropriately scaled atmospheric pressure condition."
   ]
  },
  {
   "cell_type": "markdown",
   "metadata": {
    "slideshow": {
     "slide_type": "subslide"
    }
   },
   "source": [
    "### Depth Integration\n",
    "\n",
    "Integrating the non-dimensionalized incompressibility equations gives us:\n",
    "$$\\begin{aligned}\n",
    "        &\\int^{\\eta}_b \\left ( u_x + w_z \\right) dz = 0 \\Rightarrow \\\\\n",
    "        &\\frac{\\partial}{\\partial x} \\int^{\\eta}_b u dz - u \\eta_x |_{z=\\eta} + u b_x |_{z=b} + w|_{z=\\eta} - w|_{z=b} = 0 \\Rightarrow \\\\\n",
    "        &\\frac{\\partial}{\\partial x} \\int^{\\eta}_b u dz + \\left [w - u \\eta_x\\right ]_{z=\\eta} + \\left [u b_x - w \\right]_{z=b} = 0 \\Rightarrow \\\\\n",
    "        &\\frac{\\partial}{\\partial x} \\int^{\\eta}_b u dz + \\eta_t = 0 \\Rightarrow \\\\\n",
    "        &h_t + \\frac{\\partial}{\\partial x} \\int^{\\eta}_b u dz = 0\n",
    "\\end{aligned}$$"
   ]
  },
  {
   "cell_type": "markdown",
   "metadata": {
    "slideshow": {
     "slide_type": "subslide"
    }
   },
   "source": [
    "Before we integrate the momentum equations we will introduce one of the two assumptions made to simplify the original equations.\n",
    "1. The **hydrostatic assumption** assumes that the pressure is dominated by the gravitational force:\n",
    "$$\n",
    "    P = P_a + (\\eta - z).\n",
    "$$\n",
    "1. The **differential advection** assumption assumes that there is little variation of the horizontal velocity $u$ through the water vertically.  This then implies that\n",
    "$$\n",
    "    \\overline{f \\cdot g} = \\overline{f} \\cdot \\overline{g}\n",
    "$$\n",
    "where\n",
    "$$\n",
    "    \\overline{(f \\cdot g)} = \\frac{1}{h} \\int^\\eta_b f \\cdot g dz.\n",
    "$$"
   ]
  },
  {
   "cell_type": "markdown",
   "metadata": {
    "slideshow": {
     "slide_type": "subslide"
    }
   },
   "source": [
    "Moving back to the integration of the momentum equations we will first start with the z-momentum equations, since the z-momentum equation is multiplied by what we will assume is a small parameter, i.e. $\\epsilon \\ll 1$, we can simplify the vertical momentum equation to\n",
    "$$\\begin{aligned}\n",
    "    0 &= - P_z - 1 \\\\\n",
    "    P_z &= -1 \\\\\n",
    "    P &= P_a + (\\eta - z),\n",
    "\\end{aligned}$$\n",
    "which now justifies our assumption of hydrostatic equilibrium."
   ]
  },
  {
   "cell_type": "markdown",
   "metadata": {
    "slideshow": {
     "slide_type": "subslide"
    }
   },
   "source": [
    "For the x-momentum equation we have now\n",
    "$$\\begin{aligned}\n",
    "    &\\int^{\\eta}_b \\left ( u_t + (u^2)_x + (uw)_z \\right) dz = - \\int^{\\eta}_b (P_a + (\\eta - z))_x dz \\Rightarrow \\\\\n",
    "    &\\frac{\\partial}{\\partial t} \\int^{\\eta}_b u dz - \\eta_t u|_{z=\\eta} + \\frac{\\partial}{\\partial x} \\int^{\\eta}_b u^2 dz - \\eta_x u^2|_{z=\\eta} + b_x u^2|_{z=b} + uw|_{z=\\eta} - uw|_{z=b} = - \\int^{\\eta}_b (\\eta)_x dz \\\\\n",
    "    &\\frac{\\partial}{\\partial t} \\int^{\\eta}_b u dz + \\frac{\\partial}{\\partial x} \\int^{\\eta}_b u^2 dz  - \\left [u (\\eta_t + \\eta_x u - w) \\right]_{z=\\eta} + \\left[u (b_x u - w)\\right]_{z=b} = - \\frac{\\partial}{\\partial x} \\int^{\\eta}_b \\eta dz + \\eta_x \\eta - b_x \\eta \\\\\n",
    "    &\\frac{\\partial}{\\partial t} \\int^{\\eta}_b u dz + \\frac{\\partial}{\\partial x} \\int^{\\eta}_b u^2 dz = \\frac{\\partial}{\\partial x} \\left[ -\\eta h + \\frac{1}{2} \\eta^2 \\right ] - b_x \\eta \\\\\n",
    "        &\\frac{\\partial}{\\partial t} \\int^{\\eta}_b u dz + \\frac{\\partial}{\\partial x} \\int^{\\eta}_b u^2 dz = \\frac{\\partial}{\\partial x} \\left[ -h^2 + hb  + \\frac{1}{2} (h^2 + 2hb + b^2) \\right ] - b_x (h+b) \\Rightarrow \\\\\n",
    "        &\\frac{\\partial}{\\partial t} \\int^{\\eta}_b u dz + \\frac{\\partial}{\\partial x} \\int^{\\eta}_b u^2 dz = \\frac{\\partial}{\\partial x} \\left[ - \\frac{1}{2} h^2 \\right ] - b_x h\\\\\n",
    "        &\\frac{\\partial}{\\partial t} \\int^{\\eta}_b u dz + \\frac{\\partial}{\\partial x} \\left ( \\int^{\\eta}_b u^2 dz + \\frac{1}{2} h^2 \\right ) = - b_x h\n",
    "\\end{aligned}$$"
   ]
  },
  {
   "cell_type": "markdown",
   "metadata": {
    "slideshow": {
     "slide_type": "subslide"
    }
   },
   "source": [
    "Now if we use our differential advection assumption and simplify the notation\n",
    "$$\n",
    "    \\overline{u} = \\frac{1}{h} \\int^{\\eta}_b u dz \\quad \\quad\n",
    "    \\overline{u^2} = \\frac{1}{h} \\int^{\\eta}_b u^2 dz\n",
    "$$\n",
    "we then have from the incompressibility integration\n",
    "$$\\begin{aligned}\n",
    "    &h_t + \\frac{\\partial}{\\partial x} \\int^{\\eta}_b u dz = 0 \\\\\n",
    "    &h_t + (h \\overline{u})_x = 0\n",
    "\\end{aligned}$$\n",
    "and the x-momentum equation\n",
    "$$\\begin{aligned}\n",
    "    &\\frac{\\partial}{\\partial t} \\int^{\\eta}_b u dz + \\frac{\\partial}{\\partial x} \\left ( \\int^{\\eta}_b u^2 dz + \\frac{1}{2} h^2 \\right ) = - b_x h \\\\\n",
    "    & (h\\overline{u})_t + \\left ( h \\overline{u}^2 + \\frac{1}{2} h^2 \\right )_x = - b_x h.\n",
    "\\end{aligned}$$\n",
    "Finally dropping the averaging bars we are lead to the shallow water equations:\n",
    "$$\\begin{aligned}\n",
    "    &h_t + (hu)_x = 0 \\\\\n",
    "    &(hu)_t + \\left (hu^2 + \\frac{1}{2} h^2 \\right)_x = -h b_x\n",
    "\\end{aligned}$$"
   ]
  },
  {
   "cell_type": "markdown",
   "metadata": {
    "slideshow": {
     "slide_type": "subslide"
    }
   },
   "source": [
    "Although these above equations are a valid we will simplify our discussion and drop the term due to bathymetry $b$ and also reapply the dimensional version leading to our final form of the equations\n",
    "$$\\begin{aligned}\n",
    "    &h_t + (hu)_x = 0 \\\\\n",
    "    &(hu)_t + \\left (hu^2 + \\frac{1}{2} g h^2 \\right)_x = 0\n",
    "\\end{aligned}$$\n",
    "leading to a conservation law."
   ]
  },
  {
   "cell_type": "markdown",
   "metadata": {
    "slideshow": {
     "slide_type": "subslide"
    }
   },
   "source": [
    "Note that we can also derive this set of equations from our more direct methods of considering fluxes but some assumptions must be made that makes these equations more difficult to justify.  See the textbook if you would like to this derivation."
   ]
  },
  {
   "cell_type": "markdown",
   "metadata": {
    "slideshow": {
     "slide_type": "subslide"
    }
   },
   "source": [
    "Analyzing this equation in the context of systems of hyperbolic eqautions the first order of business is to compute the Jacobian of the flux function.  First define the vector of the solution as\n",
    "$$\n",
    "    q(x,t) = \\begin{bmatrix} h \\\\ hu \\end{bmatrix}\n",
    "$$\n",
    "and the flux function as\n",
    "$$\n",
    "    f(q) = \\begin{bmatrix} hu \\\\ hu^2 + \\frac{1}{2} gh^2 \\end{bmatrix} = \\begin{bmatrix} q^2 \\\\ \\frac{(q^2)^2)}{q^1} + \\frac{1}{2} g (q^1)^2 \\end{bmatrix}.\n",
    "$$\n",
    "Note at this point that the flux is in-fact convex."
   ]
  },
  {
   "cell_type": "markdown",
   "metadata": {
    "slideshow": {
     "slide_type": "subslide"
    }
   },
   "source": [
    "The quasi-linear form of the equations is defined by\n",
    "$$\n",
    "    q_t + f'(q) q_x = 0\n",
    "$$\n",
    "where\n",
    "$$\n",
    "    f'(q) = \\begin{bmatrix}\n",
    "        0 & 1 \\\\\n",
    "        -(q^2 / q^1)^2 + g q^1 & 2 q^2 / q^1\n",
    "    \\end{bmatrix} = \\begin{bmatrix}\n",
    "        0 & 1 \\\\\n",
    "        -u^2 + gh & 2u\n",
    "    \\end{bmatrix}.\n",
    "$$\n",
    "The eigensystem therfore has the structure\n",
    "$$\n",
    "    \\lambda = u \\pm \\sqrt{gh} \\text{ and } R = \\begin{bmatrix}\n",
    "        1 & 1 \\\\ u - \\sqrt{gh} & u + \\sqrt{gh} \\end{bmatrix}\n",
    "$$\n",
    "These waves (speeds) are known as **gravity waves** (speeds) are are important for determining the behavior even in the simple case of a Riemann problem.  The non-dimensional parameter that is often used in these cases is often called the **Froude number** defined as}\n",
    "$$\n",
    "    \\text{Fr} = \\frac{|u|}{\\sqrt{gh}}\n",
    "$$\n",
    "and is similar to the role of the speed of sound in gasses."
   ]
  },
  {
   "cell_type": "markdown",
   "metadata": {
    "slideshow": {
     "slide_type": "slide"
    }
   },
   "source": [
    "## Dam-Break and Riemann Problems"
   ]
  },
  {
   "cell_type": "markdown",
   "metadata": {
    "slideshow": {
     "slide_type": "subslide"
    }
   },
   "source": []
  }
 ],
 "metadata": {
  "celltoolbar": "Slideshow",
  "kernelspec": {
   "display_name": "Python 3",
   "language": "python",
   "name": "python3"
  },
  "language_info": {
   "codemirror_mode": {
    "name": "ipython",
    "version": 3
   },
   "file_extension": ".py",
   "mimetype": "text/x-python",
   "name": "python",
   "nbconvert_exporter": "python",
   "pygments_lexer": "ipython3",
   "version": "3.7.4"
  }
 },
 "nbformat": 4,
 "nbformat_minor": 2
}
