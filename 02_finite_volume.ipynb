{
 "cells": [
  {
   "cell_type": "markdown",
   "metadata": {
    "slideshow": {
     "slide_type": "skip"
    }
   },
   "source": [
    "<table>\n",
    " <tr align=left><td><img align=left src=\"./images/CC-BY.png\">\n",
    " <td>Text provided under a Creative Commons Attribution license, CC-BY. All code is made available under the FSF-approved MIT license. (c) Kyle T. Mandli</td>\n",
    "</table>"
   ]
  },
  {
   "cell_type": "code",
   "execution_count": null,
   "metadata": {
    "slideshow": {
     "slide_type": "skip"
    }
   },
   "outputs": [],
   "source": [
    "from __future__ import print_function\n",
    "\n",
    "%matplotlib inline\n",
    "import numpy\n",
    "import matplotlib.pyplot as plt"
   ]
  },
  {
   "cell_type": "markdown",
   "metadata": {
    "slideshow": {
     "slide_type": "slide"
    }
   },
   "source": [
    "# Finite Volume Methods"
   ]
  },
  {
   "cell_type": "markdown",
   "metadata": {
    "slideshow": {
     "slide_type": "slide"
    }
   },
   "source": [
    "## General Formulation of a Conservation Law\n",
    "\n",
    "Define the value\n",
    "$$\n",
    "    Q^n_i \\approx \\frac{1}{\\Delta x} \\int^{x_{i+1/2}}_{x_{i-1/2}} q(x, t_n) dx \\equiv \\frac{1}{\\Delta x} \\int_{\\mathcal{C}_i} q(x, t_n) dx\n",
    "$$\n",
    "where the $i$th **grid cell** is denoted by\n",
    "$$\n",
    "    \\mathcal{C}_i \\equiv (x_{i-1/2}, x_{i+1/2})\n",
    "$$\n",
    "and $\\Delta x = x_{i+1/2} - x_{i-1/2}$.  \n",
    "\n",
    "If $q(x,t)$ is smooth then the average value \n",
    "$$\n",
    "    Q^n_i = q(x_i, t_n) + \\mathcal{O}(\\Delta x^2)\n",
    "$$"
   ]
  },
  {
   "cell_type": "markdown",
   "metadata": {
    "slideshow": {
     "slide_type": "subslide"
    }
   },
   "source": [
    "With this definition we now return to our version of the conservation  law written over the cell $\\mathcal{C}_i$:\n",
    "$$\n",
    "    \\frac{\\text{d}}{\\text{d} t} \\int_{\\mathcal{C}_i} q(x,t) dx = f(q(x_{i-1/2}, t)) - f(q(x_{i+1/2}, t)).\n",
    "$$\n",
    "Now take the following steps:\n",
    "$$\\begin{aligned}\n",
    "    \\frac{\\text{d}}{\\text{d} t} \\int_{\\mathcal{C}_i} q(x,t) dx &= f(q(x_{i-1/2}, t)) - f(q(x_{i+1/2}, t)) & & \\text{Original}\\\\\n",
    "    \\int_{\\mathcal{C}_i} q(x,t_{n+1}) dx - \\int_{\\mathcal{C}_i} q(x,t_{n}) dx &= \\int^{t_{n+1}}_{t_n} \\left[ f(q(x_{i-1/2}, t)) - f(q(x_{i+1/2}, t)) \\right ] dt & & \\text{Integrate over } [t_n, t_{n+1}] \\\\\n",
    "    \\frac{1}{\\Delta x} \\int_{\\mathcal{C}_i} q(x,t_{n+1}) dx &= \\frac{1}{\\Delta x} \\int_{\\mathcal{C}_i} q(x,t_{n}) dx + \\frac{1}{\\Delta x} \\int^{t_{n+1}}_{t_n} \\left[ f(q(x_{i-1/2}, t)) - f(q(x_{i+1/2}, t)) \\right ] dt & & \\text{Rearrange and divide by } \\Delta x \\\\\n",
    "    Q^{n+1}_i &= Q^n_i + \\frac{1}{\\Delta x} \\int^{t_{n+1}}_{t_n} \\left[ f(q(x_{i-1/2}, t)) - f(q(x_{i+1/2}, t)) \\right ] dt & & \\text{Approximate with averages } Q^{n+1,n}_i \\\\\n",
    "    Q^{n+1}_i &= Q^n_i - \\frac{\\Delta t}{\\Delta x} (F^n_{i+1/2} - F^n_{i-1/2}) & & \\text{Replace with }F_{i\\pm1/2} \\\\\n",
    "\\end{aligned}$$\n",
    "where\n",
    "$$\n",
    "    F^n_{i\\pm 1/2} \\approx \\frac{1}{\\Delta t} \\int^{t_{n+1}}_{t_n} f(q(x_{i\\pm 1/2}, t)) dt.\n",
    "$$"
   ]
  },
  {
   "cell_type": "markdown",
   "metadata": {
    "slideshow": {
     "slide_type": "subslide"
    }
   },
   "source": [
    "This approximate flux should have a formula akin to\n",
    "$$\n",
    "    F^n_{i-1/2} = \\mathcal{F}(Q^n_{i-1}, Q^n_i)\n",
    "$$\n",
    "where here we are thinking of $\\mathcal{F}$ as a numerical flux function.  The question then turns to how to prescribe a **numerical flux function**.  Note that this implies that the update to $Q^{n+1}_i$ depends on three previous values, $Q^n_{i-1}, Q^n_{i}, Q^n_{i+1}$."
   ]
  },
  {
   "cell_type": "markdown",
   "metadata": {
    "slideshow": {
     "slide_type": "subslide"
    }
   },
   "source": [
    "We can also now discuss how conservation should be described numerically.  If\n",
    "$$\n",
    "    \\Delta x \\sum^J_{i=I} Q^{n+1}_i = \\Delta x \\sum^J_{i=I} Q^n_i - \\frac{\\Delta t}{\\Delta x} (F^n_{J+1/2} - F^n_{I-1/2})\n",
    "$$\n",
    "and the sum of the fluxes cancels then **global conservation** is maintained up to the boundaries of the domain."
   ]
  },
  {
   "cell_type": "markdown",
   "metadata": {
    "slideshow": {
     "slide_type": "subslide"
    }
   },
   "source": [
    "We can also rewrite the numerical methods as\n",
    "$$\n",
    "    \\frac{Q^{n+1}_i - Q^n_i}{\\Delta t} + \\frac{F^n_{i+1/2} - F^n_{i-1/2}}{\\Delta x} = 0\n",
    "$$\n",
    "which implies that we have formulated a first order method in terms of finite difference methods.  We will find that this is not entirely the case depending on what is prescribed for $F_{i\\pm 1/2}$."
   ]
  },
  {
   "cell_type": "markdown",
   "metadata": {
    "slideshow": {
     "slide_type": "subslide"
    }
   },
   "source": [
    "## Numerical Flux for the Diffusion Equation\n",
    "\n",
    "An interesting exercise at this point is to consider a more general method to the above approach.  Consider again the parabolic heat equation.  We can define a flux function that contains a derivative of $q$ such that\n",
    "$$\n",
    "    f(q_x, x) = -\\beta(x) q_x.\n",
    "$$\n",
    "Cleary this gives us the heat equation if we substitute this flux function into our general equations\n",
    "$$\n",
    "    q_t + f(q_x, x)_x = q_t - (\\beta(x) q_x)_x = 0.\n",
    "$$"
   ]
  },
  {
   "cell_type": "markdown",
   "metadata": {
    "slideshow": {
     "slide_type": "subslide"
    }
   },
   "source": [
    "One way to prescribe a numerical flux would be the following:\n",
    "$$\n",
    "    \\mathcal{F}(Q_{i-1}, Q_i) = -\\beta_{i-1/2} \\left ( \\frac{Q_i - Q_{i-1}}{\\Delta x} \\right ).\n",
    "$$\n",
    "If we use this in our previous definition we then have\n",
    "$$\n",
    "    Q^{n+1}_i = Q^n_i + \\frac{\\Delta t}{\\Delta x^2} \\left[ \\beta_{i+1/2}(Q^n_{i+1} - Q^n_i) - \\beta_{i-1/2} (Q^n_i - Q^n_{i-1}) \\right]\n",
    "$$\n",
    "noting that if $\\beta$ is constant we have\n",
    "$$\n",
    "    Q^{n+1}_i = Q^n_i + \\beta \\frac{\\Delta t }{\\Delta x^2} \\left[ Q^n_{i+1} - 2 Q^n_i + Q^n_{i-1} \\right]\n",
    "$$"
   ]
  },
  {
   "cell_type": "markdown",
   "metadata": {
    "slideshow": {
     "slide_type": "subslide"
    }
   },
   "source": [
    "We however know that the previous scheme is not ideal.  Instead if we use the well-known Crank-Nicolson scheme we have\n",
    "$$\n",
    "    Q^{n+1}_i = Q^n_i + \\frac{\\Delta t}{2 \\Delta x^2} \\left[ \\beta_{i+1/2}(Q^n_{i+1} - Q^n_i) - \\beta_{i-1/2} (Q^n_i - Q^n_{i-1}) + \\beta_{i+1/2}(Q^{n+1}_{i+1} - Q^{n+1}_i) - \\beta_{i-1/2} (Q^{n+1}_i - Q^{n+1}_{i-1})\\right ]\n",
    "$$\n",
    "with the flux\n",
    "$$\n",
    "    F^n_{i-1/2} = -\\frac{1}{\\Delta x} \\left[ \\beta_{i-1/2} (Q^n_i - Q^n_{i-1}) + \\beta_{i-1/2} (Q^{n+1}_i - Q^{n+1}_{i-1}) \\right ]\n",
    "$$"
   ]
  },
  {
   "cell_type": "markdown",
   "metadata": {
    "slideshow": {
     "slide_type": "slide"
    }
   },
   "source": [
    "## Convergence\n",
    "\n",
    "For any numerical method we desire that as $\\Delta x, \\Delta t \\rightarrow 0$ that the numerical solution converges to the true solution.  This generally requires the following conditions:\n",
    "\n",
    "1. The method must be consistent:  the approximation is valid locally.\n",
    "1. The method must be stable:  small errors do not accumalate too fast."
   ]
  },
  {
   "cell_type": "markdown",
   "metadata": {
    "slideshow": {
     "slide_type": "subslide"
    }
   },
   "source": [
    "### Consistency\n",
    "\n",
    "In the case of numerical fluxes we want to require that the numerical flux reduces to the true flux in some sense.  One way to require this is to ensure for regions where $q$ is constant that the numerical flux agrees with the flux function:\n",
    "$$\n",
    "    \\mathcal{F}(q, q) = f(q).\n",
    "$$\n",
    "A more formal definition is to ensure that there is some sort of Lipschitz continuity of the form\n",
    "$$\n",
    "    |\\mathcal{F}(Q_{i-1}, Q_i) - f(q)| \\leq L \\text{max}(|Q_i - q|, |Q_{i-1} - q|).\n",
    "$$"
   ]
  },
  {
   "cell_type": "markdown",
   "metadata": {
    "slideshow": {
     "slide_type": "subslide"
    }
   },
   "source": [
    "### Stability\n",
    "\n",
    "Stability can take on many different forms, many of which will be discussed later.  Here we will consider the necessary condition of CFL stability.  This is usually expressed as\n",
    "\n",
    "$$\n",
    "    \\nu \\equiv \\left |\\frac{u \\Delta t}{\\Delta x} \\right | \\leq 1.\n",
    "$$"
   ]
  },
  {
   "cell_type": "markdown",
   "metadata": {
    "slideshow": {
     "slide_type": "slide"
    }
   },
   "source": [
    "## Numerical Fluxes\n",
    "\n",
    "We now will consider a number of different flux defintions and consider their viability."
   ]
  },
  {
   "cell_type": "markdown",
   "metadata": {
    "slideshow": {
     "slide_type": "subslide"
    }
   },
   "source": [
    "### Example: Unstable Flux\n",
    "\n",
    "Consider the flux\n",
    "$$\n",
    "    F^n_{i-1/2} = \\mathcal{F}(Q^n_{i-1}, Q^n_i) = \\frac{1}{2} [f(Q^n_{i-1}) + f(Q^n_i)]\n",
    "$$\n",
    "leading to the method\n",
    "$$\n",
    "    Q^{n+1}_i = Q^n_i - \\frac{\\Delta t}{2 \\Delta x} [f(Q^n_{i+1}) + f(Q^n_{i-1})].\n",
    "$$\n",
    "\n",
    "Unfortunately this method is unstable!"
   ]
  },
  {
   "cell_type": "markdown",
   "metadata": {
    "slideshow": {
     "slide_type": "subslide"
    }
   },
   "source": [
    "### Example: Lax-Friedrichs Method\n",
    "\n",
    "The classical Lax-Friedrichs method has the flux function\n",
    "$$\n",
    "    \\mathcal{F}(Q^n_{i-1}, Q^n_i) = \\frac{1}{2} [f(Q^n_{i-1}) + f(Q^n_i)] - \\frac{\\Delta x}{2 \\Delta t} (Q^n_i - Q^n_{i-1})\n",
    "$$\n",
    "and the full method\n",
    "$$\n",
    "    Q^{n+1}_i = \\frac{1}{2} (Q^n_{i-1} + Q^n_{i+1}) - \\frac{\\Delta t}{2 \\Delta x} [ f(Q^n_{i+1}) - f(Q^n_{i-1})]\n",
    "$$\n",
    "leading to a first order accurate method."
   ]
  },
  {
   "cell_type": "markdown",
   "metadata": {
    "slideshow": {
     "slide_type": "subslide"
    }
   },
   "source": [
    "### Example: Upwind Methods\n",
    "\n",
    "We know from finite difference methods that upwind methods have a significant advantage over more general methods by simply looking at where the flow is coming from thereby satisfying the CFL condition.  In terms of fluxes the upwind method for advection is\n",
    "$$\n",
    "    F^n_{i-1/2} = u Q^n_{i-1}\n",
    "$$\n",
    "if $u \\ge 0$.  Using this flux function gives us the standard upwind method\n",
    "$$\n",
    "    Q^{n+1}_i = Q^n_i - \\frac{u \\Delta t}{\\Delta x} (Q^n_i - Q^n_{i-1}).\n",
    "$$"
   ]
  },
  {
   "cell_type": "markdown",
   "metadata": {
    "slideshow": {
     "slide_type": "subslide"
    }
   },
   "source": [
    "Note that the last equation has a difference of the values of $Q$ meaning that we can write this in terms of our waves.  In this context the numerical method can be written as\n",
    "$$\n",
    "    Q^{n+1}_i = Q^n_i - \\frac{u \\Delta t}{\\Delta x} \\mathcal{W}_{i-1/2}.\n",
    "$$"
   ]
  },
  {
   "cell_type": "markdown",
   "metadata": {
    "slideshow": {
     "slide_type": "subslide"
    }
   },
   "source": [
    "We can also write the method in terms of $u \\leq 0$ as\n",
    "$$\n",
    "    Q^{n+1}_i = Q^n_i - \\frac{u \\Delta t}{\\Delta x} \\mathcal{W}_{i+1/2}.\n",
    "$$"
   ]
  },
  {
   "cell_type": "markdown",
   "metadata": {
    "slideshow": {
     "slide_type": "subslide"
    }
   },
   "source": [
    "We can generalize this so that we can define a flux function\n",
    "$$\n",
    "    F^n_{i-1/2} = u^- Q^n_i + u^+ Q^n_{i-1}\n",
    "$$\n",
    "where\n",
    "$$\n",
    "    u^+ = \\text{max}(u, 0) \\text{   and    } u^- = \\text{min}(u, 0)\n",
    "$$\n",
    "allowing us to write a more general method as\n",
    "$$\n",
    "    Q^{n+1}_i = Q^n_i - \\frac{\\Delta t}{\\Delta x} (u^+ \\mathcal{W}_{i-1/2} + u^- \\mathcal{W}_{i+1/2})\n",
    "$$"
   ]
  },
  {
   "cell_type": "markdown",
   "metadata": {
    "slideshow": {
     "slide_type": "slide"
    }
   },
   "source": [
    "## Godunov's Method\n",
    "\n",
    "One of the most well-known approaches for constructing a solution to a Riemann problem and a cell update is **Godunov's method**.  For linear advection upwind is a special case of Godunov's method."
   ]
  },
  {
   "cell_type": "markdown",
   "metadata": {
    "slideshow": {
     "slide_type": "subslide"
    }
   },
   "source": [
    "### REA Algorithm\n",
    "\n",
    "One way to view Godunov's method is in the algorithmic steps\n",
    "\n",
    "1. Reconstruct\n",
    "1. Evolve\n",
    "1. Average\n",
    "\n",
    "We will go through each step in detail next."
   ]
  },
  {
   "cell_type": "markdown",
   "metadata": {
    "slideshow": {
     "slide_type": "subslide"
    }
   },
   "source": [
    "#### 1. Reconstruct\n",
    "\n",
    "Reconstruct a piecewise polynomial function $\\widetilde{q}^n(x, t_n)$ defined $\\forall x \\in \\mathcal{C}_i$ from the cell averages $Q^n_i$.\n",
    "$$\n",
    "    \\frac{1}{\\Delta x} \\int_{\\mathcal{i}} \\widetilde{q}^n(x, t_n) dx = Q^n_i\n",
    "$$\n",
    "In the simplest case we use a piecewise constant and we therefore have\n",
    "$$\n",
    "    \\widetilde{q}^n(x, t_n) = Q^n_i \\quad \\forall x \\in \\mathcal{C}_i.\n",
    "$$"
   ]
  },
  {
   "cell_type": "markdown",
   "metadata": {
    "slideshow": {
     "slide_type": "subslide"
    }
   },
   "source": [
    "#### 2. Evolve\n",
    "\n",
    "Evolve the hyperbolic equation exactly (or approximately) with this initial data to obtain $\\widetilde{q}^n(x, t_{n+1})$ a time $\\Delta t$ later."
   ]
  },
  {
   "cell_type": "markdown",
   "metadata": {
    "slideshow": {
     "slide_type": "subslide"
    }
   },
   "source": [
    "#### 3. Average\n",
    "\n",
    "Average this new function $\\widetilde{q}^n(x, t_{n+1})$ over the grid cell $\\mathcal{C}_i$ to obtain the new cell-average:\n",
    "$$\n",
    "    Q^{n+1}_i = \\frac{1}{\\Delta x} \\int_{\\mathcal{C}_i} \\widetilde{q}^n(x, t_{n+1}) dx.\n",
    "$$"
   ]
  },
  {
   "cell_type": "markdown",
   "metadata": {
    "slideshow": {
     "slide_type": "subslide"
    }
   },
   "source": [
    "One of the key points to note in Godunov's method is that in step 2, evolve, we are solving the hyperbolic equation nominally exactly.  In the simple case of the piecewise constants we have set of Riemann problems to solve, hence their importance in our ongoing discussion."
   ]
  },
  {
   "cell_type": "markdown",
   "metadata": {
    "slideshow": {
     "slide_type": "subslide"
    }
   },
   "source": [
    "### Time Step Constraints\n",
    "\n",
    "What kind of time constraints arise naturally from Godunov's method?  Drawing some diagrams we may think that we need to take timesteps limited by\n",
    "$$\n",
    "    c \\Delta t \\leq \\frac{1}{2} \\Delta x.\n",
    "$$"
   ]
  },
  {
   "cell_type": "markdown",
   "metadata": {
    "slideshow": {
     "slide_type": "subslide"
    }
   },
   "source": [
    "### Numerical Flux for Godunov's Method\n",
    "\n",
    "So far we have been able to write an effective numerical flux function for each approach we have discussed.  The same can be said for Godunov's method.  The basic formula for a flux should look like\n",
    "$$\n",
    "    F^n_{i-1/2} \\approx \\frac{1}{\\Delta t} \\int^{t_{n+1}}_{t_n} f(q(x_{i-1}, t)) dt.\n",
    "$$"
   ]
  },
  {
   "cell_type": "markdown",
   "metadata": {
    "slideshow": {
     "slide_type": "subslide"
    }
   },
   "source": [
    "The most direct thing we could do is to replace the value of $q(x_{i-1}, t)$ with our reconstructed function such that\n",
    "$$\\begin{aligned}\n",
    "    F^n_{i-1/2} \\approx& \\frac{1}{\\Delta t} \\int^{t_{n+1}}_{t_n} f(q(x_{i-1}, t)) dt \\\\\n",
    "    = & \\frac{1}{\\Delta t} \\int^{t_{n+1}}_{t_n} f(\\widetilde{q}(x_{i-1}, t)) dt\n",
    "\\end{aligned}$$\n",
    "What does this integrate to now?"
   ]
  },
  {
   "cell_type": "markdown",
   "metadata": {
    "slideshow": {
     "slide_type": "subslide"
    }
   },
   "source": [
    "Recall that for a general Riemann solution we have a set of states in between each wave.  Inside this wedge the solution $\\widetilde{q}(x_{i-1}, t)$ is constant.  If we define the value along the grid cell edge at $x_{i-1/2}$ as $\\widehat{q}(Q^n_{i-1}, Q^n_i)$ we can then find an expression for the flux as\n",
    "\n",
    "$$\\begin{aligned}\n",
    "    F^n_{i-1/2} \\approx& \\frac{1}{\\Delta t} \\int^{t_{n+1}}_{t_n} f(\\widetilde{q}(x_{i-1}, t)) dt \\\\\n",
    "    & = f(\\widehat{q}(Q^n_{i-1}, Q^n_i)).\n",
    "\\end{aligned}$$"
   ]
  },
  {
   "cell_type": "markdown",
   "metadata": {
    "slideshow": {
     "slide_type": "subslide"
    }
   },
   "source": [
    "### Wave-Propagation Form of Godunov's Method\n",
    "\n",
    "Writing Godunov's method in terms of wave-propagation has some advantages later on when we consider non-conservative hyperbolic PDEs and non-linear cases.  To that end consider the definition of our waves from before as\n",
    "$$\n",
    "    Q_i - Q_{i-1} = \\sum^m_{p=1} \\alpha^p_{i-1/2} \\alpha^p_{i-1/2} r^p \\equiv \\sum^m_{p=1} \\mathcal{W}^p_{i-1/2}.\n",
    "$$"
   ]
  },
  {
   "cell_type": "markdown",
   "metadata": {
    "slideshow": {
     "slide_type": "subslide"
    }
   },
   "source": [
    "Recall that we can find any middle state starting from the left or right states, $q_\\ell$ or $q_r$ respectively, in the Riemann fan.\n",
    "\n",
    "For example, if we are crossing $\\mathcal{W}^2_{i-1/2} - \\alpha^2_{i-1/2} r^2$ say, we know that the wave propagates at speed $\\lambda^2$ and crosses $\\lambda^2 \\Delta t$ over the time step.  Averaging this impact into the grid cell then would lead to\n",
    "$$\n",
    "        -\\frac{\\lambda^2 \\Delta t}{\\Delta x} \\mathcal{W}^2_{i-1/2}.\n",
    "$$"
   ]
  },
  {
   "cell_type": "markdown",
   "metadata": {
    "slideshow": {
     "slide_type": "subslide"
    }
   },
   "source": [
    "Taking this to the logical conclusion we then can write the solution as\n",
    "$$\\begin{aligned}\n",
    "    Q^{n+1}_i =& Q^n_i - \\frac{\\lambda^2 \\Delta t}{\\Delta x} \\mathcal{W}^2_{i-1/2} - \\frac{\\lambda^3 \\Delta t}{\\Delta x} \\mathcal{W}^3_{i-1/2} - \\frac{\\lambda^1 \\Delta t}{\\Delta x} \\mathcal{W}^2_{i+1/2} \\\\\n",
    "    &=Q^n_i - \\frac{\\Delta t}{\\Delta x} (\\lambda^2 \\mathcal{W}^2_{i-1/2} + \\lambda^3 \\mathcal{W}^3_{i-1/2} + \\lambda^1 \\mathcal{W}^3_{i+1/2})\n",
    "\\end{aligned}$$"
   ]
  },
  {
   "cell_type": "markdown",
   "metadata": {
    "slideshow": {
     "slide_type": "subslide"
    }
   },
   "source": [
    "Define $\\lambda^+ \\equiv \\max(\\lambda, 0)$ and $\\lambda^- \\equiv \\min(\\lambda, 0)$ we can write this in general as\n",
    "$$\n",
    "    Q^{n+1}_i = Q^n_i - \\frac{\\Delta t}{\\Delta x} \\left[ \\sum^m_{p=1} (\\lambda^p)^+ \\mathcal{W}^p_{i-1/2} + \\sum^m_{p=1} (\\lambda^p)^- \\mathcal{W}^p_{i+1/2} \\right ].\n",
    "$$\n",
    "At this point we can identify the numerical fluxes that are now defined as\n",
    "$$\n",
    "    F^n_{i-1/2} = \\sum^m_{p=1} (\\lambda^p)^+ \\mathcal{W}^p_{i-1/2}.\n",
    "$$"
   ]
  },
  {
   "cell_type": "markdown",
   "metadata": {
    "slideshow": {
     "slide_type": "subslide"
    }
   },
   "source": [
    "We will also introduce the notation at this point of the **fluctuations**\n",
    "$$\n",
    "    \\mathcal{A}^- \\Delta Q_{i-1/2} = \\sum^m_{p=1} (\\lambda^p)^- \\mathcal{W}^p_{i-1/2} \\\\\n",
    "    \\mathcal{A}^+ \\Delta Q_{i-1/2} = \\sum^m_{p=1} (\\lambda^p)^+ \\mathcal{W}^p_{i-1/2}\n",
    "$$\n",
    "so that the previous update formula can be written as\n",
    "$$\n",
    "    Q^{n+1}_i = Q^n_i - \\frac{\\Delta t}{\\Delta x} \\left[ \\mathcal{A}^+ \\Delta Q_{i-1/2} + \\mathcal{A}^- \\Delta Q_{i+1/2} \\right ].\n",
    "$$\n",
    "These fluctuations represent the total impact of the left and right going waves.  "
   ]
  },
  {
   "cell_type": "markdown",
   "metadata": {
    "slideshow": {
     "slide_type": "subslide"
    }
   },
   "source": [
    "This additional notation can be motivated via the linear case.  If we define the matrices\n",
    "$$\n",
    "    \\Lambda^+ = \\text{diag}[(\\lambda^p)^+] \\quad \\Lambda^- = \\text{diag}[(\\lambda^p)^-]\n",
    "$$\n",
    "we can then also write split matrices for $A$ as\n",
    "$$\n",
    "    A^+ = R \\Lambda^+ R^{-1} \\quad A^- = R \\Lambda^- R^{-1}\n",
    "$$\n",
    "noting that\n",
    "$$\n",
    "    A = R \\Lambda R^{-1} = R (\\Lambda^+ + \\Lambda^-) R^{-1} = A^+ + A^-.\n",
    "$$"
   ]
  },
  {
   "cell_type": "markdown",
   "metadata": {
    "slideshow": {
     "slide_type": "subslide"
    }
   },
   "source": [
    "Turning back to our notation, we can now write the multiplication\n",
    "$$\\begin{aligned}\n",
    "    A^+ \\Delta Q_{i-1/2} &= R \\Lambda^+ R^{-1} (Q_i - Q_{i-1}) \\\\\n",
    "    =& R \\Lambda^+ \\alpha_{i-1/2} \\\\\n",
    "    =& \\sum^m_{p=1} (\\lambda^p) \\alpha^p_{i-1/2} r^p \\\\\n",
    "    =& \\mathcal{A}^+ \\Delta Q_{i-1/2}.\n",
    "\\end{aligned}$$"
   ]
  },
  {
   "cell_type": "markdown",
   "metadata": {
    "slideshow": {
     "slide_type": "subslide"
    }
   },
   "source": [
    "### Roe's Method\n",
    "\n",
    "One additional and helpful way to look at the definition of the fluxes is to rewrite\n",
    "$$\n",
    "    Q^{n+1}_i = Q^n_i - \\frac{\\Delta t}{\\Delta x} \\left[ \\sum^m_{p=1} (\\lambda^p)^+ \\mathcal{W}^p_{i-1/2} + \\sum^m_{p=1} (\\lambda^p)^- \\mathcal{W}^p_{i+1/2} \\right ]\n",
    "$$\n",
    "or the flux version\n",
    "$$\n",
    "    F^n_{i-1/2} = \\sum^m_{p=1} (\\lambda^p)^+ \\mathcal{W}^p_{i-1/2}\n",
    "$$\n",
    "as\n",
    "$$\n",
    "    F^n_{i-1/2} = \\frac{1}{2} \\left [ (AQ_{i-1} + AQ_i) - \\sum^m_{p=1} [(\\lambda^p)^+ - (\\lambda^p)^- ] \\mathcal{W}^p_{i-1/2} \\right].\n",
    "$$"
   ]
  },
  {
   "cell_type": "markdown",
   "metadata": {
    "slideshow": {
     "slide_type": "subslide"
    }
   },
   "source": [
    "Define\n",
    "$$\n",
    "    |A| = R |\\Lambda| R^{-1|} \\quad |\\Lambda| = \\text{diag}(|\\lambda^p|)\n",
    "$$\n",
    "we then have\n",
    "$$\\begin{aligned}\n",
    "    F^n_{i-1/2} &= \\frac{1}{2} \\left [ (AQ_{i-1} + AQ_i) - \\sum^m_{p=1} [(\\lambda^p)^+ - (\\lambda^p)^- ] \\mathcal{W}^p_{i-1/2} \\right] \\\\\n",
    "    &= \\frac{1}{2}(A Q_{i-1} + A Q_i) - \\frac{1}{2} |A| (Q_i - Q_{i-1}) \\\\\n",
    "    &= \\frac{1}{2} [f(Q_{i-1} + f(Q_i)] - \\frac{1}{2} |A| (Q_i - Q_{i-1})\n",
    "\\end{aligned}$$\n",
    "hence an average of of the fluxes we know to be unstable *plus* a correction term."
   ]
  }
 ],
 "metadata": {
  "celltoolbar": "Slideshow",
  "kernelspec": {
   "display_name": "Python 3",
   "language": "python",
   "name": "python3"
  },
  "language_info": {
   "codemirror_mode": {
    "name": "ipython",
    "version": 3
   },
   "file_extension": ".py",
   "mimetype": "text/x-python",
   "name": "python",
   "nbconvert_exporter": "python",
   "pygments_lexer": "ipython3",
   "version": "3.7.4"
  }
 },
 "nbformat": 4,
 "nbformat_minor": 2
}
