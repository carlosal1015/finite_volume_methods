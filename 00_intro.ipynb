{
 "cells": [
  {
   "cell_type": "markdown",
   "metadata": {},
   "source": [
    "<table>\n",
    " <tr align=left><td><img align=left src=\"./images/CC-BY.png\">\n",
    " <td>Text provided under a Creative Commons Attribution license, CC-BY. All code is made available under the FSF-approved MIT license. (c) Kyle T. Mandli</td>\n",
    "</table>"
   ]
  },
  {
   "cell_type": "code",
   "execution_count": null,
   "metadata": {},
   "outputs": [],
   "source": [
    "from __future__ import print_function\n",
    "\n",
    "%matplotlib inline\n",
    "import numpy\n",
    "import matplotlib.pyplot as plt"
   ]
  },
  {
   "cell_type": "markdown",
   "metadata": {},
   "source": [
    "# Finite Volume Methods for Hyperbolic Partial Differential Equations"
   ]
  },
  {
   "cell_type": "markdown",
   "metadata": {},
   "source": [
    "## What are Hyperbolic PDEs?"
   ]
  },
  {
   "cell_type": "markdown",
   "metadata": {},
   "source": [
    "### PDE Classification - Traditional View\n",
    "\n",
    "As you may know there are a number of classifications for PDEs, the best known are elliptic, parabolic and hyperbolic.  These classifications are based on a canonincal linear, second order PDE of the form\n",
    "$$\n",
    "    A u_{xx} + 2 B u_{xy} + C u_{yy} + \\cdots = 0.\n",
    "$$"
   ]
  },
  {
   "cell_type": "markdown",
   "metadata": {},
   "source": [
    "The names of the classification come from the an analogy to the equation for a conic section\n",
    "$$\n",
    "    A x^2 + 2 B x y + C y^2 + \\cdots = 0\n",
    "$$\n",
    "where the **discriminant**, defined as\n",
    "$$\n",
    "    d \\equiv B^2 - 4 A C,\n",
    "$$\n",
    "deterimines the classification:\n",
    " - if $d < 0$ then the equation is **elliptic**,\n",
    " - if $d = 0$ then the equation is **parabolic** and\n",
    " - if $d > 0$ then the equation is **hyperbolic**."
   ]
  },
  {
   "cell_type": "markdown",
   "metadata": {},
   "source": [
    "We can generalize this further if we define the general linear operator\n",
    "$$\n",
    "    L u = \\sum^n_{i=1} \\sum^n_{j=1} a_{ij} \\frac{\\partial^2 u}{\\partial x_i \\partial x_j} + \\cdots.\n",
    "$$\n",
    "where now the classification is based on the eigenvalues $\\lambda$ as follows:\n",
    " - if all $\\lambda$ are either positive or negative then operator is **elliptic**,\n",
    " - if all $\\lambda$ are either positive or negative except for one that is zero the operator is **parabolic**,\n",
    " - if all $\\lambda$ are either positive save for one negative or all negative save for one positive then the operator is **hyperbolic** and\n",
    " - if some $\\lambda$ are either positive or negative then the operator is **ultrahyperbolic**."
   ]
  },
  {
   "cell_type": "markdown",
   "metadata": {},
   "source": [
    "### PDE Classification - A More Useful View\n",
    "\n",
    "Most of the different classifications above have properties to them that are more useful to think about:\n",
    " - Elliptic PDEs, such as $\\nabla^2 u = f$, describe purely spatial problems.\n",
    " - Parabolic PDEs, such as $\\nabla^2 u = u_t$, describe time dependent diffusion moving the quantity $u$ at infinite speed across the domain.\n",
    " - Hyperbolic PDEs, such as $u_t + u_x = 0$ describe the movement of the quantity $u$ from one place to another at a finite speed.\n",
    " "
   ]
  },
  {
   "cell_type": "markdown",
   "metadata": {},
   "source": [
    "This speed of propagation is quintessential for our discussion regarding hyperbolic PDEs and will form arguably a more useful definition later."
   ]
  },
  {
   "cell_type": "markdown",
   "metadata": {},
   "source": [
    "In general a linear system of first order PDEs can be written as:\n",
    "$$\n",
    "    q_t(x, t) + A q_x(x, t) = 0\n",
    "$$\n",
    "where $A \\in \\mathbb R^{m \\times m}$ and therefore $q: \\mathbb R \\times \\mathbb R \\rightarrow \\mathbb R^m$.  For the system to be hyperbolic the matrix $A$ must satisfy certain properties that we will mention later."
   ]
  },
  {
   "cell_type": "markdown",
   "metadata": {},
   "source": [
    "In the simplest case the matrix $A$ is a scalar value.  If that value is real then the scalar PDE is considered hyperbolic."
   ]
  },
  {
   "cell_type": "markdown",
   "metadata": {},
   "source": [
    "#### General Hyperbolicity of a System\n",
    "\n",
    "A linear system of the form\n",
    "$$\n",
    "    q_t + A q_x = 0\n",
    "$$\n",
    "is called **hyperbolic** if the $m \\times m$ matrix $A$ is diagonalizable with real eigenvalues.  This requirement is equivalent to saying the eigenspace of $A$ is full."
   ]
  },
  {
   "cell_type": "markdown",
   "metadata": {},
   "source": [
    "### Examples:\n",
    "\n",
    "*Advective Transport*: The equation\n",
    "$$\n",
    "    q_t + u q_x = 0\n",
    "$$\n",
    "where $u \\in \\mathbb R$ describes the transport of the quantity $q$ at a speed $u$.  This is analgous to wave motion."
   ]
  },
  {
   "cell_type": "markdown",
   "metadata": {},
   "source": [
    "*Wave Equation*:  The wave equation is generally written as\n",
    "$$\n",
    "    q_{tt} + u^2 q_{xx} = 0,\n",
    "$$\n",
    "which clearly breaks our classification view.  Instead we can rewrite the above equations as two first order PDEs such that\n",
    "$$\\begin{aligned}\n",
    "    &(q_1)_t + u (q_1)_x = 0,\\\\\n",
    "    &(q_2)_t - u (q_2)_x = 0.\n",
    "\\end{aligned}$$"
   ]
  },
  {
   "cell_type": "markdown",
   "metadata": {},
   "source": [
    "One common system like this is the linear acoustics equations that can be written in this second form as\n",
    "$$\\begin{aligned}\n",
    "    &p_t + K u_x = 0,\\\\\n",
    "    &u_t + \\frac{1}{\\rho} p_x = 0\n",
    "\\end{aligned}$$\n",
    "where $p$ is the pressure, $K$ the bulk modulus, $u$ the velocity and $\\rho$ the density.  Note that if we write this as a second order, single equation with\n",
    "$$\n",
    "    w_1 = p + \\rho c u \\quad \\quad w_2 = p - \\rho c u\n",
    "$$\n",
    "then we have\n",
    "$$\n",
    "    (w_2)_t - c (w_2)_x = 0\n",
    "$$\n",
    "where $c = \\sqrt{K / \\rho}$, the speed of sound.  Even more simply we can also write\n",
    "$$\n",
    "    p_{tt} - c^2 p_{xx} = 0.\n",
    "$$"
   ]
  },
  {
   "cell_type": "markdown",
   "metadata": {},
   "source": [
    "### Conservation Laws\n",
    "\n",
    "One of the most important types of hyperbolic PDEs are called **conservation laws**.  These equations describe the conservation of the quantity represented by the unknown function and are homogeneous.  They take the general form\n",
    "$$\n",
    "    q_t(x, t) + f(q(x, t))_x = 0\n",
    "$$\n",
    "or in the quasi-linear form\n",
    "$$\n",
    "    q_t + f'(q) q_x = 0\n",
    "$$\n",
    "where $f$ is the **flux function** and $f'(q)$ is the Jacobian with respect to the variable $q$."
   ]
  },
  {
   "cell_type": "markdown",
   "metadata": {},
   "source": [
    "#### Integral Forms\n",
    "\n",
    "The more fundamental version of a conservation law is the integral form that can be stated as\n",
    "$$\n",
    "    \\frac{\\text{d}}{\\text{d} t} \\int^{x_2}_{x_1} q(x, t) dx = f(q(x_1, t)) - f(q(x_2, t)). \n",
    "$$\n",
    "where $x_2 > x_1 \\in \\Omega$ and $\\Omega$ is some domain.  In words this is saying that if we integrate over the interval $[x_1, x_2]$ that the time rate of change on that interval is deterimined by the flux function evaluated at the ends of the interval."
   ]
  },
  {
   "cell_type": "markdown",
   "metadata": {},
   "source": [
    "If $q$ and $f(q)$ are sufficiently smooth we can manipulate the integral form to the differential form as follows:\n",
    "$$\\begin{aligned}\n",
    "    \\frac{\\text{d}}{\\text{d} t} \\int^{x_2}_{x_1} q(x, t) dx &= f(q(x_1, t)) - f(q(x_2, t)) && \\text{Original}\\\\\n",
    "    \\frac{\\text{d}}{\\text{d} t} \\int^{x_2}_{x_1} q(x, t) dx &= -\\frac{\\partial}{\\partial x} \\int^{x_2}_{x_1} f(q(x, t)) dx && \\text{?} \\\\\n",
    "    \\int^{x_2}_{x_1} \\left[ q_t(x, t) + f_x(q(x, t)) \\right] dx &=0 && \\text{?}  \\\\\n",
    "    q_t(x, t) + f_x(q(x, t)) &= 0. && \\text{?}\n",
    "\\end{aligned}$$"
   ]
  },
  {
   "cell_type": "markdown",
   "metadata": {},
   "source": [
    "## Where do Hyperbolic PDEs Arise?"
   ]
  },
  {
   "cell_type": "markdown",
   "metadata": {},
   "source": [
    "### Advection\n",
    "\n",
    "$$\n",
    "    q_t + u q_x = 0\n",
    "$$"
   ]
  },
  {
   "cell_type": "markdown",
   "metadata": {},
   "source": [
    "#### Pipes\n",
    "\n",
    "1. Try to draw and derive the equation for a quantity of fluid going through a pipe that has length $L$ with known fluxes through each end of the pipe.\n",
    "1. Say we knew that the velocity of fluid at both ends of the pipe and this did not depend on the quantity $q$.  What are the equations now?"
   ]
  },
  {
   "cell_type": "markdown",
   "metadata": {},
   "source": [
    "### Fluid Dynamics\n",
    "\n",
    "Fluids are generally governed fundamentally by a set of conservation laws and then a number of assumptions applied which may or may not cause them to become non-hyperbolic."
   ]
  },
  {
   "cell_type": "markdown",
   "metadata": {},
   "source": [
    "#### Mass\n",
    "\n",
    "The first equation is for the conservation of mass.  In this case, as our equations are coming from a more fundamental integral conservation law, we care about the density $\\rho$.  We can then write the conservation of mass in its differential form as\n",
    "$$\n",
    "    \\rho_t + u \\rho_x = 0\n",
    "$$\n",
    "This is exactly our equation for advection of a quantity and assumes that $u$ is constant."
   ]
  },
  {
   "cell_type": "markdown",
   "metadata": {},
   "source": [
    "If $u(x, t)$ is varying and dependent on $\\rho$, which in general it is, we write\n",
    "$$\n",
    "    \\rho_t + (u \\rho)_x = 0.\n",
    "$$\n",
    "Note that now the equations are non-linear if we added an equation for $u$ or as we will in a second for the momentum $\\rho u$."
   ]
  },
  {
   "cell_type": "markdown",
   "metadata": {},
   "source": [
    "#### Momentum\n",
    "\n",
    "We now turn to Newton's second law\n",
    "$$\n",
    "    \\frac{\\text{D}}{\\text{D} t} (\\rho u) = \\sum forces.\n",
    "$$\n",
    "Note that the right hand side of the equation no longer has an ordinary or partial derivative but instead has a **total derivative** or **matrial derivative**.  In a *Lagrangian coordinate systems* (our coordinate system moves with the fluid) this is identical to an ordinary derivative in time.  In *Eulerian coordinate systems* (we are fixed in space and the fluid moves past us) this is more complex.  Instead we have\n",
    "$$\n",
    "    \\frac{\\text{D}}{\\text{D} t} q = q_t + (u q)_x.\n",
    "$$\n",
    "In our case this amounts to \n",
    "$$\n",
    "    \\frac{\\text{D}}{\\text{D} t} (\\rho u) = (\\rho u)_t + (\\rho u^2)_x.\n",
    "$$"
   ]
  },
  {
   "cell_type": "markdown",
   "metadata": {},
   "source": [
    "Unfortunately we are not quite done.  We also know that a fluid has a pressure associated with it whose gradient can be thought of as acting as a force.  Since this term is of the form $p_x$ we can combine this and write the momentum conservation as\n",
    "$$\n",
    "    (\\rho u)_t + (\\rho u^2 + p)_x.\n",
    "$$"
   ]
  },
  {
   "cell_type": "markdown",
   "metadata": {},
   "source": [
    "We have two equations but three unknowns now.  Usually to close the system something must be assumed by the relationship between pressure and the other two quantities.  Sometimes we must also add an energy conservation equation often written as\n",
    "$$\n",
    "    E_t + (Eu + p)_x = 0\n",
    "$$"
   ]
  },
  {
   "cell_type": "markdown",
   "metadata": {},
   "source": [
    "Note that this system will often have outside influences on it so strictly speaking this may not be conservative.  That being said we may want to still make sure our system is conservative except for these outside sources."
   ]
  },
  {
   "cell_type": "markdown",
   "metadata": {},
   "source": [
    "### Linear Acoustics\n",
    "\n",
    "One nice example of how to go about dealing with hyperbolic systems of PDEs is the derivation of linear acoustics and therefore sound waves.  Here we will **linearize** the equations around some background state and remove higher-order terms as we go."
   ]
  },
  {
   "cell_type": "markdown",
   "metadata": {},
   "source": [
    "#### Derivation of Linear Acoustics\n",
    "\n",
    "The general approach will be to assume that $q$ can be written as\n",
    "$$\n",
    "    q(x, t) = q_0 + \\widetilde{q}(x, t)\n",
    "$$\n",
    "where $q_0$ is some large constant representing the background state and $\\widetilde{q}$ some small perturbation to that state that can be space and time dependent."
   ]
  },
  {
   "cell_type": "markdown",
   "metadata": {},
   "source": [
    "Plugging $q_0 + \\widetilde{q}(x, t)$ in for $q$ in the original conservation law will give us\n",
    "$$\\begin{aligned}\n",
    "    &(q_0 + \\widetilde{q})_t + f(q_0 + \\widetilde{q}(x, t))_x = 0 \\\\\n",
    "    &\\widetilde{q}_t + f'(q_0) \\widetilde{q}_x = 0.\n",
    "\\end{aligned}$$"
   ]
  },
  {
   "cell_type": "markdown",
   "metadata": {},
   "source": [
    "Now turning to our derivation we start with the fluid conservation laws we derived before\n",
    "$$\\begin{aligned}\n",
    "     &\\rho_t + (\\rho u)_x = 0 \\\\\n",
    "     &(\\rho u)_t + (\\rho u^2 + p)_x = 0.\n",
    "\\end{aligned}$$\n",
    "Here the flux function can be written as\n",
    "$$\n",
    "    f(q) = \\begin{bmatrix} \\rho u \\\\ \\rho u^2 + p \\end{bmatrix}\n",
    "$$\n",
    "See if you can compute the flux Jacobian $f'(q)$ from the flux function above."
   ]
  },
  {
   "cell_type": "markdown",
   "metadata": {},
   "source": [
    "Solution:\n",
    "\n",
    "1. Write $f(q)$ in terms of $q$:\n",
    "$$\\begin{aligned}\n",
    "    f(q) &= \\begin{bmatrix} \\rho u \\\\ \\rho u^2 + p \\end{bmatrix}\\\\\n",
    "    &=\\begin{bmatrix} q^2 \\\\ \\frac{(q^2)^2}{q^1} + p(q^1) \\end{bmatrix}\n",
    "\\end{aligned}$$\n",
    "1. Compute the Jacobian:\n",
    "$$\\begin{aligned}\n",
    "    f'(q) &= \\begin{bmatrix} \\partial f^1 / \\partial q^1 & \\partial f^1 / \\partial q^2 \\\\ \\partial f^2 / \\partial q^1 & \\partial f^2 / \\partial q^2 \\end{bmatrix}\\\\\n",
    "    &= \\begin{bmatrix} 0 & 1 \\\\ -(q^2)^2 / (q^1)^2 + p'(q^1) & 2 q^2 / q^1 \\end{bmatrix}\\\\\n",
    "    &= \\begin{bmatrix} 0 & 1 \\\\ -u^2 + p'(\\rho) & 2 u \\end{bmatrix}\n",
    "\\end{aligned}$$"
   ]
  },
  {
   "cell_type": "markdown",
   "metadata": {},
   "source": [
    "From our linearization $\\widetilde{q}_t + f'(q_0) \\widetilde{q}_x = 0$ we then have\n",
    "\n",
    "$$\\begin{aligned}\n",
    "    &\\widetilde{\\rho}_t + \\widetilde{\\rho u}_x = 0 \\\\\n",
    "    &\\widetilde{\\rho u}_t + (-u_0^2 + p'(\\rho_0)) \\widetilde{\\rho}_x + (2 u_0) \\widetilde{\\rho u}_x = 0 \\\\\n",
    "\\end{aligned}$$"
   ]
  },
  {
   "cell_type": "markdown",
   "metadata": {},
   "source": [
    "Well this does not really look like the system we mentioned before.  This is because we are using the conservation quantities rather than more easily measured quantities.  If we switch to pressure and velocity as we had before we can write the perturbation series as\n",
    "$$\n",
    "    p(\\rho) = p(\\rho_0 + \\widetilde{\\rho}) = p(\\rho_0) + p'(\\rho_0) \\widetilde{\\rho} + \\cdots.\n",
    "$$\n",
    "Knowing that $p(\\rho_0) = p_0$ we then know that $\\widetilde{p} = p'(\\rho_0) \\widetilde{\\rho}$."
   ]
  },
  {
   "cell_type": "markdown",
   "metadata": {},
   "source": [
    "Similarly we have\n",
    "$$\n",
    "    \\rho u = (\\rho_0 + \\widetilde{\\rho})(u_0 + \\widetilde{u}) = \\rho_0 u_0 + \\widetilde{\\rho} u_0 + \\rho_0 \\widetilde{u}\n",
    "$$\n",
    "such that\n",
    "$$\n",
    "    \\widetilde{\\rho u} = u_0 \\widetilde{\\rho} + \\rho_0 \\widetilde{u}.\n",
    "$$\n"
   ]
  },
  {
   "cell_type": "markdown",
   "metadata": {},
   "source": [
    "Plugging these expression in leads then to the system we had before\n",
    "$$\\begin{aligned}\n",
    "    &\\widetilde{p}_t + u_0 \\widetilde{p}_x + K_0 \\widetilde{u}_x = 0\\\\\n",
    "    &\\widetilde{u}_t + \\frac{1}{\\rho_0} \\widetilde{p}_x + u_0 \\widetilde{u} = 0\n",
    "\\end{aligned}$$\n",
    "Here we have not assumed that $u_0 = 0$, which is the only difference between our systems."
   ]
  },
  {
   "cell_type": "markdown",
   "metadata": {},
   "source": [
    "#### Sounds Waves - Solution to Linear Acoustics\n",
    "\n",
    "The solution to a linear scalar hyperbolic PDE has the general form\n",
    "$$\n",
    "    q(x,t) = q_0(x - u t)\n",
    "$$\n",
    "where the original PDE has the form $q_t + u q_x = 0$ and the initial condition is $q_0(x)$.  This suggests a similar form for systems such that we are looking for solutions of the form\n",
    "$$\n",
    "    q(x,t) = \\widetilde{q}(x - st).\n",
    "$$\n",
    "where now it is not quite clear what $\\widetilde{q}$ or $s$ is."
   ]
  },
  {
   "cell_type": "markdown",
   "metadata": {},
   "source": [
    "Starting with this ansatz and plugging it into the equation $q_t + A q_x = 0$ we have\n",
    "$$\\begin{aligned}\n",
    "    q_t &= -s \\widetilde{q}'(x - st) \\\\\n",
    "    q_x &= \\widetilde{q}'(x - st)\n",
    "\\end{aligned}$$\n",
    "so that we have\n",
    "$$\\begin{aligned}\n",
    "    &-s \\widetilde{q}'(x - st) + A \\widetilde{q}'(x - st) = 0 \\\\\n",
    "    &A \\widetilde{q}'(x - st) = s \\widetilde{q}'(x - st)\n",
    "\\end{aligned}$$\n",
    "Note that we now see the structure of an eigenproblem."
   ]
  },
  {
   "cell_type": "markdown",
   "metadata": {},
   "source": [
    "Looking at the eigenvalues for the matrix $A$ we have\n",
    "$$\n",
    "    \\lambda = u \\pm c_0\n",
    "$$\n",
    "where $c_0$ is our speed of sound before $\\sqrt{K_0 / \\rho_0}$.  Note that here we have retained the background speed for completeness but this can be removed to see the same thing.  Also note that $c_0 = \\sqrt{p'(\\rho_0)}$ and matches with the theory of acoustics."
   ]
  },
  {
   "cell_type": "markdown",
   "metadata": {},
   "source": [
    "For the eigenvectors of $A$ we have\n",
    "$$\n",
    "    R = \\begin{bmatrix} -\\rho_0 c_0 & \\rho_0 c_0 \\\\ 1 & 1 \\end{bmatrix}\n",
    "$$\n",
    "These will correspond to the $q'(x-st)$ term in our equation.  This implies that for the left going wave corresponding to $\\lambda^1 = u_0 - c_0$ then looks like\n",
    "$$\n",
    "    q(x, t) = w^1(x - \\lambda^1 t) r^1\n",
    "$$\n",
    "and right going as\n",
    "$$\n",
    "    q(x, t) = w^2(x - \\lambda^2 t) r^2\n",
    "$$\n",
    "and the full superposition of waves as\n",
    "$$\n",
    "    q(x, t) = w^1(x - \\lambda^1 t) r^1 + w^2(x - \\lambda^2 t) r^2\n",
    "$$\n",
    "Note we still do not know what $w^{1,2}$ are although they are related to the initial condition."
   ]
  },
  {
   "cell_type": "code",
   "execution_count": null,
   "metadata": {},
   "outputs": [],
   "source": [
    "cont 2.61"
   ]
  }
 ],
 "metadata": {
  "kernelspec": {
   "display_name": "Python 3",
   "language": "python",
   "name": "python3"
  },
  "language_info": {
   "codemirror_mode": {
    "name": "ipython",
    "version": 3
   },
   "file_extension": ".py",
   "mimetype": "text/x-python",
   "name": "python",
   "nbconvert_exporter": "python",
   "pygments_lexer": "ipython3",
   "version": "3.7.4"
  }
 },
 "nbformat": 4,
 "nbformat_minor": 2
}
