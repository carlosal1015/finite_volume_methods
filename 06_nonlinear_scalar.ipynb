{
 "cells": [
  {
   "cell_type": "markdown",
   "metadata": {
    "slideshow": {
     "slide_type": "skip"
    }
   },
   "source": [
    "<table>\n",
    " <tr align=left><td><img align=left src=\"./images/CC-BY.png\">\n",
    " <td>Text provided under a Creative Commons Attribution license, CC-BY. All code is made available under the FSF-approved MIT license. (c) Kyle T. Mandli</td>\n",
    "</table>"
   ]
  },
  {
   "cell_type": "code",
   "execution_count": 4,
   "metadata": {
    "slideshow": {
     "slide_type": "skip"
    }
   },
   "outputs": [],
   "source": [
    "from __future__ import print_function\n",
    "\n",
    "%matplotlib inline\n",
    "import numpy\n",
    "import matplotlib.pyplot as plt\n",
    "import matplotlib.animation\n",
    "from IPython.display import HTML\n",
    "from clawpack import pyclaw\n",
    "from clawpack import riemann"
   ]
  },
  {
   "cell_type": "markdown",
   "metadata": {
    "slideshow": {
     "slide_type": "slide"
    }
   },
   "source": [
    "# Nonlinear Scalar Conservation Laws"
   ]
  },
  {
   "cell_type": "markdown",
   "metadata": {
    "slideshow": {
     "slide_type": "subslide"
    }
   },
   "source": [
    "Up until now we have mostly assumed that our PDE\n",
    "$$\n",
    "    q_t + f(q)_x = 0\n",
    "$$\n",
    "has been linear, i.e. $f(q) = A q$.  Part of this was to establish the bsaic theory while we know what the true solution should look like.  We now will investigate how nonlinear problems do not simply translate but can deform the solution in interesting ways.  Note that we will assume that $f(q)$ is convex/concave, i.e. $f''(q)$ does not change sign."
   ]
  },
  {
   "cell_type": "markdown",
   "metadata": {
    "slideshow": {
     "slide_type": "subslide"
    }
   },
   "source": [
    "As a test problem we will consider basic traffic flow as our PDE of choice.  For this we assume that we can model traffic, or the density of cars, as a continuum as we do for fluids.  This leads us to the conservation law\n",
    "$$\n",
    "    q_t + (U(q) q)_x = 0\n",
    "$$\n",
    "where $q$ represents the density of cars and $U(q)$ the speed of those cars.  We then need to specify the relationship between the speed at which the cars travel and the local density of cars."
   ]
  },
  {
   "cell_type": "markdown",
   "metadata": {
    "slideshow": {
     "slide_type": "subslide"
    }
   },
   "source": [
    "The Lighthill, Whitham, and Richards (LWR) equation uses a simple function for the speed that is\n",
    "$$\n",
    "    U(q) = u_{\\text{max}}(1 - q) \\text{   for } 0 \\leq q \\leq 1\n",
    "$$\n",
    "where $u_{\\text{max}}$ is the speed limit and assumed constant.  Adding this to our previus equation leads us to a flux defined as\n",
    "$$\n",
    "    f(q) = u_{\\text{max}}(1 - q) q\n",
    "$$\n",
    "that is concave with respect to $q$."
   ]
  },
  {
   "cell_type": "code",
   "execution_count": 5,
   "metadata": {
    "slideshow": {
     "slide_type": "skip"
    }
   },
   "outputs": [],
   "source": [
    "def traffic_animation():\n",
    "    solver = pyclaw.ClawSolver1D(riemann.traffic_1D)\n",
    "    solver.bc_lower[0] = pyclaw.BC.extrap\n",
    "    solver.bc_upper[0] = pyclaw.BC.extrap\n",
    "\n",
    "    x = pyclaw.Dimension(-1.0,1.0,500,name='x')\n",
    "    domain = pyclaw.Domain(x)\n",
    "    num_eqn = 1\n",
    "    state = pyclaw.State(domain,num_eqn)\n",
    "\n",
    "    grid = state.grid\n",
    "    xc=grid.p_centers[0]\n",
    "\n",
    "    \n",
    "    state.q[0, :] = 0.75 * (xc < 0)\n",
    "    state.q[0, :] = 0.75 * (xc > 0)\n",
    "#     state.q[0, :] = 1.0 * numpy.exp(-xc**2)\n",
    "\n",
    "    state.problem_data['efix']=True\n",
    "    state.problem_data['umax']=1.\n",
    "\n",
    "    claw = pyclaw.Controller()\n",
    "    claw.tfinal =2.0\n",
    "    claw.solution = pyclaw.Solution(state,domain)\n",
    "    claw.solver = solver\n",
    "    claw.keep_copy = True\n",
    "    \n",
    "    claw.run()\n",
    "    x = claw.frames[0].grid.dimensions[0].centers\n",
    "    \n",
    "    fig = plt.figure()\n",
    "    axes = plt.subplot(1, 1, 1)\n",
    "    axes.set_xlim((x[0], x[-1]))\n",
    "    axes.set_ylim((-0.1, 1.1))\n",
    "    axes.set_title(\"Traffic Flow\")\n",
    "    \n",
    "    def init():\n",
    "        axes.set_xlim((x[0], x[-1]))\n",
    "        axes.set_ylim((-0.1, 1.1))\n",
    "        computed_line, = axes.plot(x[0], claw.frames[0].q[0, :][0], 'bo-')\n",
    "        return (computed_line, )\n",
    "    \n",
    "    computed_line, = init()\n",
    "    \n",
    "    def fplot(n):\n",
    "        computed_line.set_data([x,], [claw.frames[n].q[0, :]])\n",
    "        return (computed_line, )\n",
    "\n",
    "    frames_to_plot = range(0, len(claw.frames))\n",
    "    plt.close(fig)\n",
    "    return matplotlib.animation.FuncAnimation(fig, fplot, frames=frames_to_plot, interval=100,\n",
    "                                   blit=True, init_func=init, repeat=False)\n",
    "HTML(traffic_animation().to_jshtml())"
   ]
  },
  {
   "cell_type": "markdown",
   "metadata": {
    "slideshow": {
     "slide_type": "subslide"
    }
   },
   "source": [
    "Let us first examine how the characteristics behave in this simple case where the initial condition is smooth but tleads to a dicontinuous solution.  If we think of the $k$th car whose trajectory is $X_k(t)$.  If we assume that the $k$th car makes a decision on how fast she goes $U_(q_k(t))$ then we have\n",
    "$$\n",
    "    X'_k(t) = U_k(q_k(t)) = U([X_{k+1}(t) - X_k(t)]^{-1}) \\quad \\text{for} ~ k=1,\\ldots,m\n",
    "$$\n",
    "with the boundaries appropriately specified."
   ]
  },
  {
   "cell_type": "markdown",
   "metadata": {
    "slideshow": {
     "slide_type": "subslide"
    }
   },
   "source": [
    "Note that for these test cases that the characteristic speed agrees with the speed at which the particles are moving.  This is a general property of nonlinear hyperbolic PDEs and arises as $f'(q) \\neq u$ as it is in the linear case."
   ]
  },
  {
   "cell_type": "markdown",
   "metadata": {
    "slideshow": {
     "slide_type": "slide"
    }
   },
   "source": [
    "## Quasilinear Forms and Characteristics\n",
    "\n",
    "One useful way we can analyze what may go on given a nonlinear flux is to study the quasilinear form of the PDE defined as\n",
    "$$\n",
    "    q_t + f'(q)q_x = 0.\n",
    "$$\n",
    "If $q(x,t)$ is smooth then we would have\n",
    "$$\n",
    "    X'(t) = f'(q(X(t), t))\n",
    "$$\n",
    "and\n",
    "$$\n",
    "    \\frac{\\text{d}}{\\text{d}t} q(X(t), t) = X'(t) q_x + q_t = 0\n",
    "$$\n",
    "and therefore $q(x,t)$ is constant on the characteristic curves defined by $X(t)$."
   ]
  },
  {
   "cell_type": "markdown",
   "metadata": {
    "slideshow": {
     "slide_type": "subslide"
    }
   },
   "source": [
    "As we know once we have the characteristics and know that $q$ needs to be constant on them that we need to simply trace back the characteristics to the initial condition (or boundary condition) to find out what the solution is.  Often times we represent this as\n",
    "$$\n",
    "    q(x,t) = q_0(\\xi)\n",
    "$$\n",
    "where\n",
    "$$\n",
    "    x = \\xi + f'(q_0(\\xi)) t.\n",
    "$$"
   ]
  },
  {
   "cell_type": "markdown",
   "metadata": {
    "slideshow": {
     "slide_type": "slide"
    }
   },
   "source": [
    "## Burgers Equation\n",
    "\n",
    "Another of the often used basic equations that are solved when considering nonlinear conservation laws is Burgers equation, defined as\n",
    "$$\n",
    "    u_t + \\left( \\frac{1}{2} u^2 \\right)_x = 0.\n",
    "$$\n",
    "Sometimes this is also refered to as the inviscid Burgers equation as the Burgers equation is meant to be a simplifie dmodel of fluid flow which usually also includes viscosity in\n",
    "$$\n",
    "    u_t + \\left( \\frac{1}{2} u^2 \\right)_x = \\epsilon u_{xx}.\n",
    "$$\n",
    "We will use this eventually to define the set of solutions that are \"physical\"."
   ]
  },
  {
   "cell_type": "markdown",
   "metadata": {
    "slideshow": {
     "slide_type": "subslide"
    }
   },
   "source": [
    "The Burgers equation also can be written in non-conservative form as\n",
    "$$\n",
    "    u_t + u u_x = 0\n",
    "$$\n",
    "but as we will see for discontinuous solutions that we will come to different answers than the conservative form.  We will discuss this later again in relation to entropy conditions."
   ]
  },
  {
   "cell_type": "code",
   "execution_count": null,
   "metadata": {
    "slideshow": {
     "slide_type": "skip"
    }
   },
   "outputs": [],
   "source": [
    "import os\n",
    "import pyclaw\n",
    "path = os.path.join(os.environ.get(\"CLAW\", os.getcwd()), \"pyclaw\", \"fvmbook\", \"chap11\", \"burgers\")\n",
    "os.chdir(path)\n",
    "import burgers1D\n",
    "\n",
    "def burgers_animation():\n",
    "   \n",
    "    # compute the solution with the method define above:\n",
    "    claw = burgers1D.burgers()\n",
    "    claw.keep_copy = True\n",
    "    claw.run()\n",
    "    x = claw.frames[0].grid.dimensions[0].centers\n",
    "    \n",
    "    fig = plt.figure()\n",
    "    axes = plt.subplot(1, 1, 1)\n",
    "    axes.set_xlim((x[0], x[-1]))\n",
    "    axes.set_ylim((-3.5, 6))\n",
    "    axes.set_title(\"Burgers Equation\")\n",
    "    \n",
    "    def init():\n",
    "        axes.set_xlim((x[0], x[-1]))\n",
    "        axes.set_ylim((-3.5, 6))\n",
    "        computed_line, = axes.plot(x[0], claw.frames[0].q[0, :][0], 'bo-')\n",
    "        return (computed_line, )\n",
    "    \n",
    "    computed_line, = init()\n",
    "    \n",
    "    def fplot(n):\n",
    "        computed_line.set_data([x,], [claw.frames[n].q[0, :]])\n",
    "        return (computed_line, )\n",
    "\n",
    "    frames_to_plot = range(0, len(claw.frames))\n",
    "    plt.close(fig)\n",
    "    return matplotlib.animation.FuncAnimation(fig, fplot, frames=frames_to_plot, interval=100,\n",
    "                                   blit=True, init_func=init, repeat=False)\n",
    "HTML(burgers_animation().to_jshtml())"
   ]
  },
  {
   "cell_type": "markdown",
   "metadata": {
    "slideshow": {
     "slide_type": "slide"
    }
   },
   "source": [
    "## Rarefaction Waves"
   ]
  },
  {
   "cell_type": "markdown",
   "metadata": {
    "slideshow": {
     "slide_type": "slide"
    }
   },
   "source": [
    "## Compression Waves"
   ]
  },
  {
   "cell_type": "markdown",
   "metadata": {
    "slideshow": {
     "slide_type": "slide"
    }
   },
   "source": [
    "## Vanishin Viscosity Limit"
   ]
  },
  {
   "cell_type": "markdown",
   "metadata": {
    "slideshow": {
     "slide_type": "slide"
    }
   },
   "source": [
    "## Equal-Area Rule"
   ]
  },
  {
   "cell_type": "markdown",
   "metadata": {
    "slideshow": {
     "slide_type": "slide"
    }
   },
   "source": [
    "## Shock Speed"
   ]
  },
  {
   "cell_type": "markdown",
   "metadata": {
    "slideshow": {
     "slide_type": "slide"
    }
   },
   "source": [
    "## Rankine-Hugoniot Conditions for Systems"
   ]
  },
  {
   "cell_type": "markdown",
   "metadata": {
    "slideshow": {
     "slide_type": "slide"
    }
   },
   "source": [
    "## Similarity Solutions and Centered Rarefactions"
   ]
  },
  {
   "cell_type": "markdown",
   "metadata": {
    "slideshow": {
     "slide_type": "slide"
    }
   },
   "source": [
    "## Weak Solutions"
   ]
  },
  {
   "cell_type": "markdown",
   "metadata": {
    "slideshow": {
     "slide_type": "slide"
    }
   },
   "source": [
    "## Why Should You Be Careful When Manipulating Conservation Laws?"
   ]
  },
  {
   "cell_type": "markdown",
   "metadata": {
    "slideshow": {
     "slide_type": "slide"
    }
   },
   "source": [
    "## Nonuniqueness, Admissability, and Entropy Conditions\n",
    "\n",
    "### Entropy Functions\n",
    "\n",
    "### The Kruzkov Entropies\n",
    "\n",
    "### Long-Term Behavior and N-Wave Decay"
   ]
  }
 ],
 "metadata": {
  "kernelspec": {
   "display_name": "Python 3",
   "language": "python",
   "name": "python3"
  },
  "language_info": {
   "codemirror_mode": {
    "name": "ipython",
    "version": 3
   },
   "file_extension": ".py",
   "mimetype": "text/x-python",
   "name": "python",
   "nbconvert_exporter": "python",
   "pygments_lexer": "ipython3",
   "version": "3.7.4"
  }
 },
 "nbformat": 4,
 "nbformat_minor": 2
}
