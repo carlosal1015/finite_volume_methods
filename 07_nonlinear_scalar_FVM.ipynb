{
 "cells": [
  {
   "cell_type": "markdown",
   "metadata": {
    "slideshow": {
     "slide_type": "skip"
    }
   },
   "source": [
    "<table>\n",
    " <tr align=left><td><img align=left src=\"./images/CC-BY.png\">\n",
    " <td>Text provided under a Creative Commons Attribution license, CC-BY. All code is made available under the FSF-approved MIT license. (c) Kyle T. Mandli</td>\n",
    "</table>"
   ]
  },
  {
   "cell_type": "code",
   "execution_count": null,
   "metadata": {
    "slideshow": {
     "slide_type": "skip"
    }
   },
   "outputs": [],
   "source": [
    "from __future__ import print_function\n",
    "\n",
    "%matplotlib inline\n",
    "\n",
    "import os\n",
    "import numpy\n",
    "import matplotlib.pyplot as plt\n",
    "import matplotlib.animation\n",
    "\n",
    "from IPython.display import HTML\n",
    "from clawpack import pyclaw\n",
    "from clawpack import riemann"
   ]
  },
  {
   "cell_type": "markdown",
   "metadata": {
    "slideshow": {
     "slide_type": "slide"
    }
   },
   "source": [
    "# Finite Volume Methods for Nonlinear Scalar Conservation Laws"
   ]
  },
  {
   "cell_type": "markdown",
   "metadata": {
    "slideshow": {
     "slide_type": "subslide"
    }
   },
   "source": [
    "As we saw previously, if we have a nonlinear conservation law that it be considered in this form or a form of nonuniqueness will result apart from the use of the weak form.  This extends to the numerical case as well and is critical to come to proper approximation of the weak solutions to the conservation law."
   ]
  },
  {
   "cell_type": "markdown",
   "metadata": {
    "slideshow": {
     "slide_type": "slide"
    }
   },
   "source": [
    "## Godunov's Method\n",
    "\n",
    "From our original formulation of Godunov's method we obtained the numerical flux by evaluating the solution along the grid cell edge in time\n",
    "$$\n",
    "    F^n_{i-1/2} = f(Q_{i-1/2}).\n",
    "$$\n",
    "For nonlinear scalar problems there are 5 different configurations that may occur:\n",
    "1. Shock traveling to the left\n",
    "1. Rarefaction traveling fully to the left\n",
    "1. A centered rarefaction\n",
    "1. Rarefaction traveling fully to the right\n",
    "1. Shock traveling to the right"
   ]
  },
  {
   "cell_type": "markdown",
   "metadata": {
    "slideshow": {
     "slide_type": "subslide"
    }
   },
   "source": [
    "In all but case 3 we know what value to pick to evaluate the flux function, i.e. $Q_{i-1}$ for case 1 and 2 and $Q_i$ for case 4 and 5.  For case 2 however it is no longer clear what value $Q$ to use."
   ]
  },
  {
   "cell_type": "markdown",
   "metadata": {
    "slideshow": {
     "slide_type": "subslide"
    }
   },
   "source": [
    "Suppose that $f''(q) > 0$ everywhere such that if $Q_{i-1} < Q_i$ leads to a rarefaction.  If $Q_{i-1} < q_s < Q_i$ such that $q_s$ is the unique value where $f'(q_s) = 0$.  The value $q_s$ is often called a **stagnation point** as it propagates with speed 0.  It can also be called a **sonic point** as in gas dynamics (and shallow water) the speeds can by 0 only if the fluid speed $|u|$ and the sound speed (or gravity wave speed) equal."
   ]
  },
  {
   "cell_type": "markdown",
   "metadata": {
    "slideshow": {
     "slide_type": "subslide"
    }
   },
   "source": [
    "With this being said we can generalize the Godunov flux function as\n",
    "$$\n",
    "    F^n_{i-1/2} = \\left \\{ \\begin{aligned}\n",
    "        &f(Q_{i-1}) & & \\text{if } Q_{i-1} > q_s &\\text{and } & s > 0 \\\\\n",
    "        &f(Q_{i}) & & \\text{if } Q_{i} < q_s &\\text{and } & s < 0 \\\\\n",
    "        &f(q_s) & & \\text{if } Q_{i-1} < q_s < Q_i & &\n",
    "    \\end{aligned} \\right .\n",
    "$$\n",
    "where $s$ is the Rankine-Hugoniot derived shock speed."
   ]
  },
  {
   "cell_type": "markdown",
   "metadata": {
    "slideshow": {
     "slide_type": "slide"
    }
   },
   "source": [
    "## Fluctuations, Waves, and Speeds\n",
    "\n",
    "We still want to express Godunov's method in terms of our waves and fluctuations.  Recall our standard, first-order scheme\n",
    "$$\n",
    "    Q^{n+1}_i = Q^n_i - \\frac{\\Delta t}{\\Delta x} (\\mathcal{A}^+ \\Delta Q_{i-1/2} + \\mathcal{A}^- \\Delta Q_{i+1/2} )\n",
    "$$\n",
    "where we define $\\mathcal{A}^\\pm \\Delta Q_{i-1/2}$ as\n",
    "$$\\begin{aligned}\n",
    "    &\\mathcal{A}^+ \\Delta Q_{i-1/2} = f(Q_i) - f(\\widehat{Q}_{i-1/2}) \\\\\n",
    "    &\\mathcal{A}^- \\Delta Q_{i-1/2} = f(\\widehat{Q}_{i-1/2}) - f(Q_{i-1})\n",
    "\\end{aligned}$$"
   ]
  },
  {
   "cell_type": "markdown",
   "metadata": {
    "slideshow": {
     "slide_type": "subslide"
    }
   },
   "source": [
    "For the waves $\\mathcal{W}_{i-1/2}$ and speeds $s_{i-1/2}$ that come into the higher-order correction terms we naturally have\n",
    "$$\n",
    "    \\mathcal{W}_{i-1/2} = Q_i - Q_{i-1}\n",
    "$$\n",
    "and\n",
    "$$\n",
    "    s_{i-1/2} = \\left \\{ \\begin{aligned}\n",
    "        &\\frac{f(Q_i) - f(Q_{i-1})}{Q_i - Q_{i-1}} & & \\text{if } Q_{i-1} \\neq Q_i \\\\\n",
    "        &f'(Q_i) & & \\text{if } Q_{i-1} = Q_i\n",
    "    \\end{aligned} \\right .\n",
    "$$"
   ]
  },
  {
   "cell_type": "markdown",
   "metadata": {
    "slideshow": {
     "slide_type": "slide"
    }
   },
   "source": [
    "## Transonic Rarefactions and Entropy Fixes\n",
    "\n",
    "Up until now we have only described a method that satisfies the Rankine-Hugoniot conditions but does not consider our previous case 3, a transonic/centered rarefaction.  If we were not to treat this case specially we would be violating our entropy conditions."
   ]
  },
  {
   "cell_type": "markdown",
   "metadata": {
    "slideshow": {
     "slide_type": "subslide"
    }
   },
   "source": [
    "In order to handle this case we must apply what is mostly commonly termed an **entropy fix**.  An entropy fix aims to modify $\\mathcal{A}^\\pm \\Delta Q_{i-1/2}$ such that it handles the transonic case and maintains an entropy satisfying solution."
   ]
  },
  {
   "cell_type": "code",
   "execution_count": null,
   "metadata": {
    "slideshow": {
     "slide_type": "skip"
    }
   },
   "outputs": [],
   "source": [
    "def true_solution(x, t):\n",
    "    return numpy.zeros(x.shape)\n",
    "\n",
    "def burgers_animation(order=2, efix=True):\n",
    "   \n",
    "    solver = pyclaw.ClawSolver1D(riemann.burgers_1D)\n",
    "\n",
    "    solver.limiters = pyclaw.limiters.tvd.MC\n",
    "    solver.bc_lower[0] = pyclaw.BC.extrap\n",
    "    solver.bc_upper[0] = pyclaw.BC.extrap\n",
    "    solver.order = order\n",
    "\n",
    "    x = pyclaw.Dimension(-3.0, 3.0, 50, name='x')\n",
    "    domain = pyclaw.Domain(x)\n",
    "    num_eqn = 1\n",
    "    state = pyclaw.State(domain, num_eqn)\n",
    "\n",
    "    xc = domain.grid.x.centers\n",
    "    state.q[0,:] = (xc < 0) * -numpy.ones(xc.shape) + 2.0 * (xc >= 0) * numpy.ones(xc.shape)\n",
    "    state.problem_data['efix'] = efix\n",
    "\n",
    "    claw = pyclaw.Controller()\n",
    "    claw.tfinal = 6.0\n",
    "    claw.num_output_times   = 30\n",
    "    claw.solution = pyclaw.Solution(state,domain)\n",
    "    claw.solver = solver\n",
    "\n",
    "    claw.keep_copy = True\n",
    "    claw.run()\n",
    "    x = claw.frames[0].grid.dimensions[0].centers\n",
    "    \n",
    "    fig = plt.figure()\n",
    "    axes = plt.subplot(1, 1, 1)\n",
    "    axes.set_xlim((x[0], x[-1]))\n",
    "    axes.set_ylim((-1.5, 2.5))\n",
    "    axes.set_title(\"Burgers Equation\")\n",
    "    \n",
    "    def init():\n",
    "        axes.set_xlim((x[0], x[-1]))\n",
    "        axes.set_ylim((-1.5, 2.5))\n",
    "        computed_line, = axes.plot(x[0], claw.frames[0].q[0, :][0], 'bo-')\n",
    "        true_line, = axes.plot(x[0], claw.frames[0].q[0, :][0], 'k-')\n",
    "        return (computed_line, true_line)\n",
    "    \n",
    "    computed_line, true_line = init()\n",
    "    \n",
    "    def fplot(n):\n",
    "        computed_line.set_data([x,], [claw.frames[n].q[0, :]])\n",
    "        true_line.set_data([x,], [true_solution(x, claw.frames[n].t)])\n",
    "        return (computed_line, true_line)\n",
    "\n",
    "    frames_to_plot = range(0, len(claw.frames))\n",
    "    plt.close(fig)\n",
    "    return matplotlib.animation.FuncAnimation(fig, fplot, frames=frames_to_plot, interval=100,\n",
    "                                   blit=True, init_func=init, repeat=False)"
   ]
  },
  {
   "cell_type": "code",
   "execution_count": null,
   "metadata": {
    "slideshow": {
     "slide_type": "skip"
    }
   },
   "outputs": [],
   "source": [
    "HTML(burgers_animation(order=2, efix=True).to_jshtml())"
   ]
  },
  {
   "cell_type": "markdown",
   "metadata": {
    "slideshow": {
     "slide_type": "subslide"
    }
   },
   "source": [
    "The practical application of an entropy fix usually consists of an indicator that the original solution may not be sufficient.  In other words in the case that there may exist a transonic rarefaction.  For scalar conservation laws this will occur when\n",
    "$$\n",
    "    f'(Q_{i-1}) < 0 < f'(Q_i)\n",
    "$$\n",
    "in which case we redefine $\\mathcal{A}^\\pm \\Delta Q_{i-1/2}$ with\n",
    "$$\\begin{aligned}\n",
    "    &\\mathcal{A}^+ \\Delta Q_{i-1/2} = f(Q_i) - f(q_s) \\\\\n",
    "    &\\mathcal{A}^- \\Delta Q_{i-1/2} = f(q_s) - f(Q_i)\n",
    "\\end{aligned}$$"
   ]
  },
  {
   "cell_type": "markdown",
   "metadata": {
    "slideshow": {
     "slide_type": "slide"
    }
   },
   "source": [
    "## Numerical Viscosity\n",
    "\n",
    "It is evident that method mentioned above is not completely incorrect. How can this be the case when we know that the proper entropy satisfying solution should not be represented at all.  Instead we see a solution that partially does have the correct rarefaction structure.  What could be going on?"
   ]
  },
  {
   "cell_type": "markdown",
   "metadata": {
    "slideshow": {
     "slide_type": "subslide"
    }
   },
   "source": [
    "The fact that we are in reality getting a \"pretty good\" solution is that in reality the dominant error is providing a form of numerical viscosity that acts to create something like a physical viscosity that would match somewhat we want to approximate.  This suggests that, similar to finite-difference analysis, that what we really require is a form of regularization with some diffusion to obtain true solutions."
   ]
  },
  {
   "cell_type": "markdown",
   "metadata": {
    "slideshow": {
     "slide_type": "subslide"
    }
   },
   "source": [
    "In the case of finite volume methods we can consider a numerical flux function\n",
    "$$\n",
    "    F_{i-1/2} = \\frac{1}{2} [ f(Q_{i-1}) + f(Q_i) - |s_{i-1/2}| (Q_i - Q_{i-1})]\n",
    "$$\n",
    "that we know works as an unstable flux plus a diffusive like term."
   ]
  },
  {
   "cell_type": "markdown",
   "metadata": {
    "slideshow": {
     "slide_type": "slide"
    }
   },
   "source": [
    "## Lax-Friedrichs and Local Lax-Friedrichs Methods\n",
    "\n",
    "A class of methods use a similar flux definition that was just mentioned previously.  The flux function is\n",
    "$$\n",
    "    F_{i-1/2} = \\frac{1}{2} [f(Q_{i-1}) + f(Q_i) - a (Q_i - Q_{i-1})].\n",
    "$$"
   ]
  },
  {
   "cell_type": "markdown",
   "metadata": {
    "slideshow": {
     "slide_type": "subslide"
    }
   },
   "source": [
    "As we have seen from finite difference and method of lines type analysis, this method has a numerical viscosity of\n",
    "$$\n",
    "    a = \\frac{\\Delta x}{\\Delta t}\n",
    "$$\n",
    "with a fixed magnitude that at a sonic point will not vanish.  We can similarly define a local version of this that only applies the significant numerical viscosity at sonic points.  This can be defined as\n",
    "$$\n",
    "    F_{i-1/2} = \\frac{1}{2} [f(Q_{i-1}) + f(Q_i) - a_{i-1/2} (Q_i - Q_{i-1})]\n",
    "$$\n",
    "where\n",
    "$$\n",
    "    a_{i-1/2} = \\max(|f'(Q_{i-1}|, |f'(Q_i)|).\n",
    "$$\n",
    "This method is also called **Rusanov's Method**."
   ]
  },
  {
   "cell_type": "markdown",
   "metadata": {
    "slideshow": {
     "slide_type": "subslide"
    }
   },
   "source": [
    "Another related method is **Murman's method** which uses\n",
    "$$\n",
    "    a_{i-1/2} = \\left |\\frac{f(Q_i) - f(Q_{i-1})}{Q_i - Q_{i-1}} \\right|\n",
    "$$"
   ]
  },
  {
   "cell_type": "markdown",
   "metadata": {
    "slideshow": {
     "slide_type": "slide"
    }
   },
   "source": [
    "## Engquist-Osher method\n",
    "\n",
    "We have constructed a method so far that always assumes a shock unless otherwise determined.  What if we chose the opposite and assume that everything is a shock instead?  This is known as the **Engquist-Osher method** and is accomplished by defining\n",
    "$$\\begin{aligned}\n",
    "    \\mathcal{A}^+ \\Delta Q_{i-1/2} &= \\int^{Q_i}_{Q_{i-1}} (f'(q))^+ dq \\\\\n",
    "    \\mathcal{A}^- \\Delta Q_{i-1/2} &= \\int^{Q_i}_{Q_{i-1}} (f'(q))^- dq\n",
    "\\end{aligned}$$"
   ]
  },
  {
   "cell_type": "markdown",
   "metadata": {
    "slideshow": {
     "slide_type": "subslide"
    }
   },
   "source": [
    "These are all implementable in our wave-propagation methodology where\n",
    "$$\\begin{aligned}\n",
    "    \\mathcal{A}^- \\Delta Q_{i-1/2} &= \\frac{1}{2} [f(Q_i) - f(Q_{i-1} - a_{i-1/2} (Q_i - Q_{i-1})] \\\\\n",
    "    \\mathcal{A}^+ \\Delta Q_{i-1/2} &= \\frac{1}{2} [f(Q_i) - f(Q_{i-1} + a_{i-1/2} (Q_i - Q_{i-1})]\n",
    "\\end{aligned}$$\n",
    "that leads to flux functions of\n",
    "$$\\begin{aligned}\n",
    "    F_{i-1/2} &= f(Q_{i-1}) + \\int^{Q_i}_{Q_{i-1}} (f'(q))^- dq \\\\\n",
    "    &= f(Q_i) - \\int^{Q_i}_{Q_{i-1}} (f'(q))^+ dq \\\\\n",
    "    &= \\frac{1}{2} [f(Q_{i-1}) + f(Q_i)] - \\frac{1}{2} \\int^{Q_i}_{Q_{i-1}} |f'(q)| dq.\n",
    "\\end{aligned}$$"
   ]
  },
  {
   "cell_type": "markdown",
   "metadata": {
    "slideshow": {
     "slide_type": "subslide"
    }
   },
   "source": [
    "If $f'(q)$ does not change sign between $Q_{i-1}$ and $Q_i$ then one of these fluctuations will be zero and if it does, not only do we have a transonic rarefaction, but we also have the correct flux."
   ]
  },
  {
   "cell_type": "markdown",
   "metadata": {
    "slideshow": {
     "slide_type": "slide"
    }
   },
   "source": [
    "## E-Schemes\n",
    "\n",
    "An **E-scheme** is one that satisfies\n",
    "$$\n",
    "    \\text{sign}(Q_i - Q_{i-1}) [F_{i-1/2} - f(q)] \\leq 0.\n",
    "$$\n",
    "One can show that Godunov's method is an E-scheme."
   ]
  },
  {
   "cell_type": "markdown",
   "metadata": {
    "slideshow": {
     "slide_type": "slide"
    }
   },
   "source": [
    "## High-Resolution TVD Methods\n",
    "\n",
    "Extending our methods to higher-order is easy via the\n",
    "$$\n",
    "    Q_i^{n+1} = Q_i^n - \\frac{\\Delta t}{\\Delta x} (\\mathcal{A}^+\\Delta Q_{i-1/2} + \\mathcal{A}^-\\Delta Q_{i+1/2}) - \\frac{\\Delta t}{\\Delta x}(\\widetilde{F}_{i+1/2} - \\widetilde{F}_{i-1/2})\n",
    "$$\n",
    "where\n",
    "$$\n",
    "    \\widetilde{F}_{i-1/2} = \\frac{1}{2} |s_{i-1/2}| \\left( 1 - \\frac{\\Delta t}{\\Delta x} |s_{i-1/2}| \\right ) \\widetilde{\\mathcal{W}}_{i-1/2}.\n",
    "$$"
   ]
  },
  {
   "cell_type": "markdown",
   "metadata": {
    "slideshow": {
     "slide_type": "slide"
    }
   },
   "source": [
    "## Conservation Form\n",
    "\n",
    "Using the conservation form of an equation has some important properties.  If we have a solution that involves shocks we have already seen that manipulation of the non-conservative form can lead to different solutions.  This is also the basis of conservative forms of the numerical approximation also guaranteeing that we are finding true weak solutions to the original equation."
   ]
  },
  {
   "cell_type": "markdown",
   "metadata": {
    "slideshow": {
     "slide_type": "subslide"
    }
   },
   "source": [
    "We can illustrate this idea by again considering Burgers' equation\n",
    "$$\n",
    "    u_t + \\left(\\frac{1}{2} u^2 \\right)_x = 0.\n",
    "$$\n",
    "If $u > 0 \\forall x \\in \\mathbb R$ then the conservative upwind method is\n",
    "$$\n",
    "    U^{n+1}_i = U^n_i - \\frac{\\Delta t}{\\Delta x} \\left( \\frac{1}{2} (U^n_i)^2 - \\frac{1}{2} (U^n_{i-1})^2 \\right)\n",
    "$$\n",
    "where as the quasilinear form $u_t + uu_x = 0$ leads to\n",
    "$$\n",
    "    U^{n+1}_i = U^n_i - \\frac{\\Delta t}{\\Delta x} U^n_i (U^n_i - U^n_{i-1}).\n",
    "$$"
   ]
  },
  {
   "cell_type": "markdown",
   "metadata": {
    "slideshow": {
     "slide_type": "subslide"
    }
   },
   "source": [
    "For smooth solutions these are equivalent numerical methods.  Unfortunately for solutions that should contain a shock these two methods give divergent solutions."
   ]
  },
  {
   "cell_type": "markdown",
   "metadata": {
    "slideshow": {
     "slide_type": "subslide"
    }
   },
   "source": [
    "We can actually write a direct discretization to the non-conservative form of the equation that looks much more complex:\n",
    "$$\n",
    "    U^{n+1}_i = U^n_i - \\frac{\\Delta t}{\\Delta x} \\left ( \\frac{1}{2}(U^n_i)^2 - \\frac{1}{2}(U^n_{i-1})^2 \\right) + \\frac{1}{2} \\Delta t \\Delta x \\frac{\\Delta t}{\\Delta x} \\left ( \\frac{U^n_i - U^n_{i-1}}{\\Delta x} \\right)^2\n",
    "$$"
   ]
  },
  {
   "cell_type": "markdown",
   "metadata": {
    "slideshow": {
     "slide_type": "slide"
    }
   },
   "source": [
    "## Lax-Wendroff Theorem\n",
    "\n",
    "One question that may come to mind is whether a consistent approximation to the conservation law will converge to a weak solution of said conservation law.  Lax and Wendroff proved as much."
   ]
  },
  {
   "cell_type": "markdown",
   "metadata": {
    "slideshow": {
     "slide_type": "subslide"
    }
   },
   "source": [
    "Consider a sequence of grids indexed by $j=1, 2, \\ldots$, with mesh parameters $\\Delta t^{(j)}, \\Delta x^{(j)} \\rightarrow 0$ as $j \\rightarrow \\infty$.  Let $Q^{(j)}(x, t)$ denote the numerical approximation computed with a consistent and conservative methods on the $j$th grid."
   ]
  },
  {
   "cell_type": "markdown",
   "metadata": {
    "slideshow": {
     "slide_type": "subslide"
    }
   },
   "source": [
    "Define convergence from a grid function $Q^{(j)}(x,t)$ to $q(x,t)$ in the following sense:\n",
    "1. Over every bounded set $\\Omega = [a,b] \\times [0,T]$, then\n",
    "$$\n",
    "    \\int^T_0 \\int^a_b |Q^{(j)}(x,t) - q(x,t)| dx dt \\rightarrow 0 \\text{   as } j\\rightarrow \\infty\n",
    "$$\n",
    "This is the 1-norm over $\\Omega$ and therefore can instead write this as\n",
    "$$\n",
    "    ||Q^{(j)} - q||_{1,\\Omega} \\rightarrow 0 \\text{   as } j \\rightarrow \\infty.\n",
    "$$\n",
    "1. We also assume that for each $T \\quad \\exists R > 0$ s.t.\n",
    "$$\n",
    "    \\text{TV}(Q^{(j)}) < R \\quad \\forall 0 \\leq t \\leq T, \\quad j=1,2,\\ldots\n",
    "$$\n",
    "where TV denotes the total variation function."
   ]
  },
  {
   "cell_type": "markdown",
   "metadata": {
    "slideshow": {
     "slide_type": "subslide"
    }
   },
   "source": [
    "**Lax-Wendroff Theorem:**    Suppose that $Q^{(j)}$ converges to a function $q$ as $j \\rightarrow \\infty$, in the sense described above.  Then $q(x,t)$ is a weak solution of the conservation law."
   ]
  },
  {
   "cell_type": "markdown",
   "metadata": {
    "slideshow": {
     "slide_type": "subslide"
    }
   },
   "source": [
    "To prove this theorem we will show that the limit function $q(x,t)$ satisfies the weak form for all $\\phi \\in C^1_0$.,\n",
    "$$\n",
    "    \\int^\\infty_0 \\int^\\infty_{-\\infty} [\\phi_t q + \\phi_x f(q)] dx dt = - \\int^\\infty_{-\\infty} \\phi(x, 0) q(x, t) dx.\n",
    "$$"
   ]
  },
  {
   "cell_type": "markdown",
   "metadata": {
    "slideshow": {
     "slide_type": "subslide"
    }
   },
   "source": [
    "Now define a grid version of $\\phi$ so that we have $\\Phi^{(j)}$ as an analogous gridded function.  Also define the relationship between subsequent grids by $\\Phi^{(j)n}$ and similarly for $Q^{(j) n}_i$.  Now dropping the $j$ indexing but keeping the idea that $j \\rightarrow \\infty$ we move forward."
   ]
  },
  {
   "cell_type": "markdown",
   "metadata": {
    "slideshow": {
     "slide_type": "subslide"
    }
   },
   "source": [
    "Take the original conservative method as\n",
    "$$\n",
    "    Q^{n+1}_i = Q^n_i - \\frac{\\Delta t}{\\Delta x} (F^n_{i+1/2} - F^n_{i-1/2} )\n",
    "$$\n",
    "and multiply by the gridded version of $\\phi$ to find\n",
    "$$\n",
    "    \\Phi^n_i Q^{n+1}_i = \\Phi^n_i Q^n_i - \\frac{\\Delta t}{\\Delta x} \\Phi^n_i (F^n_{i+1/2} - F^n_{i-1/2} )\n",
    "$$\n",
    "that should be true for all values of $i$ and $n$ on each grid $j$.  Summing these over all $i$ and $n$ leads to\n",
    "$$\n",
    "    \\sum^\\infty_{n=0} \\sum^\\infty_{i=-\\infty} \\Phi^n_i(Q^{n+1}_i - Q^n_i) = -\\frac{\\Delta t}{\\Delta x} \\sum^\\infty_{n=0} \\sum^\\infty_{i=-\\infty} \\Phi^n_i (F^n_{i+1/2} - F^n_{i-1/2}).\n",
    "$$"
   ]
  },
  {
   "cell_type": "markdown",
   "metadata": {
    "slideshow": {
     "slide_type": "subslide"
    }
   },
   "source": [
    "Summation by parts (similar to integration by parts) leads to\n",
    "$$\n",
    "    - \\sum^\\infty_{-\\infty} \\Phi^0_i Q^0_i - \\sum^\\infty_{n=1} \\sum^\\infty_{i=-\\infty} (\\Phi^n_i - \\Phi^{n-1}_i) Q^n_i = \\frac{\\Delta t}{\\Delta x} \\sum^\\infty_{n=0} \\sum^\\infty_{i=-\\infty} (\\Phi^n_{i+1} - \\Phi^n_i) F^n_{i-1/2}.\n",
    "$$\n",
    "Since $\\Phi$ is compactly supported we in fact have the following:\n",
    "$$\n",
    "    \\Delta x \\Delta t \\left [  \\sum^\\infty_{n=1} \\sum^\\infty_{i=-\\infty} \\left( \\frac{\\Phi^n_i - \\Phi^{n-1}_{i}}{\\Delta t} \\right )Q^n_i + \\sum^\\infty_{n=0} \\sum^\\infty_{i=-\\infty} \\left( \\frac{\\Phi^n_{i+1} - \\Phi^{n}_{i}}{\\Delta x} \\right )\\right ] = -\\Delta x \\sum^\\infty_{i=-\\infty} \\Phi^0_i Q^0_i\n",
    "$$"
   ]
  },
  {
   "cell_type": "markdown",
   "metadata": {
    "slideshow": {
     "slide_type": "subslide"
    }
   },
   "source": [
    "At this point we can see that many of these terms go to zero as $j \\rightarrow 0$.  The remaining flux function however are a bit more complex and lead to the additional assumptions that we have already imposed.  We then have\n",
    "$$\n",
    "    F^n_{i-1/2} \\equiv F^{(j)n}_{i-1/2} = \\mathcal{F}(Q^{(j)n}_{i-1}, Q^{(j)n}_i)\n",
    "$$\n",
    "with\n",
    "$$\n",
    "    |F^{(j)n}_{i-1/2} - f(Q^{(j)n}_i) | \\leq L | Q^{(j)n}_{i} -Q^{(j)n}_{i-1},\n",
    "$$\n",
    "a clear Lipschitz condition."
   ]
  },
  {
   "cell_type": "markdown",
   "metadata": {
    "slideshow": {
     "slide_type": "subslide"
    }
   },
   "source": [
    "If \n",
    "$$\n",
    "    |F^{(j)n}_{i-1/2} - f(Q^{(j)n}_i) | \\rightarrow 0 \\text{   as } j\\rightarrow \\infty\n",
    "$$\n",
    "for almost all $i$ then we can say\n",
    "$$\n",
    "    \\Delta x \\Delta t \\sum^\\infty_{n=0} \\sum^\\infty_{i=-\\infty} \\left( \\frac{\\Phi^n_{i+1} - \\Phi^{n}_{i}}{\\Delta x} \\right ) F^n_{i-1/2} \\rightarrow \\int^\\infty_{0} \\int^\\infty_{-\\infty} \\phi_x(x,t) f(q(x,t)) dx dt\n",
    "$$"
   ]
  },
  {
   "cell_type": "markdown",
   "metadata": {
    "slideshow": {
     "slide_type": "slide"
    }
   },
   "source": [
    "## Entropy Conditions Revisited"
   ]
  },
  {
   "cell_type": "markdown",
   "metadata": {
    "slideshow": {
     "slide_type": "subslide"
    }
   },
   "source": [
    "### Entropy Consistency of Godunov Methods"
   ]
  },
  {
   "cell_type": "markdown",
   "metadata": {
    "slideshow": {
     "slide_type": "slide"
    }
   },
   "source": [
    "## Nonlinear Stability"
   ]
  }
 ],
 "metadata": {
  "celltoolbar": "Slideshow",
  "kernelspec": {
   "display_name": "Python 3",
   "language": "python",
   "name": "python3"
  },
  "language_info": {
   "codemirror_mode": {
    "name": "ipython",
    "version": 3
   },
   "file_extension": ".py",
   "mimetype": "text/x-python",
   "name": "python",
   "nbconvert_exporter": "python",
   "pygments_lexer": "ipython3",
   "version": "3.7.4"
  }
 },
 "nbformat": 4,
 "nbformat_minor": 2
}
