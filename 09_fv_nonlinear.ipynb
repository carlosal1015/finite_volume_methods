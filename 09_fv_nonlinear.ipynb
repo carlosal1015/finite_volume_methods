{
 "cells": [
  {
   "cell_type": "markdown",
   "metadata": {
    "slideshow": {
     "slide_type": "skip"
    }
   },
   "source": [
    "<table>\n",
    " <tr align=left><td><img align=left src=\"./images/CC-BY.png\">\n",
    " <td>Text provided under a Creative Commons Attribution license, CC-BY. All code is made available under the FSF-approved MIT license. (c) Kyle T. Mandli</td>\n",
    "</table>"
   ]
  },
  {
   "cell_type": "code",
   "execution_count": null,
   "metadata": {
    "slideshow": {
     "slide_type": "skip"
    }
   },
   "outputs": [],
   "source": [
    "from __future__ import print_function\n",
    "\n",
    "%matplotlib inline\n",
    "\n",
    "import numpy\n",
    "import matplotlib.pyplot as plt\n",
    "import matplotlib.animation\n",
    "\n",
    "from IPython.display import HTML\n",
    "from clawpack import pyclaw\n",
    "from clawpack import riemann"
   ]
  },
  {
   "cell_type": "markdown",
   "metadata": {
    "slideshow": {
     "slide_type": "slide"
    }
   },
   "source": [
    "# Finite Volume Methods for Nonlinear Systems"
   ]
  },
  {
   "cell_type": "markdown",
   "metadata": {
    "slideshow": {
     "slide_type": "slide"
    }
   },
   "source": [
    "## Godunov's Method\n",
    "\n",
    "Recall that our goal is to evolve the cell-averages\n",
    "$$\n",
    "    Q^n_i \\approx \\frac{1}{\\Delta x} \\int^{x_{i+1/2}}_{x_{i-1/2}} q(x, t_n) dx\n",
    "$$\n",
    "using a piecewise reconstruction $\\widetilde{q}^n(x, t_n)$ using these cell-averages and evolving these functions using the conservation law.\n",
    "\n",
    "Solving (evolving) over time $\\Delta t$ with this data gives us the function $\\widetilde{q}^n(x, t_{n+1})$ leading to\n",
    "$$\n",
    "    Q^{n+1}_i = \\frac{1}{\\Delta x} \\int^{x_{i+1/2}}_{x_{i-1/2}} \\widetilde{q}^n(x, t_{n+1}) dx\n",
    "$$."
   ]
  },
  {
   "cell_type": "markdown",
   "metadata": {
    "slideshow": {
     "slide_type": "subslide"
    }
   },
   "source": [
    "The final component of Godunov's method suggests that we do not need the entire Riemann solution but only need the solution along the cell-interface $x_{i-1/2}$ such that\n",
    "$$\n",
    "    Q^{n+1}_i = Q^n_i - \\frac{\\Delta t}{\\Delta x} (F^n_{i+1/2} - F^n_{i-1/2})\n",
    "$$\n",
    "where\n",
    "$$\n",
    "    F^n_{i-1/2} = \\mathcal{F}(Q^n_{i-1}, Q^n_i) = f(\\widehat{q}(Q^n_{i-1}, Q^n_i)\n",
    "$$\n",
    "where $\\widehat{q}(Q^n_{i-1}, Q^n_i)$ is the Riemann solution evaluated along $x/t = 0$."
   ]
  },
  {
   "cell_type": "markdown",
   "metadata": {
    "slideshow": {
     "slide_type": "subslide"
    }
   },
   "source": [
    "Godunov's method can also be implemented in wave-propagation form\n",
    "$$\n",
    "    Q^{n+1}_i = Q^n_i - \\frac{\\Delta t}{\\Delta x} (\\mathcal{A}^+ \\Delta Q_{i-1/2} + \\mathcal{A}^- \\Delta Q_{i+1/2}),\n",
    "$$\n",
    "which takes the fluxes to be\n",
    "$$\\begin{aligned}\n",
    "    \\mathcal{A}^- \\Delta Q_{i-1/2} &= f(\\widehat{Q}_{i-1/2}) - f(Q_{i-1}) \\\\\n",
    "    \\mathcal{A}^+ \\Delta Q_{i-1/2} &= f(Q_{i}) - f(\\widehat{Q}_{i-1/2}).\n",
    "\\end{aligned}$$"
   ]
  },
  {
   "cell_type": "markdown",
   "metadata": {
    "slideshow": {
     "slide_type": "subslide"
    }
   },
   "source": [
    "The primary note of importance now is that all we need for Godunov's method is what the solution along the grid cell edge is rather than the full Riemann solution we have been working with.  This strongly suggests that there may be ways to use approximate Riemann solvers that give us only what we need and are less expensive."
   ]
  },
  {
   "cell_type": "markdown",
   "metadata": {
    "slideshow": {
     "slide_type": "slide"
    }
   },
   "source": [
    "## Convergence of Godunov's Method\n",
    "\n",
    "It also useful at this point to review what we know about the convergence of Godunov's method that we showed before."
   ]
  },
  {
   "cell_type": "markdown",
   "metadata": {
    "slideshow": {
     "slide_type": "subslide"
    }
   },
   "source": [
    "1. The Lax-Wendroff theorem implies that for nonlinear systems of conservation laws, if we have a sequence of numerical approximations representing grid refinement that this sequence will converge in the appropriate sense to a function $q(x,t)$ and that this functions is a weak solution of the conservation law.  This is unfortunately not true in general for the nonconservative form of the equations."
   ]
  },
  {
   "cell_type": "markdown",
   "metadata": {
    "slideshow": {
     "slide_type": "subslide"
    }
   },
   "source": [
    "2. Entropy conditions will allow us to pick out the correct weak solution and if we employ Riemann solvers that obey the appropriate Entropy conditions that the overall method will also pick out the entropy satisfying solution."
   ]
  },
  {
   "cell_type": "markdown",
   "metadata": {
    "slideshow": {
     "slide_type": "subslide"
    }
   },
   "source": [
    "3. The Lax-Wendroff theorem unfortunately does not guarantee convergence, rather it only says *if* a sequence converges that it converges to a weak solution of the conservation law.  Showing convergence requires a form of stability for which we used TV-stability before.  Unfortunately TV-stability cannot be extended as is to the system case."
   ]
  },
  {
   "cell_type": "markdown",
   "metadata": {
    "slideshow": {
     "slide_type": "slide"
    }
   },
   "source": [
    "## Approximate Riemann Solvers\n",
    "\n",
    "We now will start to discuss the idea that perhaps we only need a small part of the full Riemann solution if we are interested in using Godunov's methods.  In particular, if $\\widehat{q}(q_\\ell, q_r)$ is the general, full solution to a Riemann problem that we only need to know the state along $x/t = 0$.  This usually implies that we need to compute one of the middle states $q_m$ of the Riemann solution although this is highly dependent on wave speeds and criticality conditions."
   ]
  },
  {
   "cell_type": "markdown",
   "metadata": {
    "slideshow": {
     "slide_type": "subslide"
    }
   },
   "source": [
    "Define a function\n",
    "$$\n",
    "    \\widehat{Q}_{i-1/2}(x/t)\n",
    "$$\n",
    "that approximates the true similarity solution of the Riemann problem with input data $Q_{i-1}$ and $Q_i$.  This approximation will generally depend on some set of jumps in $Q$ where\n",
    "$$\n",
    "    Q_i - Q_{i-1} = \\sum^{M_w}_{p=1} \\mathcal{W}^p_{i-1/2}\n",
    "$$\n",
    "where now we are allowed to pick out how many waves $M_w$ represent the approximation."
   ]
  },
  {
   "cell_type": "markdown",
   "metadata": {
    "slideshow": {
     "slide_type": "subslide"
    }
   },
   "source": [
    "Generalizing Godunov's method to systems then we could take two different approaches to defining the fluctuations:\n",
    "1. Define the numerical flux by\n",
    "$$\n",
    "    F_{i-1/2} = f(\\widehat{Q}_{i-1/2})\n",
    "$$\n",
    "where\n",
    "$$\n",
    "    \\widehat{Q}_{i-1/2} = Q_{i-1} + \\sum_{p:s^p_{i-1/2} < 0} \\mathcal{W}^p_{i-1/2}.\n",
    "$$\n",
    "In other words the state that lies along $x/t = 0$.  We can also go the other direction so that\n",
    "$$\n",
    "    \\widehat{Q}_{i-1/2} = Q_{i} - \\sum_{p:s^p_{i-1/2} > 0} \\mathcal{W}^p_{i-1/2}.\n",
    "$$\n",
    "Therefore the fluctuations are \n",
    "$$\\begin{aligned}\n",
    "    \\mathcal{A}^- \\Delta Q_{i-1/2} &= f(\\widehat{Q}_{i-1/2}) - f(Q_{i-1}) \\\\\n",
    "    \\mathcal{A}^+ \\Delta Q_{i-1/2} &= f(Q_{i}) - f(\\widehat{Q}_{i-1/2}) \\\\\n",
    "\\end{aligned}$$\n",
    "1. Use the waves and speeds to define\n",
    "$$\\begin{aligned}\n",
    "    \\mathcal{A}^- \\Delta Q_{i-1/2} &= \\sum^{M_w}_{p=1} (s^p_{i-1/2})^- \\mathcal{W}^p_{i-1/2} \\\\\n",
    "    \\mathcal{A}^+ \\Delta Q_{i-1/2} &= \\sum^{M_w}_{p=1} (s^p_{i-1/2})^+ \\mathcal{W}^p_{i-1/2} \\\\\n",
    "\\end{aligned}$$"
   ]
  },
  {
   "cell_type": "markdown",
   "metadata": {
    "slideshow": {
     "slide_type": "subslide"
    }
   },
   "source": [
    "The important realization here is that both of these approaches are the same for the all-shock Riemann solution.  This also implies that unless we have a transonic rarefaction, i.e. a rarefaction fan contains $x/t = 0$ we do not need to worry about what the exact type of wave is but rather what middle state contains $x/t = 0$."
   ]
  },
  {
   "cell_type": "markdown",
   "metadata": {
    "slideshow": {
     "slide_type": "subslide"
    }
   },
   "source": [
    "### Linearized Riemann Solvers\n",
    "\n",
    "Probably the most natural way to find an approximate Riemann solver is to find some linearization of the problem that is appropriate for the conservation law such that for $q_t + f(q)_x = 0$ we can instead locally solve\n",
    "$$\n",
    "    \\widehat{q}_t + \\widehat{A}_{i-1/2} \\widehat{q}_x = 0\n",
    "$$\n",
    "such that the matrix $\\widehat{A}_{i-1/2}$ as an appropriate approximation to $f'(q)$ valid in the neighborhood of $x_{i-1/2}$.  We also need to require that $\\widehat{A}_{i-1/2}$ is diagonalizable with real eigenvalues so that we can have some sense that\n",
    "$$\n",
    "    \\widehat{A}_{i-1/2} \\rightarrow f'(\\overline{q}) \\quad \\text{as } Q_{i-1}, Q_i \\rightarrow \\overline{q}\n",
    "$$\n",
    "for consistency."
   ]
  },
  {
   "cell_type": "markdown",
   "metadata": {
    "slideshow": {
     "slide_type": "subslide"
    }
   },
   "source": [
    "One of the reasons that we expect this to work is that for most Riemann solutions the shocks are well isolated.  This implies that the difference from one cell to another\n",
    "$$\n",
    "    ||Q_i - Q_{i-1}|| = \\mathcal{O}(\\Delta x)\n",
    "$$\n",
    "as long as the jump is not large and therefore\n",
    "$$\n",
    "    f'(Q_{i-1}) \\approx f'(Q_i).\n",
    "$$"
   ]
  },
  {
   "cell_type": "markdown",
   "metadata": {
    "slideshow": {
     "slide_type": "subslide"
    }
   },
   "source": [
    "We also know that if $||Q_i - Q_{i-1}|| = \\mathcal{O}(\\Delta x)$ that we expect that the Hugoniot loci and integral curves are similar to the eigenvectors of the system."
   ]
  },
  {
   "cell_type": "markdown",
   "metadata": {
    "slideshow": {
     "slide_type": "subslide"
    }
   },
   "source": [
    "The solution would then be similar to the linear hyperbolic systems we have studied before with the waves determined by the eigenvectors $\\widehat{r}^p_{i-1/2}$ and speeds $s^p_{i-1/2} = \\widehat{\\lambda}^p_{i-1/2}$.  This also allows us to easily identify the waves as\n",
    "$$\n",
    "    Q_i - Q_{i-1} = \\sum^m_{p=1} \\alpha^p_{i-1/2} \\widehat{r}^p_{i-1/2}\n",
    "$$\n",
    "and therefore\n",
    "$$\n",
    "    \\mathcal{W}^p_{i-1/2} = \\alpha^p_{i-1/2} \\widehat{r}^p_{i-1/2}.\n",
    "$$"
   ]
  },
  {
   "cell_type": "markdown",
   "metadata": {
    "slideshow": {
     "slide_type": "subslide"
    }
   },
   "source": [
    "There are of course multiple ways to form this linearized approximation.  In general we could use\n",
    "$$\n",
    "    \\widehat{A}_{i-1/2} = f'(\\overline{Q}_{i-1/2})\n",
    "$$\n",
    "where $\\overline{Q}_{i-1/2}$ is some appropriate \"average state\" dependent on $Q_i$ and $Q_{i-1}$.\n",
    "\n",
    " - What \"average state\" would you propose?\n",
    " - What properties of the solution might not work in general?"
   ]
  },
  {
   "cell_type": "markdown",
   "metadata": {
    "slideshow": {
     "slide_type": "subslide"
    }
   },
   "source": [
    "The most obvious average is the true average of the values\n",
    "$$\n",
    "    \\overline{Q}_{i-1/2} = \\frac{1}{2} (Q_i + Q_{i-1}).\n",
    "$$\n",
    "Although this is consistent this does not imply that the method is consistent unless some form of \n",
    "$$\n",
    "    \\widehat{Q}_{i-1/2} = Q_{i-1} + \\sum_{p:s^p_{i-1/2} < 0} \\mathcal{W}^p_{i-1/2}\n",
    "$$\n",
    "and \n",
    "$$\\begin{aligned}\n",
    "    \\mathcal{A}^- \\Delta Q_{i-1/2} &= f(\\widehat{Q}_{i-1/2}) - f(Q_{i-1}) \\\\\n",
    "    \\mathcal{A}^+ \\Delta Q_{i-1/2} &= f(Q_{i}) - f(\\widehat{Q}_{i-1/2}) \\\\\n",
    "\\end{aligned}$$\n",
    "are satisfied.  Unfortunately\n",
    "$$\\begin{aligned}\n",
    "    \\mathcal{A}^- \\Delta Q_{i-1/2} &= \\sum^{M_w}_{p=1} (s^p_{i-1/2})^- \\mathcal{W}^p_{i-1/2} \\\\\n",
    "    \\mathcal{A}^+ \\Delta Q_{i-1/2} &= \\sum^{M_w}_{p=1} (s^p_{i-1/2})^+ \\mathcal{W}^p_{i-1/2} \\\\\n",
    "\\end{aligned}$$\n",
    "does not guarantee conservation unless we add an additional condition."
   ]
  },
  {
   "cell_type": "markdown",
   "metadata": {
    "slideshow": {
     "slide_type": "subslide"
    }
   },
   "source": [
    "The primary condition we need to ensure for conservation is actually\n",
    "$$\n",
    "    f(Q_i) - f(Q_{i-1}) = \\sum^{M_w}_{p=1} s^p_{i-1/2} \\mathcal{W}^p_{i-1/2},\n",
    "$$\n",
    "which in general is not satisfied for many different forms of $\\overline{Q}_{i-1/2}$."
   ]
  },
  {
   "cell_type": "markdown",
   "metadata": {
    "slideshow": {
     "slide_type": "subslide"
    }
   },
   "source": [
    "Averaging $Q$ values is not the only approach, why not average the flux values with\n",
    "$$\n",
    "    \\widehat{A}_{i-1/2} = \\frac{1}{2}[f'(Q_{i-1}) + f'(Q_i)]\n",
    "$$\n",
    "or perhaps some other average of Jacobian evaluations.  Unfortunately this also does not satisfy the jump in fluxes previously mentioned unless care is taken."
   ]
  },
  {
   "cell_type": "markdown",
   "metadata": {
    "slideshow": {
     "slide_type": "subslide"
    }
   },
   "source": [
    "### Roe Linearization\n",
    "\n",
    "One of the keys to providing a robust linearization is to put some conditions on the linearization and its eigenspace.  The first of these is:\n",
    "\n",
    "> If $Q_{i-1}$ and $Q_i$ are connected by a single wave $\\mathcal{W}^p = Q_i - Q_{i-1}$ in the true Riemann solution, then $\\mathcal{W}^p$ should also be an eigenvector of $\\widehat{A}_{i-1/2}$.\n",
    "\n",
    "If this is true then the approximation will consist of a single wave that agrees with the exact Riemann solution with the strongest solution."
   ]
  },
  {
   "cell_type": "markdown",
   "metadata": {
    "slideshow": {
     "slide_type": "subslide"
    }
   },
   "source": [
    "Another way to say this is that if $Q_i$ and $Q_{i-1}$ are connected by a single wave, then\n",
    "$$\n",
    "    f(Q_i) - f(Q_{i-1}) = s (Q_i - Q_{i-1}).\n",
    "$$\n",
    "If the linearized problem also has this form then\n",
    "$$\n",
    "    \\widehat{A}_{i-1/2} (Q_i - Q_{i-1}) = s (Q_i - Q_{i-1})\n",
    "$$\n",
    "implying\n",
    "$$\n",
    "    \\widehat{A}_{i-1/2} (Q_i - Q_{i-1}) = f(Q_i) - f(Q_{i-1}).\n",
    "$$\n",
    "If this last expression is true then an approximate solver of this form is in fact conservative."
   ]
  },
  {
   "cell_type": "markdown",
   "metadata": {
    "slideshow": {
     "slide_type": "subslide"
    }
   },
   "source": [
    "This can also be shown via\n",
    "$$\n",
    "    \\mathcal{A}^- \\Delta Q_{i-1/2} + \\mathcal{A}^+ \\Delta Q_{i-1/2} = f(Q_i) - f(Q_{i-1}),\n",
    "$$\n",
    "which is implied by the above condition.  Consequently the condition\n",
    "$$\n",
    "    \\widehat{A}_{i-1/2} (Q_i - Q_{i-1}) = f(Q_i) - f(Q_{i-1})\n",
    "$$\n",
    "is often called **Roe's Condition**."
   ]
  },
  {
   "cell_type": "markdown",
   "metadata": {
    "slideshow": {
     "slide_type": "subslide"
    }
   },
   "source": [
    "The practical side of this is that we need to find an average that satisfies this condition.  One way to do this is to think of the problem as finding a path through state space connecting $Q_i$ and $Q_{i-1}$ parameterized by\n",
    "$$\n",
    "    q(\\xi) = Q_{i-1} + (Q_i - Q_{i-1}) \\xi\n",
    "$$\n",
    "for $\\xi \\in [0, 1]$ and require it satisfy Roe's condition."
   ]
  },
  {
   "cell_type": "markdown",
   "metadata": {
    "slideshow": {
     "slide_type": "subslide"
    }
   },
   "source": [
    "Writing this out we then have\n",
    "$$\\begin{aligned}\n",
    "    f(Q_i) - f(Q_{i-1}) &= \\int^1_0 \\frac{\\text{d}}{\\text{d} \\xi} f(q(\\xi)) d\\xi \\\\\n",
    "    &= \\int^1_0 f'(q(\\xi)) q'(\\xi) d\\xi \\\\\n",
    "    &= \\left[ \\int^1_0 f'(q(\\xi)) d\\xi \\right ] (Q_i - Q_{i-1}).\n",
    "\\end{aligned}$$"
   ]
  },
  {
   "cell_type": "markdown",
   "metadata": {
    "slideshow": {
     "slide_type": "subslide"
    }
   },
   "source": [
    "Recalling that we need \n",
    "$$\n",
    "    \\widehat{A}_{i-1/2} (Q_i - Q_{i-1}) = f(Q_i) - f(Q_{i-1})\n",
    "$$\n",
    "this implies that \n",
    "$$\n",
    "    f(Q_i) - f(Q_{i-1}) = \\left[ \\int^1_0 f'(q(\\xi)) d\\xi \\right ] (Q_i - Q_{i-1})\n",
    "$$\n",
    "gives us\n",
    "$$\n",
    "    \\widehat{A}_{i-1/2} = \\int^1_0 f'(q(\\xi)) d\\xi.\n",
    "$$"
   ]
  },
  {
   "cell_type": "markdown",
   "metadata": {
    "slideshow": {
     "slide_type": "subslide"
    }
   },
   "source": [
    "This unfortunately does not guarantee that the resulting matrix $\\widehat{A}_{i-1/2}$ is diagonalizable with real eigenvalues.  The integral itself can also be difficult to evaluate leaving us wanting a better approach."
   ]
  },
  {
   "cell_type": "markdown",
   "metadata": {
    "slideshow": {
     "slide_type": "subslide"
    }
   },
   "source": [
    "Instead Roe proposed a **parameter vector** $z(q)$, effectively a change of variables, that leads not only to easier evaluation of the integrals but also to evaluations that satisfies properties that we want."
   ]
  },
  {
   "cell_type": "markdown",
   "metadata": {
    "slideshow": {
     "slide_type": "subslide"
    }
   },
   "source": [
    "Here we now will integrate along the path\n",
    "$$\n",
    "    z(\\xi) = Z_{i-1} + (Z_i - Z_{i-1}) \\xi\n",
    "$$\n",
    "where $Z_j = z(Q_j)$ for $j=i-1, i$ and therefore $z'(\\xi) = Z_i - Z_{i-1}$ that is independent of $\\xi$.  This implies\n",
    "$$\\begin{aligned}\n",
    "    f(Q_i) - f(Q_{i-1}) &= \\int^1_0 \\frac{\\text{d}}{\\text{d} \\xi} f(z(\\xi)) d\\xi \\\\\n",
    "    &= \\int^1_0 f'(z(\\xi)) z'(\\xi) d\\xi \\\\\n",
    "    &= \\left[ \\int^1_0 f'(z(\\xi)) d\\xi \\right ] (Z_i - Z_{i-1}).\n",
    "\\end{aligned}$$"
   ]
  },
  {
   "cell_type": "markdown",
   "metadata": {
    "slideshow": {
     "slide_type": "subslide"
    }
   },
   "source": [
    "This expression we hope is easier to evaluate but we have no idea what this expression $z(\\xi)$ really is yet.  We can find this by rewriting $z(q)$ as\n",
    "$$\\begin{aligned}\n",
    "    f(Q_i) - f(Q_{i-1}) &= \\widehat{C}_{i-1/2} (Z_i - Z_{i-1}) \\\\\n",
    "    Q_i - Q_{i-1} &= \\widehat{B}_{i-1/2} (Z_i - Z_{i-1})\n",
    "\\end{aligned}$$\n",
    "and therefore observing\n",
    "$$\n",
    "    \\widehat{A}_{i-1/2} = \\widehat{C}_{i-1/2} \\widehat{B}^{-1}_{i-1/2}.\n",
    "$$"
   ]
  },
  {
   "cell_type": "markdown",
   "metadata": {
    "slideshow": {
     "slide_type": "subslide"
    }
   },
   "source": [
    "Harten and Lax showed that this approach will always be able to produce $\\widehat{A}_{i-1/2}$ if the system has a convex entropy.  One can actually also then choose $z(q) = \\eta'(q)$.\n",
    "\n",
    "This being true we still want to ensure that the integrals of interest are easily evaluated, which is best shown by an example. "
   ]
  },
  {
   "cell_type": "markdown",
   "metadata": {
    "slideshow": {
     "slide_type": "subslide"
    }
   },
   "source": [
    "#### Example:  Roe Solver for Shallow Water\n",
    "\n",
    "$$\n",
    "    q = \\begin{bmatrix} h \\\\ hu \\end{bmatrix} = \\begin{bmatrix} q^1 \\\\ q^2 \\end{bmatrix} \\quad f(q) = \\begin{bmatrix} hu \\\\ hu^2 + \\frac{1}{2} gh^2 \\end{bmatrix} = \\begin{bmatrix} q^2 \\\\ \\frac{q^2}{(q^1)^2} + \\frac{1}{2} g (q^1)^2 \\end{bmatrix}\n",
    "$$\n",
    "and\n",
    "$$\n",
    "    f'(q) = \\begin{bmatrix}\n",
    "        0 & 1 \\\\\n",
    "        -\\left(\\frac{q^2}{q^1} \\right)^2 + g q^1 & 2 \\frac{q^2}{q^1}\n",
    "    \\end{bmatrix} = \\begin{bmatrix}\n",
    "        0 & 1 \\\\\n",
    "        -u^2 + g h & 2 u\n",
    "    \\end{bmatrix}\n",
    "$$\n",
    "\n",
    "Choose the parameterization as\n",
    "$$\n",
    "    z = h^{-1/2} q \\quad \\Rightarrow \\quad \\begin{bmatrix} z^1 \\\\ z^2 \\end{bmatrix} = \\begin{bmatrix} \\sqrt{h} \\\\ u \\sqrt{h} \\end{bmatrix}\n",
    "$$\n",
    "\n",
    "See if you can carry this parameterization though and find $\\widehat{A}_{i-1/2}$."
   ]
  },
  {
   "cell_type": "markdown",
   "metadata": {
    "slideshow": {
     "slide_type": "subslide"
    }
   },
   "source": [
    "Taking\n",
    "$$\n",
    "q(z) = \\begin{bmatrix}\n",
    "    (z^1)^2 \\\\ z^1 z^2\n",
    "    \\end{bmatrix} \\quad \\Rightarrow \\quad \n",
    "    \\frac{\\partial q}{\\partial z} = \\begin{bmatrix}\n",
    "        2z^1 & 0 \\\\\n",
    "        z^2 & z^1\n",
    "    \\end{bmatrix}\n",
    "$$\n",
    "and therefore\n",
    "$$\n",
    "    f(z) = \\begin{bmatrix}\n",
    "        z^1 z^2 \\\\\n",
    "        (x^2)^2 + \\frac{1}{2} g (z^1)^4\n",
    "    \\end{bmatrix} \\quad \\Rightarrow \\quad \\frac{\\partial}{\\partial z} f(z) = \\begin{bmatrix}\n",
    "        z^2 & z^1 \\\\\n",
    "        2 g (z^1)^3 & 2 z^2\n",
    "    \\end{bmatrix}\n",
    "$$"
   ]
  },
  {
   "cell_type": "markdown",
   "metadata": {
    "slideshow": {
     "slide_type": "subslide"
    }
   },
   "source": [
    "We now need to integrate from $\\xi = 0 \\ldots 1$ where\n",
    "$$\n",
    "    z^p = Z^p_{i-1} + (Z^p_i - Z^p_{i-1}) \\xi.\n",
    "$$\n",
    "At this point all of our traverses through state space are linear except for one but we are still considering polynomials."
   ]
  },
  {
   "cell_type": "markdown",
   "metadata": {
    "slideshow": {
     "slide_type": "subslide"
    }
   },
   "source": [
    "Integrating the linear terms in our integrals leads us to\n",
    "$$\n",
    "    \\int^1_0 z^p(\\xi) d\\xi = \\frac{1}{2} (Z^p_{i-1} + Z^p_{i}) \\equiv \\overline{Z}^p,\n",
    "$$\n",
    "clearly just the average of the states of the transformed quantities $z(q)$.\n",
    "\n",
    "Integrating the higher order terms we have\n",
    "$$\\begin{aligned}\n",
    "    \\int^1_0 (z^1(\\xi))^3 d\\xi &= \\frac{1}{4} \\left( \\frac{(Z^1_i)^4 - (Z^1_{i-1})^4}{Z^1_i - Z^1_{i-1}} \\right) \\\\\n",
    "    &= \\frac{1}{2}(Z^1_{i-1} + Z^1_i) \\cdot \\frac{1}{2} \\left [ (Z^1_{i-1})^2 + (Z^1_i)^2 \\right ] \\\\\n",
    "    &= \\overline{Z}^1 \\overline{h},\n",
    "\\end{aligned}$$\n",
    "where\n",
    "$$\n",
    "    \\overline{h} = \\frac{1}{2} (h_{i-1} + h_i).\n",
    "$$"
   ]
  },
  {
   "cell_type": "markdown",
   "metadata": {
    "slideshow": {
     "slide_type": "subslide"
    }
   },
   "source": [
    "From this we obtain\n",
    "$$\n",
    "    \\widehat{B}_{i-1/2} = \\begin{bmatrix}\n",
    "        2 \\overline{Z}^1 & 0 \\\\\n",
    "        \\overline{Z}^2 & \\overline{Z}^1\n",
    "    \\end{bmatrix}\n",
    "$$\n",
    "and\n",
    "$$\n",
    "    \\widehat{C}_{i-1/2} = \\begin{bmatrix}\n",
    "        \\overline{Z}^2 & \\overline{Z}^1 \\\\\n",
    "        2 g \\overline{Z}^1 \\overline{h} & 2 \\overline{Z}^2\n",
    "    \\end{bmatrix}.\n",
    "$$"
   ]
  },
  {
   "cell_type": "markdown",
   "metadata": {
    "slideshow": {
     "slide_type": "subslide"
    }
   },
   "source": [
    "$$\n",
    "    \\widehat{B}_{i-1/2} = \\begin{bmatrix}\n",
    "        2 \\overline{Z}^1 & 0 \\\\\n",
    "        \\overline{Z}^2 & \\overline{Z}^1\n",
    "    \\end{bmatrix} \\quad \\quad\n",
    "    \\widehat{C}_{i-1/2} = \\begin{bmatrix}\n",
    "        \\overline{Z}^2 & \\overline{Z}^1 \\\\\n",
    "        2 g \\overline{Z}^1 \\overline{h} & 2 \\overline{Z}^2\n",
    "    \\end{bmatrix}\n",
    "$$\n",
    "\n",
    "Therefore\n",
    "$$\n",
    "    \\widehat{A}_{i-1/2} = \\widehat{C}_{i-1/2} \\widehat{C}^{-1}_{i-1/2} = \\begin{bmatrix}\n",
    "        0 & 1 \\\\\n",
    "        -\\left(\\frac{\\overline{Z}^2}{\\overline{Z}^1} \\right)^2 + g \\overline{h} & 2 \\frac{\\overline{Z}^2}{\\overline{Z}^1}\n",
    "    \\end{bmatrix} = \\begin{bmatrix}\n",
    "        0 & 1\\\\\n",
    "        -\\widehat{u}^2 + g \\overline{h} & 2 \\widehat{u}\n",
    "    \\end{bmatrix}\n",
    "$$\n",
    "where\n",
    "$$\n",
    "    \\overline{h} = \\frac{1}{2} (h_{i-1} + h_i)\n",
    "$$\n",
    "and\n",
    "$$\n",
    "    \\widehat{u} = \\frac{\\overline{Z}^2}{\\overline{Z}^1} = \\frac{u_{i-1} \\sqrt{h_{i-1}} + u_i \\sqrt{h_i}}{\\sqrt{h_{i-1}} + \\sqrt{h_i}}\n",
    "$$"
   ]
  },
  {
   "cell_type": "markdown",
   "metadata": {
    "slideshow": {
     "slide_type": "subslide"
    }
   },
   "source": [
    "### Sonic Entropy Fixes\n",
    "\n",
    "One of the biggest drawbacks to a Roe linearized Riemann solver is that the solution formally only consists of shocks."
   ]
  },
  {
   "cell_type": "markdown",
   "metadata": {
    "slideshow": {
     "slide_type": "subslide"
    }
   },
   "source": [
    "Even in the scalar case the Roe condition can be satisfied by\n",
    "$$\n",
    "    \\widehat{\\mathcal{A}}_{i-1/2} = \\frac{f(Q_i) - f(Q_{i-1})}{Q_i - Q_{i-1}}\n",
    "$$\n",
    "where here $\\widehat{\\mathcal{A}}_{i-1/2}$ is a scalar.  This is of course the shock speed.\n",
    "\n",
    "As mentioned before numerically this is only a problem for transonic rarefactions where\n",
    "$$\n",
    "    f'(q_\\ell) < 0 < f'(q_r)\n",
    "$$\n",
    "for the scalar case (these are of course the edges of the rarefaction wave).\n",
    "The same holds true for systems of equations when a particular wave is a transonic rarefaction."
   ]
  },
  {
   "cell_type": "markdown",
   "metadata": {
    "slideshow": {
     "slide_type": "subslide"
    }
   },
   "source": [
    "For the shallow water equations we can easily check if one of the two waves is a transonic rarefaction with the following computation:\n",
    "$$\\begin{aligned}\n",
    "    \\lambda^1_{i-1} = u_{i-1} - \\sqrt{g h_{i-1}} & & \\lambda^1_m = u_m - \\sqrt{g h_m} \\\\\n",
    "    \\lambda^2_{m} = u_{m} - \\sqrt{g h_{m}} & & \\lambda^2_i = u_i - \\sqrt{g h_i}.\n",
    "\\end{aligned}$$\n",
    "Similar to the previous condition if any of these values in a row are separated by zero then we know we have a transonic rarefaction.\n",
    "\n",
    "The biggest impediment to using these conditions is that we need to know $q_m$."
   ]
  },
  {
   "cell_type": "markdown",
   "metadata": {
    "slideshow": {
     "slide_type": "subslide"
    }
   },
   "source": [
    "For simple systems this may not be too hard a burden as we know that if there is a transonic rarefaction there can be only one.  Assuming there is one we can use the simplification that we need to know $\\xi = x/t = 0$.  For instance in the 1-rarefaction case we know\n",
    "$$\\begin{aligned}\n",
    "    \\widehat{h}_{i-1/2} &= \\frac{\\left(u_{i-1} + 2 \\sqrt{g h_{i-1}} \\right)^2}{9g} \\\\\n",
    "    \\widehat{u}_{i-1/2} &= u_{i-1} - 2 \\left( \\sqrt{g h_{i-1}} - \\sqrt{g \\widehat{h}_{i-1/2}} \\right)\n",
    "\\end{aligned}$$"
   ]
  },
  {
   "cell_type": "markdown",
   "metadata": {
    "slideshow": {
     "slide_type": "subslide"
    }
   },
   "source": [
    "#### Harten-Hyman Entropy Fix\n",
    "\n",
    "A easier and more general approach to entropy fixes is due to Harten and Hyman and is generally the approach used in many Clawpack solvers.\n",
    "\n",
    "The principle approach is this, suppose that a transonic rarefaction exists in the $k$-family and therefore \n",
    "$$\n",
    "    \\lambda^k_\\ell < 0 < \\lambda^k_r\n",
    "$$ \n",
    "and with\n",
    "$$\\begin{aligned}\n",
    "    q^k_\\ell &= Q_{i-1} + \\sum^{k-1}_{p=1} \\mathcal{W}^p \\\\\n",
    "    q^k_r &= q_\\ell^k + \\mathcal{W}^k,\n",
    "\\end{aligned}$$\n",
    "in other words the state to the left and right of the rarefaction."
   ]
  },
  {
   "cell_type": "markdown",
   "metadata": {
    "slideshow": {
     "slide_type": "subslide"
    }
   },
   "source": [
    "Now replace the single wave $\\mathcal{W}^k$ propagating with speed $\\widehat{\\lambda}^l$ by two waves\n",
    "$$\n",
    "    \\mathcal{W}^k_\\ell = \\beta \\mathcal{W}^k \\quad \\mathcal{W}^k_r = (1 - \\beta) \\mathcal{W}^k\n",
    "$$\n",
    "propagating at speeds $\\lambda^k_\\ell$ and $\\lambda^k_r$ respectively.  Maintaining conservation requires\n",
    "$$\n",
    "    \\lambda^l_\\ell \\mathcal{W}^k_\\ell + \\lambda^k_r \\mathcal{W}^k_r = \\widehat{\\lambda}^k \\mathcal{W}^k\n",
    "$$\n",
    "and therefore\n",
    "$$\n",
    "    \\beta = \\frac{\\lambda^k_r - \\widehat{\\lambda}^k}{\\lambda^k_r - \\lambda^k_\\ell}.\n",
    "$$\n",
    "This amounts to splitting the wave into two pieces traveling to the left and right and therefore modifying the fluctuations $\\mathcal{A}^\\pm \\Delta Q$."
   ]
  },
  {
   "cell_type": "markdown",
   "metadata": {
    "slideshow": {
     "slide_type": "subslide"
    }
   },
   "source": [
    "#### Numerical Viscosity\n",
    "\n",
    "One way to view the entropy problem as mentioned before is that not enough viscosity is being introduced into the solution.  Numerical viscosity can solve this for us and we can modify Roe's linearization to account for this."
   ]
  },
  {
   "cell_type": "markdown",
   "metadata": {
    "slideshow": {
     "slide_type": "subslide"
    }
   },
   "source": [
    "The numerical flux for Roe's method is\n",
    "$$\\begin{aligned}\n",
    "    F_{i-1/2} &= \\frac{1}{2} [f(Q_{i-1}) + f(Q_i) ] - \\frac{1}{2} \\left | \\widehat{A}_{i-1/2} \\right | (Q_i - Q_{i-1}) \\\\\n",
    "    &=\\frac{1}{2} [f(Q_{i-1}) + f(Q_i) ] - \\frac{1}{2} \\sum_p \\left | \\widehat{\\lambda}^p_{i-1/2} \\right | \\mathcal{W}^p_{i-1/2}.\n",
    "\\end{aligned}$$\n",
    "The sum in the last expression can be looked upon as being a form of viscosity.\n",
    "\n",
    "If a transonic rarefaction is present then we expect that one of the eigenvalues $\\widehat{\\lambda}^p_{i-1/2}$ is very close to zero and the corresponding term in the last sum will see very little viscosity.  This is in fact often what we observe, a stationary shock where there should be none since the corresponding speed is identically zero."
   ]
  },
  {
   "cell_type": "code",
   "execution_count": null,
   "metadata": {
    "slideshow": {
     "slide_type": "skip"
    }
   },
   "outputs": [],
   "source": [
    "def true_solution(x, t):\n",
    "    if t > 0:\n",
    "        t_vec = t * numpy.ones(x.shape)\n",
    "        return (x < 0) * -numpy.ones(x.shape) + \\\n",
    "           (-t_vec < x) * (x <= 0) * (x / t_vec + 1) + \\\n",
    "           (0 <= x) * (x <= 2*t_vec) * x / t_vec + \\\n",
    "           (2 * t_vec <= x) * 2.0 * numpy.ones(x.shape)\n",
    "    else:\n",
    "        return (x < 0) * -numpy.ones(x.shape) + \\\n",
    "           (0.0 <= x) * 2.0 * numpy.ones(x.shape)\n",
    "\n",
    "def burgers_animation(order=2, efix=True):\n",
    "   \n",
    "    solver = pyclaw.ClawSolver1D(riemann.burgers_1D_py.burgers_1D)\n",
    "    solver.kernel_language = \"Python\"\n",
    "    \n",
    "    solver.limiters = pyclaw.limiters.tvd.MC\n",
    "    solver.bc_lower[0] = pyclaw.BC.extrap\n",
    "    solver.bc_upper[0] = pyclaw.BC.extrap\n",
    "    solver.order = order\n",
    "\n",
    "    x = pyclaw.Dimension(-3.0, 3.0, 50, name='x')\n",
    "    domain = pyclaw.Domain(x)\n",
    "    num_eqn = 1\n",
    "    state = pyclaw.State(domain, num_eqn)\n",
    "    xc = domain.grid.x.centers\n",
    "    state.q[0,:] = (xc < 0) * -numpy.ones(xc.shape) + 2.0 * (xc >= 0) * numpy.ones(xc.shape)\n",
    "    state.problem_data['efix'] = efix\n",
    "\n",
    "    claw = pyclaw.Controller()\n",
    "    claw.tfinal = 1.0\n",
    "    claw.num_output_times   = 10\n",
    "    claw.solution = pyclaw.Solution(state,domain)\n",
    "    claw.solver = solver\n",
    "\n",
    "    claw.keep_copy = True\n",
    "    claw.run()\n",
    "    x = claw.frames[0].grid.dimensions[0].centers\n",
    "    \n",
    "    fig = plt.figure()\n",
    "    axes = plt.subplot(1, 1, 1)\n",
    "    axes.set_xlim((x[0], x[-1]))\n",
    "    axes.set_ylim((-1.5, 2.5))\n",
    "    axes.set_title(\"Burgers Equation\")\n",
    "    \n",
    "    def init():\n",
    "        axes.set_xlim((x[0], x[-1]))\n",
    "        axes.set_ylim((-1.5, 2.5))\n",
    "        computed_line, = axes.plot(x[0], claw.frames[0].q[0, :][0], 'bo-')\n",
    "        true_line, = axes.plot(x[0], claw.frames[0].q[0, :][0], 'k-')\n",
    "        return (computed_line, true_line)\n",
    "    \n",
    "    computed_line, true_line = init()\n",
    "    \n",
    "    def fplot(n):\n",
    "        computed_line.set_data([x,], [claw.frames[n].q[0, :]])\n",
    "        true_line.set_data([x,], [true_solution(x, claw.frames[n].t)])\n",
    "        return (computed_line, true_line)\n",
    "\n",
    "    frames_to_plot = range(0, len(claw.frames))\n",
    "    plt.close(fig)\n",
    "    return matplotlib.animation.FuncAnimation(fig, fplot, frames=frames_to_plot, interval=100,\n",
    "                                   blit=True, init_func=init, repeat=False)"
   ]
  },
  {
   "cell_type": "code",
   "execution_count": null,
   "metadata": {
    "scrolled": true,
    "slideshow": {
     "slide_type": "subslide"
    }
   },
   "outputs": [],
   "source": [
    "HTML(burgers_animation(order=1, efix=False).to_jshtml())"
   ]
  },
  {
   "cell_type": "markdown",
   "metadata": {
    "slideshow": {
     "slide_type": "subslide"
    }
   },
   "source": [
    "If we implement the above idea instead using the wave-propagation formulation and $\\mathcal{A}^\\pm \\Delta Q$ we get an additional detail with the numerical flux written as\n",
    "$$\n",
    "    F_{i-1/2} = \\frac{1}{2} [f(Q_{i-1}) + f(Q_i) ] - \\frac{1}{2} \\sum_p \\left [ (\\widehat{\\lambda}^p_{i-1/2})^+ - (\\widehat{\\lambda}^p_{i-1/2})^- \\right ] \\mathcal{W}^p_{i-1/2}\n",
    "$$\n",
    "that allows us to apply the Harten-Hyman entropy fix."
   ]
  },
  {
   "cell_type": "markdown",
   "metadata": {
    "slideshow": {
     "slide_type": "subslide"
    }
   },
   "source": [
    "#### Harten's Entropy Fix\n",
    "\n",
    "Another entropy fix proposed by Harten is based on increasing the viscosity only by modifying the field that contains the eigenvalue that may be too close to zero.  This follows that we replace $|\\widehat{\\lambda}^p_{i-1/2})|$ by a limited value\n",
    "$$\n",
    "    \\phi_\\delta(\\widehat{\\lambda}^p_{i-1/2}))\n",
    "$$\n",
    "where\n",
    "$$\n",
    "    \\phi_\\delta(\\lambda) = \\left \\{ \\begin{aligned}\n",
    "    &|\\lambda| & & \\text{if } \\lambda \\geq \\delta \\\\\n",
    "    &\\frac{\\lambda^2 + \\delta^2}{2 \\delta} & & \\text{if } \\lambda < \\delta\n",
    "    \\end{aligned} \\right .\n",
    "$$\n",
    "which effectively changes the absolute value in the original Roe flux to be perturbed from zero.  Unfortunately this approach requires tuning the parameter $\\delta$ for each problem."
   ]
  },
  {
   "cell_type": "markdown",
   "metadata": {
    "slideshow": {
     "slide_type": "subslide"
    }
   },
   "source": [
    "### Failure of Linearized Solvers"
   ]
  },
  {
   "cell_type": "markdown",
   "metadata": {
    "slideshow": {
     "slide_type": "subslide"
    }
   },
   "source": [
    "### HLL and HLLE Solvers"
   ]
  },
  {
   "cell_type": "markdown",
   "metadata": {
    "slideshow": {
     "slide_type": "slide"
    }
   },
   "source": [
    "## High-Resolution Methods"
   ]
  },
  {
   "cell_type": "markdown",
   "metadata": {
    "slideshow": {
     "slide_type": "slide"
    }
   },
   "source": [
    "## Alternative Wave-Propagation Implementations for Approximate Riemann Solvers"
   ]
  },
  {
   "cell_type": "markdown",
   "metadata": {
    "slideshow": {
     "slide_type": "slide"
    }
   },
   "source": [
    "## Second-Order Accuracy"
   ]
  },
  {
   "cell_type": "markdown",
   "metadata": {
    "slideshow": {
     "slide_type": "slide"
    }
   },
   "source": [
    "## Total Variation for Systems"
   ]
  },
  {
   "cell_type": "markdown",
   "metadata": {
    "slideshow": {
     "slide_type": "subslide"
    }
   },
   "source": [
    "### Total Variation Estimates for Linear Systems"
   ]
  },
  {
   "cell_type": "markdown",
   "metadata": {
    "slideshow": {
     "slide_type": "subslide"
    }
   },
   "source": [
    "### Wave-Strength Estimates for Nonlinear Systems"
   ]
  },
  {
   "cell_type": "markdown",
   "metadata": {
    "slideshow": {
     "slide_type": "subslide"
    }
   },
   "source": [
    "### Glimm's Random-Choice Method"
   ]
  },
  {
   "cell_type": "markdown",
   "metadata": {
    "slideshow": {
     "slide_type": "subslide"
    }
   },
   "source": [
    "### Oscillation in Shock Computations"
   ]
  },
  {
   "cell_type": "markdown",
   "metadata": {
    "slideshow": {
     "slide_type": "subslide"
    }
   },
   "source": [
    "#### Start-Up Errors"
   ]
  },
  {
   "cell_type": "markdown",
   "metadata": {
    "slideshow": {
     "slide_type": "subslide"
    }
   },
   "source": [
    "#### Slow-Moving Shocks"
   ]
  }
 ],
 "metadata": {
  "celltoolbar": "Slideshow",
  "kernelspec": {
   "display_name": "Python 3",
   "language": "python",
   "name": "python3"
  },
  "language_info": {
   "codemirror_mode": {
    "name": "ipython",
    "version": 3
   },
   "file_extension": ".py",
   "mimetype": "text/x-python",
   "name": "python",
   "nbconvert_exporter": "python",
   "pygments_lexer": "ipython3",
   "version": "3.7.4"
  }
 },
 "nbformat": 4,
 "nbformat_minor": 2
}
